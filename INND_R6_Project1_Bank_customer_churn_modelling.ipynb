{
  "nbformat": 4,
  "nbformat_minor": 0,
  "metadata": {
    "colab": {
      "name": "INND_R6_Project1.Bank customer churn modelling.ipynb",
      "provenance": [],
      "collapsed_sections": []
    },
    "kernelspec": {
      "name": "python3",
      "display_name": "Python 3"
    }
  },
  "cells": [
    {
      "cell_type": "code",
      "metadata": {
        "id": "CSLJ7kvIY1fk"
      },
      "source": [
        "%matplotlib inline\n",
        "\n",
        "\n",
        "import tensorflow as tf\n",
        "from tensorflow.keras.datasets import mnist\n",
        "from tensorflow.keras import Sequential\n",
        "from tensorflow.keras.layers import Dense, Dropout\n",
        "from tensorflow.keras.optimizers import RMSprop\n",
        "from tensorflow.keras.callbacks import EarlyStopping\n",
        "from tensorflow.keras.layers import BatchNormalization\n",
        "from tensorflow.keras import layers\n",
        "from tensorflow.keras import optimizers\n",
        "from tensorflow.keras.activations import relu\n",
        "import pandas as pd\n",
        "import matplotlib.pyplot as plt"
      ],
      "execution_count": 121,
      "outputs": []
    },
    {
      "cell_type": "code",
      "metadata": {
        "colab": {
          "base_uri": "https://localhost:8080/"
        },
        "id": "0u8tsvtqZfuA",
        "outputId": "64192905-6ff2-4d29-f236-0705916127c0"
      },
      "source": [
        "from google.colab import drive\n",
        "drive.mount('/content/drive')"
      ],
      "execution_count": 122,
      "outputs": [
        {
          "output_type": "stream",
          "text": [
            "Drive already mounted at /content/drive; to attempt to forcibly remount, call drive.mount(\"/content/drive\", force_remount=True).\n"
          ],
          "name": "stdout"
        }
      ]
    },
    {
      "cell_type": "code",
      "metadata": {
        "id": "e_888SuJbkjB"
      },
      "source": [
        "\n",
        "# Read in Bank Customer Chrun data\n",
        "\n",
        "Customer_df = pd.read_csv('/content/drive/My Drive/Churn_Modelling.csv')\n"
      ],
      "execution_count": 123,
      "outputs": []
    },
    {
      "cell_type": "code",
      "metadata": {
        "id": "njGwh4enriEk"
      },
      "source": [
        "\n",
        "# Dropping the unique fields\n",
        "Customer_df.drop([\"RowNumber\",\"Surname\",\"CustomerId\"],axis=1,inplace=True)\n"
      ],
      "execution_count": 124,
      "outputs": []
    },
    {
      "cell_type": "code",
      "metadata": {
        "id": "nP2Turejzb8o"
      },
      "source": [
        "\n",
        "\n",
        "from sklearn.preprocessing import LabelEncoder\n",
        "#from sklearn.preprocessing import OneHotEncoder\n",
        "\n",
        "# creating instance of labelencoder\n",
        "labelencoder = LabelEncoder()\n",
        "#enc = OneHotEncoder(handle_unknown='ignore')"
      ],
      "execution_count": 125,
      "outputs": []
    },
    {
      "cell_type": "code",
      "metadata": {
        "id": "WSt3B9qJ1mna"
      },
      "source": [
        "\n",
        "Customer_df['Gender'] = labelencoder.fit_transform(Customer_df['Gender'])\n",
        "\n",
        "\n",
        "#X_train = enc.fit(X_train)"
      ],
      "execution_count": 126,
      "outputs": []
    },
    {
      "cell_type": "code",
      "metadata": {
        "colab": {
          "base_uri": "https://localhost:8080/",
          "height": 195
        },
        "id": "rz04GlKer-lY",
        "outputId": "6fff96e8-07fe-4337-d452-6fd48cf00b72"
      },
      "source": [
        "Customer_df.head()"
      ],
      "execution_count": 127,
      "outputs": [
        {
          "output_type": "execute_result",
          "data": {
            "text/html": [
              "<div>\n",
              "<style scoped>\n",
              "    .dataframe tbody tr th:only-of-type {\n",
              "        vertical-align: middle;\n",
              "    }\n",
              "\n",
              "    .dataframe tbody tr th {\n",
              "        vertical-align: top;\n",
              "    }\n",
              "\n",
              "    .dataframe thead th {\n",
              "        text-align: right;\n",
              "    }\n",
              "</style>\n",
              "<table border=\"1\" class=\"dataframe\">\n",
              "  <thead>\n",
              "    <tr style=\"text-align: right;\">\n",
              "      <th></th>\n",
              "      <th>CreditScore</th>\n",
              "      <th>Geography</th>\n",
              "      <th>Gender</th>\n",
              "      <th>Age</th>\n",
              "      <th>Tenure</th>\n",
              "      <th>Balance</th>\n",
              "      <th>NumOfProducts</th>\n",
              "      <th>HasCrCard</th>\n",
              "      <th>IsActiveMember</th>\n",
              "      <th>EstimatedSalary</th>\n",
              "      <th>Exited</th>\n",
              "    </tr>\n",
              "  </thead>\n",
              "  <tbody>\n",
              "    <tr>\n",
              "      <th>0</th>\n",
              "      <td>619</td>\n",
              "      <td>France</td>\n",
              "      <td>0</td>\n",
              "      <td>42</td>\n",
              "      <td>2</td>\n",
              "      <td>0.00</td>\n",
              "      <td>1</td>\n",
              "      <td>1</td>\n",
              "      <td>1</td>\n",
              "      <td>101348.88</td>\n",
              "      <td>1</td>\n",
              "    </tr>\n",
              "    <tr>\n",
              "      <th>1</th>\n",
              "      <td>608</td>\n",
              "      <td>Spain</td>\n",
              "      <td>0</td>\n",
              "      <td>41</td>\n",
              "      <td>1</td>\n",
              "      <td>83807.86</td>\n",
              "      <td>1</td>\n",
              "      <td>0</td>\n",
              "      <td>1</td>\n",
              "      <td>112542.58</td>\n",
              "      <td>0</td>\n",
              "    </tr>\n",
              "    <tr>\n",
              "      <th>2</th>\n",
              "      <td>502</td>\n",
              "      <td>France</td>\n",
              "      <td>0</td>\n",
              "      <td>42</td>\n",
              "      <td>8</td>\n",
              "      <td>159660.80</td>\n",
              "      <td>3</td>\n",
              "      <td>1</td>\n",
              "      <td>0</td>\n",
              "      <td>113931.57</td>\n",
              "      <td>1</td>\n",
              "    </tr>\n",
              "    <tr>\n",
              "      <th>3</th>\n",
              "      <td>699</td>\n",
              "      <td>France</td>\n",
              "      <td>0</td>\n",
              "      <td>39</td>\n",
              "      <td>1</td>\n",
              "      <td>0.00</td>\n",
              "      <td>2</td>\n",
              "      <td>0</td>\n",
              "      <td>0</td>\n",
              "      <td>93826.63</td>\n",
              "      <td>0</td>\n",
              "    </tr>\n",
              "    <tr>\n",
              "      <th>4</th>\n",
              "      <td>850</td>\n",
              "      <td>Spain</td>\n",
              "      <td>0</td>\n",
              "      <td>43</td>\n",
              "      <td>2</td>\n",
              "      <td>125510.82</td>\n",
              "      <td>1</td>\n",
              "      <td>1</td>\n",
              "      <td>1</td>\n",
              "      <td>79084.10</td>\n",
              "      <td>0</td>\n",
              "    </tr>\n",
              "  </tbody>\n",
              "</table>\n",
              "</div>"
            ],
            "text/plain": [
              "   CreditScore Geography  Gender  ...  IsActiveMember  EstimatedSalary  Exited\n",
              "0          619    France       0  ...               1        101348.88       1\n",
              "1          608     Spain       0  ...               1        112542.58       0\n",
              "2          502    France       0  ...               0        113931.57       1\n",
              "3          699    France       0  ...               0         93826.63       0\n",
              "4          850     Spain       0  ...               1         79084.10       0\n",
              "\n",
              "[5 rows x 11 columns]"
            ]
          },
          "metadata": {
            "tags": []
          },
          "execution_count": 127
        }
      ]
    },
    {
      "cell_type": "code",
      "metadata": {
        "id": "gSuYf9LHsQoF"
      },
      "source": [
        "from sklearn.preprocessing import OneHotEncoder\n",
        "\n",
        "enc = OneHotEncoder(handle_unknown='ignore')"
      ],
      "execution_count": 128,
      "outputs": []
    },
    {
      "cell_type": "code",
      "metadata": {
        "id": "n-K2B4o3sC0d"
      },
      "source": [
        "# passing bridge-types-cat column (label encoded values of bridge_types)\n",
        "enc_df = pd.DataFrame(enc.fit_transform(Customer_df[['Geography']]).toarray())\n",
        "# merge with main df bridge_df on key values\n",
        "Customer_df = Customer_df.join(enc_df)\n"
      ],
      "execution_count": 129,
      "outputs": []
    },
    {
      "cell_type": "code",
      "metadata": {
        "colab": {
          "base_uri": "https://localhost:8080/",
          "height": 195
        },
        "id": "EdfBM-QztKnb",
        "outputId": "d296c460-9364-4a6e-f86f-8ac55c4482e4"
      },
      "source": [
        "Customer_df.head()"
      ],
      "execution_count": 130,
      "outputs": [
        {
          "output_type": "execute_result",
          "data": {
            "text/html": [
              "<div>\n",
              "<style scoped>\n",
              "    .dataframe tbody tr th:only-of-type {\n",
              "        vertical-align: middle;\n",
              "    }\n",
              "\n",
              "    .dataframe tbody tr th {\n",
              "        vertical-align: top;\n",
              "    }\n",
              "\n",
              "    .dataframe thead th {\n",
              "        text-align: right;\n",
              "    }\n",
              "</style>\n",
              "<table border=\"1\" class=\"dataframe\">\n",
              "  <thead>\n",
              "    <tr style=\"text-align: right;\">\n",
              "      <th></th>\n",
              "      <th>CreditScore</th>\n",
              "      <th>Geography</th>\n",
              "      <th>Gender</th>\n",
              "      <th>Age</th>\n",
              "      <th>Tenure</th>\n",
              "      <th>Balance</th>\n",
              "      <th>NumOfProducts</th>\n",
              "      <th>HasCrCard</th>\n",
              "      <th>IsActiveMember</th>\n",
              "      <th>EstimatedSalary</th>\n",
              "      <th>Exited</th>\n",
              "      <th>0</th>\n",
              "      <th>1</th>\n",
              "      <th>2</th>\n",
              "    </tr>\n",
              "  </thead>\n",
              "  <tbody>\n",
              "    <tr>\n",
              "      <th>0</th>\n",
              "      <td>619</td>\n",
              "      <td>France</td>\n",
              "      <td>0</td>\n",
              "      <td>42</td>\n",
              "      <td>2</td>\n",
              "      <td>0.00</td>\n",
              "      <td>1</td>\n",
              "      <td>1</td>\n",
              "      <td>1</td>\n",
              "      <td>101348.88</td>\n",
              "      <td>1</td>\n",
              "      <td>1.0</td>\n",
              "      <td>0.0</td>\n",
              "      <td>0.0</td>\n",
              "    </tr>\n",
              "    <tr>\n",
              "      <th>1</th>\n",
              "      <td>608</td>\n",
              "      <td>Spain</td>\n",
              "      <td>0</td>\n",
              "      <td>41</td>\n",
              "      <td>1</td>\n",
              "      <td>83807.86</td>\n",
              "      <td>1</td>\n",
              "      <td>0</td>\n",
              "      <td>1</td>\n",
              "      <td>112542.58</td>\n",
              "      <td>0</td>\n",
              "      <td>0.0</td>\n",
              "      <td>0.0</td>\n",
              "      <td>1.0</td>\n",
              "    </tr>\n",
              "    <tr>\n",
              "      <th>2</th>\n",
              "      <td>502</td>\n",
              "      <td>France</td>\n",
              "      <td>0</td>\n",
              "      <td>42</td>\n",
              "      <td>8</td>\n",
              "      <td>159660.80</td>\n",
              "      <td>3</td>\n",
              "      <td>1</td>\n",
              "      <td>0</td>\n",
              "      <td>113931.57</td>\n",
              "      <td>1</td>\n",
              "      <td>1.0</td>\n",
              "      <td>0.0</td>\n",
              "      <td>0.0</td>\n",
              "    </tr>\n",
              "    <tr>\n",
              "      <th>3</th>\n",
              "      <td>699</td>\n",
              "      <td>France</td>\n",
              "      <td>0</td>\n",
              "      <td>39</td>\n",
              "      <td>1</td>\n",
              "      <td>0.00</td>\n",
              "      <td>2</td>\n",
              "      <td>0</td>\n",
              "      <td>0</td>\n",
              "      <td>93826.63</td>\n",
              "      <td>0</td>\n",
              "      <td>1.0</td>\n",
              "      <td>0.0</td>\n",
              "      <td>0.0</td>\n",
              "    </tr>\n",
              "    <tr>\n",
              "      <th>4</th>\n",
              "      <td>850</td>\n",
              "      <td>Spain</td>\n",
              "      <td>0</td>\n",
              "      <td>43</td>\n",
              "      <td>2</td>\n",
              "      <td>125510.82</td>\n",
              "      <td>1</td>\n",
              "      <td>1</td>\n",
              "      <td>1</td>\n",
              "      <td>79084.10</td>\n",
              "      <td>0</td>\n",
              "      <td>0.0</td>\n",
              "      <td>0.0</td>\n",
              "      <td>1.0</td>\n",
              "    </tr>\n",
              "  </tbody>\n",
              "</table>\n",
              "</div>"
            ],
            "text/plain": [
              "   CreditScore Geography  Gender  Age  ...  Exited    0    1    2\n",
              "0          619    France       0   42  ...       1  1.0  0.0  0.0\n",
              "1          608     Spain       0   41  ...       0  0.0  0.0  1.0\n",
              "2          502    France       0   42  ...       1  1.0  0.0  0.0\n",
              "3          699    France       0   39  ...       0  1.0  0.0  0.0\n",
              "4          850     Spain       0   43  ...       0  0.0  0.0  1.0\n",
              "\n",
              "[5 rows x 14 columns]"
            ]
          },
          "metadata": {
            "tags": []
          },
          "execution_count": 130
        }
      ]
    },
    {
      "cell_type": "code",
      "metadata": {
        "id": "LyPyYSGUtkpB"
      },
      "source": [
        "\n",
        "# dropping Geography field which has been converted int ocategorical\n",
        "Customer_df.drop([\"Geography\"],axis=1,inplace=True)"
      ],
      "execution_count": 131,
      "outputs": []
    },
    {
      "cell_type": "code",
      "metadata": {
        "id": "qz4bP8K71twb"
      },
      "source": [
        "\n",
        "\n",
        "# Import `train_test_split` from `sklearn.model_selection`\n",
        "from sklearn.model_selection import train_test_split\n",
        "\n",
        "# Splitting teh data into x and y\n",
        "Y = Customer_df['Exited']\n",
        "X=Customer_df.iloc[:,0:11]\n",
        "\n",
        "\n",
        "\n",
        "# Split the data up in train and test sets\n",
        "X_train, X_test, Y_train, Y_test = train_test_split(X, Y, test_size=0.30, random_state=42)\n"
      ],
      "execution_count": 132,
      "outputs": []
    },
    {
      "cell_type": "code",
      "metadata": {
        "id": "v1e1bBC8x_JW"
      },
      "source": [
        "# Standarization\n",
        "\n",
        "\n",
        "#from sklearn.preprocessing import StandardScaler\n",
        "\n",
        "#scaler = StandardScaler()\n",
        "\n",
        "#X_train = scaler.fit_transform(X_train)\n",
        "#X_test = scaler.transform(X_test)\n"
      ],
      "execution_count": 133,
      "outputs": []
    },
    {
      "cell_type": "code",
      "metadata": {
        "colab": {
          "base_uri": "https://localhost:8080/"
        },
        "id": "j1LfqXfjOd7L",
        "outputId": "7a559920-37e3-4c11-c0cc-30a3c445b1a7"
      },
      "source": [
        "X_train.shape, X_test.shape"
      ],
      "execution_count": 134,
      "outputs": [
        {
          "output_type": "execute_result",
          "data": {
            "text/plain": [
              "((7000, 11), (3000, 11))"
            ]
          },
          "metadata": {
            "tags": []
          },
          "execution_count": 134
        }
      ]
    },
    {
      "cell_type": "markdown",
      "metadata": {
        "id": "wCI3vl7UzxgX"
      },
      "source": [
        "Normalization of Data"
      ]
    },
    {
      "cell_type": "code",
      "metadata": {
        "id": "126QecJUyHcD"
      },
      "source": [
        "#Normalization\n",
        "from sklearn import preprocessing\n",
        "\n",
        "# normalize the data attributes\n",
        "X_train = preprocessing.normalize(X_train)\n",
        "X_test = preprocessing.normalize(X_test)\n"
      ],
      "execution_count": 135,
      "outputs": []
    },
    {
      "cell_type": "code",
      "metadata": {
        "colab": {
          "base_uri": "https://localhost:8080/"
        },
        "id": "Tzx6y27tnPD6",
        "outputId": "a9892905-4364-4b57-d787-a63b4f30c22d"
      },
      "source": [
        "X_train.shape, X_test.shape"
      ],
      "execution_count": 136,
      "outputs": [
        {
          "output_type": "execute_result",
          "data": {
            "text/plain": [
              "((7000, 11), (3000, 11))"
            ]
          },
          "metadata": {
            "tags": []
          },
          "execution_count": 136
        }
      ]
    },
    {
      "cell_type": "code",
      "metadata": {
        "id": "9H9olx1z2xr2"
      },
      "source": [
        "# Convert data to NumPy array\n",
        "\n",
        "# importing library\n",
        "#import numpy \n",
        "\n",
        "\n",
        "# converting list to array\n",
        "\n",
        "#X_train = numpy.asarray(X_train)\n",
        "#X_test = numpy.asarray(X_test)\n",
        "\n",
        "#Y_train = numpy.asarray(y_train)\n",
        "#Y_test = numpy.asarray(y_test)\n"
      ],
      "execution_count": 137,
      "outputs": []
    },
    {
      "cell_type": "code",
      "metadata": {
        "id": "pM2tZ7Emtf6k"
      },
      "source": [
        "\n",
        "# Initialize the constructor\n",
        "model = Sequential()\n",
        "\n",
        "model.add(tf.keras.layers.Flatten())   \n",
        "\n",
        "# Add an input layer \n",
        "model.add(Dense(11, activation ='relu'))\n",
        "# Add more hidden layer \n",
        "model.add(Dense(9, activation='relu'))\n",
        "model.add(Dense(7, activation='relu'))\n",
        "model.add(Dense(5, activation='relu'))\n",
        "model.add(Dense(3, activation='relu'))\n",
        "# Add an output layer \n",
        "model.add(Dense(1, activation='sigmoid'))"
      ],
      "execution_count": 138,
      "outputs": []
    },
    {
      "cell_type": "code",
      "metadata": {
        "id": "Tf0a5Ut6uKe3"
      },
      "source": [
        "\n",
        "model.compile(loss='categorical_crossentropy', optimizer='adam', metrics=['accuracy'] )"
      ],
      "execution_count": 139,
      "outputs": []
    },
    {
      "cell_type": "code",
      "metadata": {
        "colab": {
          "base_uri": "https://localhost:8080/",
          "height": 1000
        },
        "id": "Vg95THolUhPH",
        "outputId": "31ba34a9-8c05-43e7-8bde-f484b8fe6b2f"
      },
      "source": [
        "# Compile model\n",
        "epochs = 80\n",
        "lrate = 0.01\n",
        "\n",
        "history = model.fit(X_train, Y_train, validation_data=(X_test, Y_test), epochs=epochs, batch_size=25 )\n",
        "loss,test_accuracy  = model.evaluate(X_test, Y_test, verbose=False)\n",
        "print(\"model training accuracy :\" , history.history['accuracy'])\n",
        "print(\"model validation accuracy : \", history.history['val_accuracy'])\n",
        "print(\"model test accuracy : \", test_accuracy)\n",
        "\n",
        "plt.plot(history.history['accuracy'])\n",
        "plt.plot(history.history['val_accuracy'])\n",
        "plt.plot(history.history['loss'])\n",
        "plt.plot(history.history['val_loss'])\n",
        "plt.title('model accuracy')\n",
        "plt.ylabel('accuracy / loss')\n",
        "plt.xlabel('epoch')\n",
        "plt.legend(['trng_acc', 'val_acc' , 'trng_loss' , 'val_loss'], loc='best')\n",
        "plt.show()\n",
        "\n"
      ],
      "execution_count": 140,
      "outputs": [
        {
          "output_type": "stream",
          "text": [
            "Epoch 1/80\n",
            "280/280 [==============================] - 1s 2ms/step - loss: 2.4744e-08 - accuracy: 0.7924 - val_loss: 2.3206e-08 - val_accuracy: 0.8053\n",
            "Epoch 2/80\n",
            "280/280 [==============================] - 0s 2ms/step - loss: 2.4744e-08 - accuracy: 0.7924 - val_loss: 2.3206e-08 - val_accuracy: 0.8053\n",
            "Epoch 3/80\n",
            "280/280 [==============================] - 0s 2ms/step - loss: 2.4744e-08 - accuracy: 0.7924 - val_loss: 2.3206e-08 - val_accuracy: 0.8053\n",
            "Epoch 4/80\n",
            "280/280 [==============================] - 0s 1ms/step - loss: 2.4744e-08 - accuracy: 0.7924 - val_loss: 2.3206e-08 - val_accuracy: 0.8053\n",
            "Epoch 5/80\n",
            "280/280 [==============================] - 0s 1ms/step - loss: 2.4744e-08 - accuracy: 0.7924 - val_loss: 2.3206e-08 - val_accuracy: 0.8053\n",
            "Epoch 6/80\n",
            "280/280 [==============================] - 0s 1ms/step - loss: 2.4744e-08 - accuracy: 0.7924 - val_loss: 2.3206e-08 - val_accuracy: 0.8053\n",
            "Epoch 7/80\n",
            "280/280 [==============================] - 0s 1ms/step - loss: 2.4744e-08 - accuracy: 0.7924 - val_loss: 2.3206e-08 - val_accuracy: 0.8053\n",
            "Epoch 8/80\n",
            "280/280 [==============================] - 0s 1ms/step - loss: 2.4744e-08 - accuracy: 0.7924 - val_loss: 2.3206e-08 - val_accuracy: 0.8053\n",
            "Epoch 9/80\n",
            "280/280 [==============================] - 0s 1ms/step - loss: 2.4744e-08 - accuracy: 0.7924 - val_loss: 2.3206e-08 - val_accuracy: 0.8053\n",
            "Epoch 10/80\n",
            "280/280 [==============================] - 0s 1ms/step - loss: 2.4744e-08 - accuracy: 0.7924 - val_loss: 2.3206e-08 - val_accuracy: 0.8053\n",
            "Epoch 11/80\n",
            "280/280 [==============================] - 0s 1ms/step - loss: 2.4744e-08 - accuracy: 0.7924 - val_loss: 2.3206e-08 - val_accuracy: 0.8053\n",
            "Epoch 12/80\n",
            "280/280 [==============================] - 0s 2ms/step - loss: 2.4744e-08 - accuracy: 0.7924 - val_loss: 2.3206e-08 - val_accuracy: 0.8053\n",
            "Epoch 13/80\n",
            "280/280 [==============================] - 0s 2ms/step - loss: 2.4744e-08 - accuracy: 0.7924 - val_loss: 2.3206e-08 - val_accuracy: 0.8053\n",
            "Epoch 14/80\n",
            "280/280 [==============================] - 0s 1ms/step - loss: 2.4744e-08 - accuracy: 0.7924 - val_loss: 2.3206e-08 - val_accuracy: 0.8053\n",
            "Epoch 15/80\n",
            "280/280 [==============================] - 0s 2ms/step - loss: 2.4744e-08 - accuracy: 0.7924 - val_loss: 2.3206e-08 - val_accuracy: 0.8053\n",
            "Epoch 16/80\n",
            "280/280 [==============================] - 0s 1ms/step - loss: 2.4744e-08 - accuracy: 0.7924 - val_loss: 2.3206e-08 - val_accuracy: 0.8053\n",
            "Epoch 17/80\n",
            "280/280 [==============================] - 0s 1ms/step - loss: 2.4744e-08 - accuracy: 0.7924 - val_loss: 2.3206e-08 - val_accuracy: 0.8053\n",
            "Epoch 18/80\n",
            "280/280 [==============================] - 0s 1ms/step - loss: 2.4744e-08 - accuracy: 0.7924 - val_loss: 2.3206e-08 - val_accuracy: 0.8053\n",
            "Epoch 19/80\n",
            "280/280 [==============================] - 0s 2ms/step - loss: 2.4744e-08 - accuracy: 0.7924 - val_loss: 2.3206e-08 - val_accuracy: 0.8053\n",
            "Epoch 20/80\n",
            "280/280 [==============================] - 0s 1ms/step - loss: 2.4744e-08 - accuracy: 0.7924 - val_loss: 2.3206e-08 - val_accuracy: 0.8053\n",
            "Epoch 21/80\n",
            "280/280 [==============================] - 0s 1ms/step - loss: 2.4744e-08 - accuracy: 0.7924 - val_loss: 2.3206e-08 - val_accuracy: 0.8053\n",
            "Epoch 22/80\n",
            "280/280 [==============================] - 0s 2ms/step - loss: 2.4744e-08 - accuracy: 0.7924 - val_loss: 2.3206e-08 - val_accuracy: 0.8053\n",
            "Epoch 23/80\n",
            "280/280 [==============================] - 0s 2ms/step - loss: 2.4744e-08 - accuracy: 0.7924 - val_loss: 2.3206e-08 - val_accuracy: 0.8053\n",
            "Epoch 24/80\n",
            "280/280 [==============================] - 0s 1ms/step - loss: 2.4744e-08 - accuracy: 0.7924 - val_loss: 2.3206e-08 - val_accuracy: 0.8053\n",
            "Epoch 25/80\n",
            "280/280 [==============================] - 0s 1ms/step - loss: 2.4744e-08 - accuracy: 0.7924 - val_loss: 2.3206e-08 - val_accuracy: 0.8053\n",
            "Epoch 26/80\n",
            "280/280 [==============================] - 0s 2ms/step - loss: 2.4744e-08 - accuracy: 0.7924 - val_loss: 2.3206e-08 - val_accuracy: 0.8053\n",
            "Epoch 27/80\n",
            "280/280 [==============================] - 0s 2ms/step - loss: 2.4744e-08 - accuracy: 0.7924 - val_loss: 2.3206e-08 - val_accuracy: 0.8053\n",
            "Epoch 28/80\n",
            "280/280 [==============================] - 0s 1ms/step - loss: 2.4744e-08 - accuracy: 0.7924 - val_loss: 2.3206e-08 - val_accuracy: 0.8053\n",
            "Epoch 29/80\n",
            "280/280 [==============================] - 0s 1ms/step - loss: 2.4744e-08 - accuracy: 0.7924 - val_loss: 2.3206e-08 - val_accuracy: 0.8053\n",
            "Epoch 30/80\n",
            "280/280 [==============================] - 0s 1ms/step - loss: 2.4744e-08 - accuracy: 0.7924 - val_loss: 2.3206e-08 - val_accuracy: 0.8053\n",
            "Epoch 31/80\n",
            "280/280 [==============================] - 0s 2ms/step - loss: 2.4744e-08 - accuracy: 0.7924 - val_loss: 2.3206e-08 - val_accuracy: 0.8053\n",
            "Epoch 32/80\n",
            "280/280 [==============================] - 0s 2ms/step - loss: 2.4744e-08 - accuracy: 0.7924 - val_loss: 2.3206e-08 - val_accuracy: 0.8053\n",
            "Epoch 33/80\n",
            "280/280 [==============================] - 0s 1ms/step - loss: 2.4744e-08 - accuracy: 0.7924 - val_loss: 2.3206e-08 - val_accuracy: 0.8053\n",
            "Epoch 34/80\n",
            "280/280 [==============================] - 0s 1ms/step - loss: 2.4744e-08 - accuracy: 0.7924 - val_loss: 2.3206e-08 - val_accuracy: 0.8053\n",
            "Epoch 35/80\n",
            "280/280 [==============================] - 0s 2ms/step - loss: 2.4744e-08 - accuracy: 0.7924 - val_loss: 2.3206e-08 - val_accuracy: 0.8053\n",
            "Epoch 36/80\n",
            "280/280 [==============================] - 0s 1ms/step - loss: 2.4744e-08 - accuracy: 0.7924 - val_loss: 2.3206e-08 - val_accuracy: 0.8053\n",
            "Epoch 37/80\n",
            "280/280 [==============================] - 0s 1ms/step - loss: 2.4744e-08 - accuracy: 0.7924 - val_loss: 2.3206e-08 - val_accuracy: 0.8053\n",
            "Epoch 38/80\n",
            "280/280 [==============================] - 0s 2ms/step - loss: 2.4744e-08 - accuracy: 0.7924 - val_loss: 2.3206e-08 - val_accuracy: 0.8053\n",
            "Epoch 39/80\n",
            "280/280 [==============================] - 0s 2ms/step - loss: 2.4744e-08 - accuracy: 0.7924 - val_loss: 2.3206e-08 - val_accuracy: 0.8053\n",
            "Epoch 40/80\n",
            "280/280 [==============================] - 0s 2ms/step - loss: 2.4744e-08 - accuracy: 0.7924 - val_loss: 2.3206e-08 - val_accuracy: 0.8053\n",
            "Epoch 41/80\n",
            "280/280 [==============================] - 0s 1ms/step - loss: 2.4744e-08 - accuracy: 0.7924 - val_loss: 2.3206e-08 - val_accuracy: 0.8053\n",
            "Epoch 42/80\n",
            "280/280 [==============================] - 0s 2ms/step - loss: 2.4744e-08 - accuracy: 0.7924 - val_loss: 2.3206e-08 - val_accuracy: 0.8053\n",
            "Epoch 43/80\n",
            "280/280 [==============================] - 0s 2ms/step - loss: 2.4744e-08 - accuracy: 0.7924 - val_loss: 2.3206e-08 - val_accuracy: 0.8053\n",
            "Epoch 44/80\n",
            "280/280 [==============================] - 0s 1ms/step - loss: 2.4744e-08 - accuracy: 0.7924 - val_loss: 2.3206e-08 - val_accuracy: 0.8053\n",
            "Epoch 45/80\n",
            "280/280 [==============================] - 0s 2ms/step - loss: 2.4744e-08 - accuracy: 0.7924 - val_loss: 2.3206e-08 - val_accuracy: 0.8053\n",
            "Epoch 46/80\n",
            "280/280 [==============================] - 0s 1ms/step - loss: 2.4744e-08 - accuracy: 0.7924 - val_loss: 2.3206e-08 - val_accuracy: 0.8053\n",
            "Epoch 47/80\n",
            "280/280 [==============================] - 0s 2ms/step - loss: 2.4744e-08 - accuracy: 0.7924 - val_loss: 2.3206e-08 - val_accuracy: 0.8053\n",
            "Epoch 48/80\n",
            "280/280 [==============================] - 0s 1ms/step - loss: 2.4744e-08 - accuracy: 0.7924 - val_loss: 2.3206e-08 - val_accuracy: 0.8053\n",
            "Epoch 49/80\n",
            "280/280 [==============================] - 0s 2ms/step - loss: 2.4744e-08 - accuracy: 0.7924 - val_loss: 2.3206e-08 - val_accuracy: 0.8053\n",
            "Epoch 50/80\n",
            "280/280 [==============================] - 0s 1ms/step - loss: 2.4744e-08 - accuracy: 0.7924 - val_loss: 2.3206e-08 - val_accuracy: 0.8053\n",
            "Epoch 51/80\n",
            "280/280 [==============================] - 0s 1ms/step - loss: 2.4744e-08 - accuracy: 0.7924 - val_loss: 2.3206e-08 - val_accuracy: 0.8053\n",
            "Epoch 52/80\n",
            "280/280 [==============================] - 0s 2ms/step - loss: 2.4744e-08 - accuracy: 0.7924 - val_loss: 2.3206e-08 - val_accuracy: 0.8053\n",
            "Epoch 53/80\n",
            "280/280 [==============================] - 0s 2ms/step - loss: 2.4744e-08 - accuracy: 0.7924 - val_loss: 2.3206e-08 - val_accuracy: 0.8053\n",
            "Epoch 54/80\n",
            "280/280 [==============================] - 0s 2ms/step - loss: 2.4744e-08 - accuracy: 0.7924 - val_loss: 2.3206e-08 - val_accuracy: 0.8053\n",
            "Epoch 55/80\n",
            "280/280 [==============================] - 0s 1ms/step - loss: 2.4744e-08 - accuracy: 0.7924 - val_loss: 2.3206e-08 - val_accuracy: 0.8053\n",
            "Epoch 56/80\n",
            "280/280 [==============================] - 0s 2ms/step - loss: 2.4744e-08 - accuracy: 0.7924 - val_loss: 2.3206e-08 - val_accuracy: 0.8053\n",
            "Epoch 57/80\n",
            "280/280 [==============================] - 0s 2ms/step - loss: 2.4744e-08 - accuracy: 0.7924 - val_loss: 2.3206e-08 - val_accuracy: 0.8053\n",
            "Epoch 58/80\n",
            "280/280 [==============================] - 0s 1ms/step - loss: 2.4744e-08 - accuracy: 0.7924 - val_loss: 2.3206e-08 - val_accuracy: 0.8053\n",
            "Epoch 59/80\n",
            "280/280 [==============================] - 0s 2ms/step - loss: 2.4744e-08 - accuracy: 0.7924 - val_loss: 2.3206e-08 - val_accuracy: 0.8053\n",
            "Epoch 60/80\n",
            "280/280 [==============================] - 0s 1ms/step - loss: 2.4744e-08 - accuracy: 0.7924 - val_loss: 2.3206e-08 - val_accuracy: 0.8053\n",
            "Epoch 61/80\n",
            "280/280 [==============================] - 0s 2ms/step - loss: 2.4744e-08 - accuracy: 0.7924 - val_loss: 2.3206e-08 - val_accuracy: 0.8053\n",
            "Epoch 62/80\n",
            "280/280 [==============================] - 0s 2ms/step - loss: 2.4744e-08 - accuracy: 0.7924 - val_loss: 2.3206e-08 - val_accuracy: 0.8053\n",
            "Epoch 63/80\n",
            "280/280 [==============================] - 0s 1ms/step - loss: 2.4744e-08 - accuracy: 0.7924 - val_loss: 2.3206e-08 - val_accuracy: 0.8053\n",
            "Epoch 64/80\n",
            "280/280 [==============================] - 0s 2ms/step - loss: 2.4744e-08 - accuracy: 0.7924 - val_loss: 2.3206e-08 - val_accuracy: 0.8053\n",
            "Epoch 65/80\n",
            "280/280 [==============================] - 0s 1ms/step - loss: 2.4744e-08 - accuracy: 0.7924 - val_loss: 2.3206e-08 - val_accuracy: 0.8053\n",
            "Epoch 66/80\n",
            "280/280 [==============================] - 0s 1ms/step - loss: 2.4744e-08 - accuracy: 0.7924 - val_loss: 2.3206e-08 - val_accuracy: 0.8053\n",
            "Epoch 67/80\n",
            "280/280 [==============================] - 0s 2ms/step - loss: 2.4744e-08 - accuracy: 0.7924 - val_loss: 2.3206e-08 - val_accuracy: 0.8053\n",
            "Epoch 68/80\n",
            "280/280 [==============================] - 0s 2ms/step - loss: 2.4744e-08 - accuracy: 0.7924 - val_loss: 2.3206e-08 - val_accuracy: 0.8053\n",
            "Epoch 69/80\n",
            "280/280 [==============================] - 0s 2ms/step - loss: 2.4744e-08 - accuracy: 0.7924 - val_loss: 2.3206e-08 - val_accuracy: 0.8053\n",
            "Epoch 70/80\n",
            "280/280 [==============================] - 0s 1ms/step - loss: 2.4744e-08 - accuracy: 0.7924 - val_loss: 2.3206e-08 - val_accuracy: 0.8053\n",
            "Epoch 71/80\n",
            "280/280 [==============================] - 0s 2ms/step - loss: 2.4744e-08 - accuracy: 0.7924 - val_loss: 2.3206e-08 - val_accuracy: 0.8053\n",
            "Epoch 72/80\n",
            "280/280 [==============================] - 0s 2ms/step - loss: 2.4744e-08 - accuracy: 0.7924 - val_loss: 2.3206e-08 - val_accuracy: 0.8053\n",
            "Epoch 73/80\n",
            "280/280 [==============================] - 0s 2ms/step - loss: 2.4744e-08 - accuracy: 0.7924 - val_loss: 2.3206e-08 - val_accuracy: 0.8053\n",
            "Epoch 74/80\n",
            "280/280 [==============================] - 0s 1ms/step - loss: 2.4744e-08 - accuracy: 0.7924 - val_loss: 2.3206e-08 - val_accuracy: 0.8053\n",
            "Epoch 75/80\n",
            "280/280 [==============================] - 0s 2ms/step - loss: 2.4744e-08 - accuracy: 0.7924 - val_loss: 2.3206e-08 - val_accuracy: 0.8053\n",
            "Epoch 76/80\n",
            "280/280 [==============================] - 0s 1ms/step - loss: 2.4744e-08 - accuracy: 0.7924 - val_loss: 2.3206e-08 - val_accuracy: 0.8053\n",
            "Epoch 77/80\n",
            "280/280 [==============================] - 0s 2ms/step - loss: 2.4744e-08 - accuracy: 0.7924 - val_loss: 2.3206e-08 - val_accuracy: 0.8053\n",
            "Epoch 78/80\n",
            "280/280 [==============================] - 0s 2ms/step - loss: 2.4744e-08 - accuracy: 0.7924 - val_loss: 2.3206e-08 - val_accuracy: 0.8053\n",
            "Epoch 79/80\n",
            "280/280 [==============================] - 0s 2ms/step - loss: 2.4744e-08 - accuracy: 0.7924 - val_loss: 2.3206e-08 - val_accuracy: 0.8053\n",
            "Epoch 80/80\n",
            "280/280 [==============================] - 0s 2ms/step - loss: 2.4744e-08 - accuracy: 0.7924 - val_loss: 2.3206e-08 - val_accuracy: 0.8053\n",
            "model training accuracy : [0.7924285531044006, 0.7924285531044006, 0.7924285531044006, 0.7924285531044006, 0.7924285531044006, 0.7924285531044006, 0.7924285531044006, 0.7924285531044006, 0.7924285531044006, 0.7924285531044006, 0.7924285531044006, 0.7924285531044006, 0.7924285531044006, 0.7924285531044006, 0.7924285531044006, 0.7924285531044006, 0.7924285531044006, 0.7924285531044006, 0.7924285531044006, 0.7924285531044006, 0.7924285531044006, 0.7924285531044006, 0.7924285531044006, 0.7924285531044006, 0.7924285531044006, 0.7924285531044006, 0.7924285531044006, 0.7924285531044006, 0.7924285531044006, 0.7924285531044006, 0.7924285531044006, 0.7924285531044006, 0.7924285531044006, 0.7924285531044006, 0.7924285531044006, 0.7924285531044006, 0.7924285531044006, 0.7924285531044006, 0.7924285531044006, 0.7924285531044006, 0.7924285531044006, 0.7924285531044006, 0.7924285531044006, 0.7924285531044006, 0.7924285531044006, 0.7924285531044006, 0.7924285531044006, 0.7924285531044006, 0.7924285531044006, 0.7924285531044006, 0.7924285531044006, 0.7924285531044006, 0.7924285531044006, 0.7924285531044006, 0.7924285531044006, 0.7924285531044006, 0.7924285531044006, 0.7924285531044006, 0.7924285531044006, 0.7924285531044006, 0.7924285531044006, 0.7924285531044006, 0.7924285531044006, 0.7924285531044006, 0.7924285531044006, 0.7924285531044006, 0.7924285531044006, 0.7924285531044006, 0.7924285531044006, 0.7924285531044006, 0.7924285531044006, 0.7924285531044006, 0.7924285531044006, 0.7924285531044006, 0.7924285531044006, 0.7924285531044006, 0.7924285531044006, 0.7924285531044006, 0.7924285531044006, 0.7924285531044006]\n",
            "model validation accuracy :  [0.8053333163261414, 0.8053333163261414, 0.8053333163261414, 0.8053333163261414, 0.8053333163261414, 0.8053333163261414, 0.8053333163261414, 0.8053333163261414, 0.8053333163261414, 0.8053333163261414, 0.8053333163261414, 0.8053333163261414, 0.8053333163261414, 0.8053333163261414, 0.8053333163261414, 0.8053333163261414, 0.8053333163261414, 0.8053333163261414, 0.8053333163261414, 0.8053333163261414, 0.8053333163261414, 0.8053333163261414, 0.8053333163261414, 0.8053333163261414, 0.8053333163261414, 0.8053333163261414, 0.8053333163261414, 0.8053333163261414, 0.8053333163261414, 0.8053333163261414, 0.8053333163261414, 0.8053333163261414, 0.8053333163261414, 0.8053333163261414, 0.8053333163261414, 0.8053333163261414, 0.8053333163261414, 0.8053333163261414, 0.8053333163261414, 0.8053333163261414, 0.8053333163261414, 0.8053333163261414, 0.8053333163261414, 0.8053333163261414, 0.8053333163261414, 0.8053333163261414, 0.8053333163261414, 0.8053333163261414, 0.8053333163261414, 0.8053333163261414, 0.8053333163261414, 0.8053333163261414, 0.8053333163261414, 0.8053333163261414, 0.8053333163261414, 0.8053333163261414, 0.8053333163261414, 0.8053333163261414, 0.8053333163261414, 0.8053333163261414, 0.8053333163261414, 0.8053333163261414, 0.8053333163261414, 0.8053333163261414, 0.8053333163261414, 0.8053333163261414, 0.8053333163261414, 0.8053333163261414, 0.8053333163261414, 0.8053333163261414, 0.8053333163261414, 0.8053333163261414, 0.8053333163261414, 0.8053333163261414, 0.8053333163261414, 0.8053333163261414, 0.8053333163261414, 0.8053333163261414, 0.8053333163261414, 0.8053333163261414]\n",
            "model test accuracy :  0.8053333163261414\n"
          ],
          "name": "stdout"
        },
        {
          "output_type": "display_data",
          "data": {
            "image/png": "[encoded data removed]",
            "text/plain": [
              "<Figure size 432x288 with 1 Axes>"
            ]
          },
          "metadata": {
            "tags": [],
            "needs_background": "light"
          }
        }
      ]
    },
    {
      "cell_type": "code",
      "metadata": {
        "id": "zmFpgTV_50LE"
      },
      "source": [
        "pred=model.predict(X_test)"
      ],
      "execution_count": 141,
      "outputs": []
    },
    {
      "cell_type": "code",
      "metadata": {
        "colab": {
          "base_uri": "https://localhost:8080/"
        },
        "id": "hodQ_QFZDMhZ",
        "outputId": "fd621115-f352-4b61-b4e2-9c630984ffe7"
      },
      "source": [
        "pred"
      ],
      "execution_count": 142,
      "outputs": [
        {
          "output_type": "execute_result",
          "data": {
            "text/plain": [
              "array([[0.49729303],\n",
              "       [0.4949623 ],\n",
              "       [0.4951054 ],\n",
              "       ...,\n",
              "       [0.4937214 ],\n",
              "       [0.49507636],\n",
              "       [0.497216  ]], dtype=float32)"
            ]
          },
          "metadata": {
            "tags": []
          },
          "execution_count": 142
        }
      ]
    },
    {
      "cell_type": "markdown",
      "metadata": {
        "id": "GLgt5T60NgDZ"
      },
      "source": [
        "Converting Prob Values to binary"
      ]
    },
    {
      "cell_type": "code",
      "metadata": {
        "id": "aP2AhLm5NnVg"
      },
      "source": [
        "ypred=[int(p>=0.5) for p in pred]"
      ],
      "execution_count": 143,
      "outputs": []
    },
    {
      "cell_type": "markdown",
      "metadata": {
        "id": "YV4O82onoCVh"
      },
      "source": [
        "Classification report"
      ]
    },
    {
      "cell_type": "code",
      "metadata": {
        "colab": {
          "base_uri": "https://localhost:8080/"
        },
        "id": "h5bs9vCLN17Y",
        "outputId": "0f01ad73-301c-4a1f-e062-2080f3844ba3"
      },
      "source": [
        "from sklearn.metrics import classification_report\n",
        "print(classification_report(Y_test, ypred))"
      ],
      "execution_count": 144,
      "outputs": [
        {
          "output_type": "stream",
          "text": [
            "              precision    recall  f1-score   support\n",
            "\n",
            "           0       0.80      0.99      0.89      2416\n",
            "           1       0.10      0.00      0.01       584\n",
            "\n",
            "    accuracy                           0.80      3000\n",
            "   macro avg       0.45      0.50      0.45      3000\n",
            "weighted avg       0.67      0.80      0.72      3000\n",
            "\n"
          ],
          "name": "stdout"
        }
      ]
    },
    {
      "cell_type": "markdown",
      "metadata": {
        "id": "tjGrWuYtQFAc"
      },
      "source": [
        "Confusion Matrx"
      ]
    },
    {
      "cell_type": "code",
      "metadata": {
        "colab": {
          "base_uri": "https://localhost:8080/"
        },
        "id": "b8vZvAD6PmAJ",
        "outputId": "475a2c11-ef0e-4e53-cfdd-1cd8e2b5c7d3"
      },
      "source": [
        "from sklearn.metrics import confusion_matrix\n",
        "print(confusion_matrix(Y_test,ypred))"
      ],
      "execution_count": 145,
      "outputs": [
        {
          "output_type": "stream",
          "text": [
            "[[2397   19]\n",
            " [ 582    2]]\n"
          ],
          "name": "stdout"
        }
      ]
    },
    {
      "cell_type": "code",
      "metadata": {
        "colab": {
          "base_uri": "https://localhost:8080/"
        },
        "id": "AY7ZYP0cPrri",
        "outputId": "8288f6b2-3f7b-4364-e7d6-e8854f54ff9f"
      },
      "source": [
        "from sklearn.metrics import accuracy_score\n",
        "print(\"Test Accuracy: \",accuracy_score(Y_test,ypred))"
      ],
      "execution_count": 146,
      "outputs": [
        {
          "output_type": "stream",
          "text": [
            "Test Accuracy:  0.7996666666666666\n"
          ],
          "name": "stdout"
        }
      ]
    }
  ]
}