{
 "cells": [
  {
   "cell_type": "code",
   "execution_count": 281,
   "metadata": {},
   "outputs": [],
   "source": [
    "%matplotlib inline\n",
    "import numpy as np\n",
    "import pandas as pd\n",
    "import seaborn as sns\n",
    "import matplotlib.pyplot as plt\n",
    "from scipy import stats\n",
    "import warnings\n",
    "warnings.filterwarnings('ignore')\n",
    "import datetime"
   ]
  },
  {
   "cell_type": "code",
   "execution_count": 282,
   "metadata": {},
   "outputs": [],
   "source": [
    "from sklearn.metrics import accuracy_score, confusion_matrix, classification_report\n",
    "from sklearn.model_selection import train_test_split\n",
    "from scipy.stats import zscore"
   ]
  },
  {
   "cell_type": "code",
   "execution_count": 283,
   "metadata": {},
   "outputs": [],
   "source": [
    "# reading the raw file\n",
    "\n",
    "\n",
    "Covid_df = pd.read_csv('Brazil_Covid.csv')\n",
    "\n"
   ]
  },
  {
   "cell_type": "code",
   "execution_count": 284,
   "metadata": {},
   "outputs": [
    {
     "data": {
      "text/plain": [
       "(5644, 111)"
      ]
     },
     "execution_count": 284,
     "metadata": {},
     "output_type": "execute_result"
    }
   ],
   "source": [
    "Covid_df.shape"
   ]
  },
  {
   "cell_type": "code",
   "execution_count": 341,
   "metadata": {},
   "outputs": [
    {
     "name": "stdout",
     "output_type": "stream",
     "text": [
      "['Fio2 (venous blood gas analysis)', 'Urine - Nitrite', 'Vitamin B12', 'Albumin']\n"
     ]
    }
   ],
   "source": [
    "null_series = (Covid_df.isnull().sum() != 0).index\n",
    "target = 'SARS-Cov-2 exam result'\n",
    "one_target = []\n",
    "\n",
    "for col in null_series:\n",
    "    i = Covid_df[Covid_df[col].notnull()][target].nunique()\n",
    "    if i == 1:\n",
    "        one_target.append(col)    \n",
    "\n",
    "print(one_target)"
   ]
  },
  {
   "cell_type": "code",
   "execution_count": 342,
   "metadata": {},
   "outputs": [
    {
     "name": "stdout",
     "output_type": "stream",
     "text": [
      "[0]\n",
      "[0]\n",
      "[0]\n",
      "[0]\n"
     ]
    }
   ],
   "source": [
    "for col in one_target:\n",
    "    print(Covid_df[Covid_df[col].notnull()][target].unique())"
   ]
  },
  {
   "cell_type": "code",
   "execution_count": 285,
   "metadata": {},
   "outputs": [],
   "source": [
    "from sklearn.preprocessing import LabelEncoder \n",
    "  \n",
    "le = LabelEncoder() \n",
    "\n",
    "\n",
    "  \n",
    "#Covid_df['SARS-Cov-2 exam result']= le.fit_transform(Covid_df['SARS-Cov-2 exam result']) \n",
    "Covid_df['SARS-Cov-2 exam result']= le.fit_transform(Covid_df['SARS-Cov-2 exam result']) \n",
    "#Covid_df['Urine - Color']= le.fit_transform(Covid_df['Urine - Color']) \n",
    "\n",
    "#Covid_df['Urine - Hyaline cylinders']= le.fit_transform(Covid_df['Urine - Hyaline cylinders']) \n",
    "\n",
    "\n",
    "\n",
    "#Covid_df['Respiratory Syncytial Virus']=le.fit_transform(Covid_df['Respiratory Syncytial Virus']) \n",
    "\n",
    "#Covid_df['Respiratory Syncytial Virus']= Covid_df['Respiratory Syncytial Virus'].str.replace(\"not_detected\",\"0\")\n",
    "#Covid_df['Respiratory Syncytial Virus']= Covid_df['Respiratory Syncytial Virus'].str.replace(\"detected\",\"1\")\n",
    "\n",
    "\n",
    "\n",
    "        #Covid_df[feature] = Covid_df[feature].str.replace(\"Urato Amorfo --+\",\"2\") # Replace object to numeric\n",
    "        #Covid_df[feature] = Covid_df[feature].str.replace(\"Urato Amorfo +++\",\"3\")\n",
    "       # Covid_df[feature] = Covid_df[feature].str.replace(\"Oxalato de Cálcio -++\",\"4\")       \n",
    "       \n",
    "        \n",
    "        \n",
    "        \n",
    "        \n",
    "        \n",
    "        "
   ]
  },
  {
   "cell_type": "code",
   "execution_count": 286,
   "metadata": {},
   "outputs": [],
   "source": [
    "for feature in Covid_df.columns: # Loop through all columns in the dataframe\n",
    "    if Covid_df[feature].dtype == 'object': # Only apply for columns with categorical strings\n",
    "        Covid_df[feature] = Covid_df[feature].str.replace(\"not_detected\",\"0\") # Replace object to numeric\n",
    "        Covid_df[feature] = Covid_df[feature].str.replace(\"detected\",\"1\")\n",
    "        Covid_df[feature] = Covid_df[feature].str.replace(\"negative\",\"0\") # Replace object to numeric\n",
    "        Covid_df[feature] = Covid_df[feature].str.replace(\"positive\",\"1\")\n",
    "        Covid_df[feature] = Covid_df[feature].str.replace(\"absent\",\"0\") # Replace object to numeric\n",
    "        Covid_df[feature] = Covid_df[feature].str.replace(\"not_done\",\"1\")\n",
    "        Covid_df[feature] = Covid_df[feature].str.replace(\"present\",\"2\")\n",
    "        Covid_df[feature] = Covid_df[feature].str.replace(\"altered_coloring\",\"4\") # Replace object to numeric\n",
    "        Covid_df[feature] = Covid_df[feature].str.replace(\"clear\",\"3\")\n",
    "        Covid_df[feature] = Covid_df[feature].str.replace(\"lightly_cloudy\",\"5\") # Replace object to numeric\n",
    "        Covid_df[feature] = Covid_df[feature].str.replace(\"cloudy\",\"6\")\n",
    "        Covid_df[feature] = Covid_df[feature].str.replace(\"normal\",\"7\") \n",
    "        Covid_df[feature] = Covid_df[feature].str.replace(\"citrus_yellow\",\"11\")\n",
    "        Covid_df[feature] = Covid_df[feature].str.replace(\"light_yellow\",\"8\") \n",
    "        Covid_df[feature] = Covid_df[feature].str.replace(\"yellow\",\"9\") \n",
    "        Covid_df[feature] = Covid_df[feature].str.replace(\"orange\",\"10\")\n",
    "        Covid_df[feature] = Covid_df[feature].str.replace(\"Não Realizado\",\"0\") \n",
    "        Covid_df[feature] = Covid_df[feature].str.replace(\"<1000\",\"999\") \n",
    "        #Covid_df[feature] = Covid_df[feature].str.replace(\"Ausentes\",\"1\")  "
   ]
  },
  {
   "cell_type": "code",
   "execution_count": 287,
   "metadata": {},
   "outputs": [
    {
     "data": {
      "text/plain": [
       "0       0\n",
       "1       0\n",
       "2       0\n",
       "3       0\n",
       "4       0\n",
       "5       0\n",
       "6       0\n",
       "7       0\n",
       "8       0\n",
       "9       0\n",
       "10      0\n",
       "11      0\n",
       "12      0\n",
       "13      0\n",
       "14      0\n",
       "15      0\n",
       "16      0\n",
       "17      0\n",
       "18      0\n",
       "19      0\n",
       "20      0\n",
       "21      0\n",
       "22      0\n",
       "23      0\n",
       "24      0\n",
       "25      0\n",
       "26      0\n",
       "27      0\n",
       "28      0\n",
       "29      0\n",
       "       ..\n",
       "4970    0\n",
       "4971    0\n",
       "4972    0\n",
       "4973    0\n",
       "4974    1\n",
       "4975    0\n",
       "4976    0\n",
       "4977    0\n",
       "4978    1\n",
       "4979    0\n",
       "4980    1\n",
       "4981    0\n",
       "4982    0\n",
       "4983    0\n",
       "4984    0\n",
       "4985    0\n",
       "4986    0\n",
       "4987    0\n",
       "4988    0\n",
       "4989    1\n",
       "4990    0\n",
       "4991    0\n",
       "4992    0\n",
       "4993    0\n",
       "4994    0\n",
       "4995    0\n",
       "4996    0\n",
       "4997    0\n",
       "4998    0\n",
       "4999    1\n",
       "Name: SARS-Cov-2 exam result, Length: 5000, dtype: int32"
      ]
     },
     "execution_count": 287,
     "metadata": {},
     "output_type": "execute_result"
    }
   ],
   "source": [
    "Covid_df['SARS-Cov-2 exam result'].head(5000)"
   ]
  },
  {
   "cell_type": "code",
   "execution_count": 288,
   "metadata": {},
   "outputs": [
    {
     "name": "stdout",
     "output_type": "stream",
     "text": [
      "<class 'pandas.core.frame.DataFrame'>\n",
      "RangeIndex: 5644 entries, 0 to 5643\n",
      "Columns: 111 entries, Patient ID to ctO2 (arterial blood gas analysis)\n",
      "dtypes: float64(70), int32(1), int64(4), object(36)\n",
      "memory usage: 4.8+ MB\n"
     ]
    }
   ],
   "source": [
    "Covid_df.info()"
   ]
  },
  {
   "cell_type": "code",
   "execution_count": 289,
   "metadata": {},
   "outputs": [
    {
     "data": {
      "text/plain": [
       "Patient ID                                                  0\n",
       "Patient age quantile                                        0\n",
       "SARS-Cov-2 exam result                                      0\n",
       "Patient addmited to regular ward (1=yes, 0=no)              0\n",
       "Patient addmited to semi-intensive unit (1=yes, 0=no)       0\n",
       "Patient addmited to intensive care unit (1=yes, 0=no)       0\n",
       "Hematocrit                                               5041\n",
       "Hemoglobin                                               5041\n",
       "Platelets                                                5042\n",
       "Mean platelet volume                                     5045\n",
       "Red blood Cells                                          5042\n",
       "Lymphocytes                                              5042\n",
       "Mean corpuscular hemoglobin concentration (MCHC)         5042\n",
       "Leukocytes                                               5042\n",
       "Basophils                                                5042\n",
       "Mean corpuscular hemoglobin (MCH)                        5042\n",
       "Eosinophils                                              5042\n",
       "Mean corpuscular volume (MCV)                            5042\n",
       "Monocytes                                                5043\n",
       "Red blood cell distribution width (RDW)                  5042\n",
       "Serum Glucose                                            5436\n",
       "Respiratory Syncytial Virus                              4290\n",
       "Influenza A                                              4290\n",
       "Influenza B                                              4290\n",
       "Parainfluenza 1                                          4292\n",
       "CoronavirusNL63                                          4292\n",
       "Rhinovirus/Enterovirus                                   4292\n",
       "Mycoplasma pneumoniae                                    5644\n",
       "Coronavirus HKU1                                         4292\n",
       "Parainfluenza 3                                          4292\n",
       "                                                         ... \n",
       "Urine - Sugar                                            5644\n",
       "Urine - Leukocytes                                       5574\n",
       "Urine - Crystals                                         5574\n",
       "Urine - Red blood cells                                  5574\n",
       "Urine - Hyaline cylinders                                5577\n",
       "Urine - Granular cylinders                               5575\n",
       "Urine - Yeasts                                           5574\n",
       "Urine - Color                                            5574\n",
       "Partial thromboplastin time (PTT)                        5644\n",
       "Relationship (Patient/Normal)                            5553\n",
       "International normalized ratio (INR)                     5511\n",
       "Lactic Dehydrogenase                                     5543\n",
       "Prothrombin time (PT), Activity                          5644\n",
       "Vitamin B12                                              5641\n",
       "Creatine phosphokinase (CPK)                             5540\n",
       "Ferritin                                                 5621\n",
       "Arterial Lactic Acid                                     5617\n",
       "Lipase dosage                                            5636\n",
       "D-Dimer                                                  5644\n",
       "Albumin                                                  5631\n",
       "Hb saturation (arterial blood gases)                     5617\n",
       "pCO2 (arterial blood gas analysis)                       5617\n",
       "Base excess (arterial blood gas analysis)                5617\n",
       "pH (arterial blood gas analysis)                         5617\n",
       "Total CO2 (arterial blood gas analysis)                  5617\n",
       "HCO3 (arterial blood gas analysis)                       5617\n",
       "pO2 (arterial blood gas analysis)                        5617\n",
       "Arteiral Fio2                                            5624\n",
       "Phosphor                                                 5624\n",
       "ctO2 (arterial blood gas analysis)                       5617\n",
       "Length: 111, dtype: int64"
      ]
     },
     "execution_count": 289,
     "metadata": {},
     "output_type": "execute_result"
    }
   ],
   "source": [
    "Covid_df.isnull().sum()"
   ]
  },
  {
   "cell_type": "code",
   "execution_count": 290,
   "metadata": {},
   "outputs": [
    {
     "data": {
      "text/plain": [
       "0    5086\n",
       "1     558\n",
       "Name: SARS-Cov-2 exam result, dtype: int64"
      ]
     },
     "execution_count": 290,
     "metadata": {},
     "output_type": "execute_result"
    }
   ],
   "source": [
    "#print the count of the values\n",
    "Covid_df['SARS-Cov-2 exam result'].value_counts()"
   ]
  },
  {
   "cell_type": "markdown",
   "metadata": {},
   "source": [
    "# Inference\n",
    "\n",
    "1)we are seeing lot of feature which does not have any data there is no point is using those feture for our model and hence dropping those.\n",
    "\n",
    "2)Hemoglobin play a vital part in blood and there are lot of records which do not have a preopr value. hence dropping those records\n",
    "\n",
    "3) Albumin,Vitamin B12,Ferritin,Phosphor,Urine - Nitrite and Urine - Ketone Bodies has valid value for less significaton records and more null value and does not make sense to impute the null with mean or median\n",
    "\n"
   ]
  },
  {
   "cell_type": "code",
   "execution_count": 291,
   "metadata": {},
   "outputs": [],
   "source": [
    "#creating a new datset with non misisng values\n",
    "#CovidNew_df=Covid_df.dropna()\n",
    "\n",
    "#Covid_df_NEW=Covid_df[Covid_df.columns[Covid_df.isnull().sum() = 25]]\n",
    "# creating a new datset which removes all the columns which \n",
    "\n",
    "\n",
    "#Covid_df_new = Covid_df.dropna(axis=1)\n",
    "Covid_df_new = Covid_df.dropna(how='all')\n",
    "Covid_df_new = Covid_df_new.dropna(how='all',axis=1)\n",
    "\n",
    "#df1 = df.dropna(how='all', axis=1)\n",
    "#print(df1)"
   ]
  },
  {
   "cell_type": "code",
   "execution_count": 339,
   "metadata": {},
   "outputs": [
    {
     "data": {
      "text/plain": [
       "Fio2 (venous blood gas analysis)                         0.998342\n",
       "Arteiral Fio2                                            0.966833\n",
       "ctO2 (arterial blood gas analysis)                       0.955224\n",
       "pO2 (arterial blood gas analysis)                        0.955224\n",
       "HCO3 (arterial blood gas analysis)                       0.955224\n",
       "Total CO2 (arterial blood gas analysis)                  0.955224\n",
       "pH (arterial blood gas analysis)                         0.955224\n",
       "Base excess (arterial blood gas analysis)                0.955224\n",
       "pCO2 (arterial blood gas analysis)                       0.955224\n",
       "Hb saturation (arterial blood gases)                     0.955224\n",
       "Arterial Lactic Acid                                     0.955224\n",
       "Magnesium                                                0.933665\n",
       "Urine - Protein                                          0.923715\n",
       "Urine - Esterase                                         0.920398\n",
       "Ionized calcium                                          0.917081\n",
       "Urine - Hyaline cylinders                                0.913765\n",
       "Urine - Granular cylinders                               0.912106\n",
       "Urine - Urobilinogen                                     0.912106\n",
       "Urine - Density                                          0.910448\n",
       "Urine - Aspect                                           0.910448\n",
       "Urine - pH                                               0.910448\n",
       "Urine - Hemoglobin                                       0.910448\n",
       "Urine - Bile pigments                                    0.910448\n",
       "Urine - Leukocytes                                       0.910448\n",
       "Urine - Yeasts                                           0.910448\n",
       "Urine - Color                                            0.910448\n",
       "Urine - Red blood cells                                  0.910448\n",
       "Strepto A                                                0.882255\n",
       "Relationship (Patient/Normal)                            0.849088\n",
       "Segmented                                                0.839138\n",
       "                                                           ...   \n",
       "Inf A H1N1 2009                                          0.393035\n",
       "Bordetella pertussis                                     0.393035\n",
       "Metapneumovirus                                          0.393035\n",
       "Parainfluenza 2                                          0.393035\n",
       "CoronavirusOC43                                          0.393035\n",
       "Sodium                                                   0.389718\n",
       "Potassium                                                0.386401\n",
       "Urea                                                     0.343284\n",
       "Creatinine                                               0.298507\n",
       "Proteina C reativa mg/dL                                 0.167496\n",
       "Neutrophils                                              0.149254\n",
       "Mean platelet volume                                     0.006633\n",
       "Monocytes                                                0.003317\n",
       "Mean corpuscular hemoglobin concentration (MCHC)         0.001658\n",
       "Platelets                                                0.001658\n",
       "Red blood Cells                                          0.001658\n",
       "Lymphocytes                                              0.001658\n",
       "Eosinophils                                              0.001658\n",
       "Leukocytes                                               0.001658\n",
       "Basophils                                                0.001658\n",
       "Mean corpuscular hemoglobin (MCH)                        0.001658\n",
       "Mean corpuscular volume (MCV)                            0.001658\n",
       "Red blood cell distribution width (RDW)                  0.001658\n",
       "Hemoglobin                                               0.000000\n",
       "Hematocrit                                               0.000000\n",
       "Patient addmited to intensive care unit (1=yes, 0=no)    0.000000\n",
       "Patient addmited to semi-intensive unit (1=yes, 0=no)    0.000000\n",
       "Patient addmited to regular ward (1=yes, 0=no)           0.000000\n",
       "SARS-Cov-2 exam result                                   0.000000\n",
       "Patient age quantile                                     0.000000\n",
       "Length: 97, dtype: float64"
      ]
     },
     "execution_count": 339,
     "metadata": {},
     "output_type": "execute_result"
    }
   ],
   "source": [
    "(Covid_df_new.isnull().sum() / Covid_df_new.shape[0]).sort_values(ascending=False)"
   ]
  },
  {
   "cell_type": "code",
   "execution_count": 340,
   "metadata": {},
   "outputs": [
    {
     "name": "stdout",
     "output_type": "stream",
     "text": [
      "['Fio2 (venous blood gas analysis)']\n"
     ]
    }
   ],
   "source": [
    "null_series = (Covid_df_new.isnull().sum() != 0).index\n",
    "target = 'SARS-Cov-2 exam result'\n",
    "one_target = []\n",
    "\n",
    "for col in null_series:\n",
    "    i = Covid_df_new[Covid_df_new[col].notnull()][target].nunique()\n",
    "    if i == 1:\n",
    "        one_target.append(col)    \n",
    "\n",
    "print(one_target)"
   ]
  },
  {
   "cell_type": "code",
   "execution_count": null,
   "metadata": {},
   "outputs": [],
   "source": []
  },
  {
   "cell_type": "code",
   "execution_count": 292,
   "metadata": {},
   "outputs": [],
   "source": [
    "Covid_df_new = Covid_df_new.dropna(axis=0, subset=['Hemoglobin'])"
   ]
  },
  {
   "cell_type": "code",
   "execution_count": null,
   "metadata": {},
   "outputs": [],
   "source": []
  },
  {
   "cell_type": "code",
   "execution_count": 293,
   "metadata": {},
   "outputs": [],
   "source": [
    "Covid_df_new = Covid_df_new.drop([\"Albumin\",\"Ferritin\",\"Lipase dosage\",\"Vitamin B12\",\"Urine - Crystals\",\"Phosphor\",\"Urine - Nitrite\",\"Urine - Ketone Bodies\"],axis = 1)"
   ]
  },
  {
   "cell_type": "code",
   "execution_count": 294,
   "metadata": {},
   "outputs": [
    {
     "data": {
      "text/plain": [
       "(603, 98)"
      ]
     },
     "execution_count": 294,
     "metadata": {},
     "output_type": "execute_result"
    }
   ],
   "source": [
    "#print the count of the values\n",
    "Covid_df_new.shape"
   ]
  },
  {
   "cell_type": "code",
   "execution_count": 295,
   "metadata": {},
   "outputs": [
    {
     "data": {
      "text/plain": [
       "Patient ID                                                 0\n",
       "Patient age quantile                                       0\n",
       "SARS-Cov-2 exam result                                     0\n",
       "Patient addmited to regular ward (1=yes, 0=no)             0\n",
       "Patient addmited to semi-intensive unit (1=yes, 0=no)      0\n",
       "Patient addmited to intensive care unit (1=yes, 0=no)      0\n",
       "Hematocrit                                                 0\n",
       "Hemoglobin                                                 0\n",
       "Platelets                                                  1\n",
       "Mean platelet volume                                       4\n",
       "Red blood Cells                                            1\n",
       "Lymphocytes                                                1\n",
       "Mean corpuscular hemoglobin concentration (MCHC)           1\n",
       "Leukocytes                                                 1\n",
       "Basophils                                                  1\n",
       "Mean corpuscular hemoglobin (MCH)                          1\n",
       "Eosinophils                                                1\n",
       "Mean corpuscular volume (MCV)                              1\n",
       "Monocytes                                                  2\n",
       "Red blood cell distribution width (RDW)                    1\n",
       "Serum Glucose                                            395\n",
       "Respiratory Syncytial Virus                              237\n",
       "Influenza A                                              237\n",
       "Influenza B                                              237\n",
       "Parainfluenza 1                                          237\n",
       "CoronavirusNL63                                          237\n",
       "Rhinovirus/Enterovirus                                   237\n",
       "Coronavirus HKU1                                         237\n",
       "Parainfluenza 3                                          237\n",
       "Chlamydophila pneumoniae                                 237\n",
       "                                                        ... \n",
       "Myelocytes                                               506\n",
       "Myeloblasts                                              506\n",
       "Urine - Esterase                                         555\n",
       "Urine - Aspect                                           549\n",
       "Urine - pH                                               549\n",
       "Urine - Hemoglobin                                       549\n",
       "Urine - Bile pigments                                    549\n",
       "Urine - Density                                          549\n",
       "Urine - Urobilinogen                                     550\n",
       "Urine - Protein                                          557\n",
       "Urine - Leukocytes                                       549\n",
       "Urine - Red blood cells                                  549\n",
       "Urine - Hyaline cylinders                                551\n",
       "Urine - Granular cylinders                               550\n",
       "Urine - Yeasts                                           549\n",
       "Urine - Color                                            549\n",
       "Relationship (Patient/Normal)                            512\n",
       "International normalized ratio (INR)                     470\n",
       "Lactic Dehydrogenase                                     503\n",
       "Creatine phosphokinase (CPK)                             500\n",
       "Arterial Lactic Acid                                     576\n",
       "Hb saturation (arterial blood gases)                     576\n",
       "pCO2 (arterial blood gas analysis)                       576\n",
       "Base excess (arterial blood gas analysis)                576\n",
       "pH (arterial blood gas analysis)                         576\n",
       "Total CO2 (arterial blood gas analysis)                  576\n",
       "HCO3 (arterial blood gas analysis)                       576\n",
       "pO2 (arterial blood gas analysis)                        576\n",
       "Arteiral Fio2                                            583\n",
       "ctO2 (arterial blood gas analysis)                       576\n",
       "Length: 98, dtype: int64"
      ]
     },
     "execution_count": 295,
     "metadata": {},
     "output_type": "execute_result"
    }
   ],
   "source": [
    "Covid_df_new.isnull().sum()"
   ]
  },
  {
   "cell_type": "markdown",
   "metadata": {},
   "source": [
    "# Handling null value"
   ]
  },
  {
   "cell_type": "markdown",
   "metadata": {},
   "source": [
    "There are Total of 558 Postive case and 5086 negative case . we have many miisng values and to handle it let create datset for positive and negative seperatly and handle it. As Hemoglobin forms a a vital stats we cant not input it with mean and median and hence ignoring those records."
   ]
  },
  {
   "cell_type": "code",
   "execution_count": 296,
   "metadata": {},
   "outputs": [],
   "source": [
    "Covid_df_new=Covid_df_new.drop([\"Patient ID\"],axis = 1)"
   ]
  },
  {
   "cell_type": "code",
   "execution_count": 297,
   "metadata": {},
   "outputs": [],
   "source": [
    "#X = main_df.drop(['greatstone_rating','fund_id'],axis = 1)\n",
    "#y = main_df['greatstone_rating']"
   ]
  },
  {
   "cell_type": "code",
   "execution_count": 298,
   "metadata": {},
   "outputs": [],
   "source": [
    "Covid_Postive_df=Covid_df_new[Covid_df_new['SARS-Cov-2 exam result'] == 1]"
   ]
  },
  {
   "cell_type": "code",
   "execution_count": 299,
   "metadata": {},
   "outputs": [
    {
     "data": {
      "text/plain": [
       "(83, 97)"
      ]
     },
     "execution_count": 299,
     "metadata": {},
     "output_type": "execute_result"
    }
   ],
   "source": [
    "Covid_Postive_df.shape"
   ]
  },
  {
   "cell_type": "code",
   "execution_count": 300,
   "metadata": {},
   "outputs": [
    {
     "data": {
      "text/plain": [
       "Patient age quantile                                      0\n",
       "SARS-Cov-2 exam result                                    0\n",
       "Patient addmited to regular ward (1=yes, 0=no)            0\n",
       "Patient addmited to semi-intensive unit (1=yes, 0=no)     0\n",
       "Patient addmited to intensive care unit (1=yes, 0=no)     0\n",
       "Hematocrit                                                0\n",
       "Hemoglobin                                                0\n",
       "Platelets                                                 0\n",
       "Mean platelet volume                                      2\n",
       "Red blood Cells                                           0\n",
       "Lymphocytes                                               0\n",
       "Mean corpuscular hemoglobin concentration (MCHC)          0\n",
       "Leukocytes                                                0\n",
       "Basophils                                                 0\n",
       "Mean corpuscular hemoglobin (MCH)                         0\n",
       "Eosinophils                                               0\n",
       "Mean corpuscular volume (MCV)                             0\n",
       "Monocytes                                                 0\n",
       "Red blood cell distribution width (RDW)                   0\n",
       "Serum Glucose                                            50\n",
       "Respiratory Syncytial Virus                              31\n",
       "Influenza A                                              31\n",
       "Influenza B                                              31\n",
       "Parainfluenza 1                                          31\n",
       "CoronavirusNL63                                          31\n",
       "Rhinovirus/Enterovirus                                   31\n",
       "Coronavirus HKU1                                         31\n",
       "Parainfluenza 3                                          31\n",
       "Chlamydophila pneumoniae                                 31\n",
       "Adenovirus                                               31\n",
       "                                                         ..\n",
       "Myelocytes                                               74\n",
       "Myeloblasts                                              74\n",
       "Urine - Esterase                                         75\n",
       "Urine - Aspect                                           74\n",
       "Urine - pH                                               74\n",
       "Urine - Hemoglobin                                       74\n",
       "Urine - Bile pigments                                    74\n",
       "Urine - Density                                          74\n",
       "Urine - Urobilinogen                                     74\n",
       "Urine - Protein                                          76\n",
       "Urine - Leukocytes                                       74\n",
       "Urine - Red blood cells                                  74\n",
       "Urine - Hyaline cylinders                                75\n",
       "Urine - Granular cylinders                               74\n",
       "Urine - Yeasts                                           74\n",
       "Urine - Color                                            74\n",
       "Relationship (Patient/Normal)                            68\n",
       "International normalized ratio (INR)                     60\n",
       "Lactic Dehydrogenase                                     57\n",
       "Creatine phosphokinase (CPK)                             60\n",
       "Arterial Lactic Acid                                     70\n",
       "Hb saturation (arterial blood gases)                     70\n",
       "pCO2 (arterial blood gas analysis)                       70\n",
       "Base excess (arterial blood gas analysis)                70\n",
       "pH (arterial blood gas analysis)                         70\n",
       "Total CO2 (arterial blood gas analysis)                  70\n",
       "HCO3 (arterial blood gas analysis)                       70\n",
       "pO2 (arterial blood gas analysis)                        70\n",
       "Arteiral Fio2                                            74\n",
       "ctO2 (arterial blood gas analysis)                       70\n",
       "Length: 97, dtype: int64"
      ]
     },
     "execution_count": 300,
     "metadata": {},
     "output_type": "execute_result"
    }
   ],
   "source": [
    "Covid_Postive_df.isnull().sum()"
   ]
  },
  {
   "cell_type": "code",
   "execution_count": 301,
   "metadata": {},
   "outputs": [],
   "source": [
    "Covid_Postive_Regular_df=Covid_Postive_df[Covid_Postive_df['Patient addmited to regular ward (1=yes, 0=no)'] == 1]"
   ]
  },
  {
   "cell_type": "code",
   "execution_count": 302,
   "metadata": {},
   "outputs": [
    {
     "data": {
      "text/plain": [
       "(27, 97)"
      ]
     },
     "execution_count": 302,
     "metadata": {},
     "output_type": "execute_result"
    }
   ],
   "source": [
    "Covid_Postive_Regular_df.shape"
   ]
  },
  {
   "cell_type": "code",
   "execution_count": 303,
   "metadata": {},
   "outputs": [],
   "source": [
    "Covid_Postive_semi_intensive_df=Covid_Postive_df[Covid_Postive_df['Patient addmited to semi-intensive unit (1=yes, 0=no)'] == 1]"
   ]
  },
  {
   "cell_type": "code",
   "execution_count": 304,
   "metadata": {},
   "outputs": [
    {
     "data": {
      "text/plain": [
       "(8, 97)"
      ]
     },
     "execution_count": 304,
     "metadata": {},
     "output_type": "execute_result"
    }
   ],
   "source": [
    "Covid_Postive_semi_intensive_df.shape"
   ]
  },
  {
   "cell_type": "code",
   "execution_count": 305,
   "metadata": {},
   "outputs": [],
   "source": [
    "Covid_Postive_intensive_df=Covid_Postive_df[Covid_Postive_df['Patient addmited to intensive care unit (1=yes, 0=no)'] == 1]"
   ]
  },
  {
   "cell_type": "code",
   "execution_count": 306,
   "metadata": {},
   "outputs": [
    {
     "data": {
      "text/plain": [
       "(8, 97)"
      ]
     },
     "execution_count": 306,
     "metadata": {},
     "output_type": "execute_result"
    }
   ],
   "source": [
    "Covid_Postive_intensive_df.shape"
   ]
  },
  {
   "cell_type": "code",
   "execution_count": 307,
   "metadata": {},
   "outputs": [],
   "source": [
    "Covid_Postive_Other_df=Covid_Postive_df[(Covid_Postive_df['Patient addmited to regular ward (1=yes, 0=no)'] == 0) &\n",
    "(Covid_Postive_df['Patient addmited to semi-intensive unit (1=yes, 0=no)'] == 0) &\n",
    "(Covid_Postive_df['Patient addmited to intensive care unit (1=yes, 0=no)'] == 0)\n",
    "]\n",
    "\n"
   ]
  },
  {
   "cell_type": "code",
   "execution_count": 308,
   "metadata": {},
   "outputs": [
    {
     "data": {
      "text/plain": [
       "(40, 97)"
      ]
     },
     "execution_count": 308,
     "metadata": {},
     "output_type": "execute_result"
    }
   ],
   "source": [
    "Covid_Postive_Other_df.shape"
   ]
  },
  {
   "cell_type": "code",
   "execution_count": 309,
   "metadata": {},
   "outputs": [],
   "source": [
    "def groupMeanValue(group):\n",
    "    group = group.fillna(group.median())\n",
    "    return group\n",
    "\n"
   ]
  },
  {
   "cell_type": "code",
   "execution_count": 310,
   "metadata": {},
   "outputs": [],
   "source": [
    "Covid_Postive_Other_df = Covid_Postive_Other_df.transform(groupMeanValue)\n"
   ]
  },
  {
   "cell_type": "code",
   "execution_count": 311,
   "metadata": {},
   "outputs": [
    {
     "data": {
      "text/plain": [
       "Patient age quantile                                     0\n",
       "SARS-Cov-2 exam result                                   0\n",
       "Patient addmited to regular ward (1=yes, 0=no)           0\n",
       "Patient addmited to semi-intensive unit (1=yes, 0=no)    0\n",
       "Patient addmited to intensive care unit (1=yes, 0=no)    0\n",
       "Hematocrit                                               0\n",
       "Hemoglobin                                               0\n",
       "Platelets                                                0\n",
       "Mean platelet volume                                     0\n",
       "Red blood Cells                                          0\n",
       "Lymphocytes                                              0\n",
       "Mean corpuscular hemoglobin concentration (MCHC)         0\n",
       "Leukocytes                                               0\n",
       "Basophils                                                0\n",
       "Mean corpuscular hemoglobin (MCH)                        0\n",
       "Eosinophils                                              0\n",
       "Mean corpuscular volume (MCV)                            0\n",
       "Monocytes                                                0\n",
       "Red blood cell distribution width (RDW)                  0\n",
       "Serum Glucose                                            0\n",
       "Respiratory Syncytial Virus                              0\n",
       "Influenza A                                              0\n",
       "Influenza B                                              0\n",
       "Parainfluenza 1                                          0\n",
       "CoronavirusNL63                                          0\n",
       "Rhinovirus/Enterovirus                                   0\n",
       "Coronavirus HKU1                                         0\n",
       "Parainfluenza 3                                          0\n",
       "Chlamydophila pneumoniae                                 0\n",
       "Adenovirus                                               0\n",
       "                                                        ..\n",
       "Myelocytes                                               0\n",
       "Myeloblasts                                              0\n",
       "Urine - Esterase                                         0\n",
       "Urine - Aspect                                           0\n",
       "Urine - pH                                               0\n",
       "Urine - Hemoglobin                                       0\n",
       "Urine - Bile pigments                                    0\n",
       "Urine - Density                                          0\n",
       "Urine - Urobilinogen                                     0\n",
       "Urine - Protein                                          0\n",
       "Urine - Leukocytes                                       0\n",
       "Urine - Red blood cells                                  0\n",
       "Urine - Hyaline cylinders                                0\n",
       "Urine - Granular cylinders                               0\n",
       "Urine - Yeasts                                           0\n",
       "Urine - Color                                            0\n",
       "Relationship (Patient/Normal)                            0\n",
       "International normalized ratio (INR)                     0\n",
       "Lactic Dehydrogenase                                     0\n",
       "Creatine phosphokinase (CPK)                             0\n",
       "Arterial Lactic Acid                                     0\n",
       "Hb saturation (arterial blood gases)                     0\n",
       "pCO2 (arterial blood gas analysis)                       0\n",
       "Base excess (arterial blood gas analysis)                0\n",
       "pH (arterial blood gas analysis)                         0\n",
       "Total CO2 (arterial blood gas analysis)                  0\n",
       "HCO3 (arterial blood gas analysis)                       0\n",
       "pO2 (arterial blood gas analysis)                        0\n",
       "Arteiral Fio2                                            0\n",
       "ctO2 (arterial blood gas analysis)                       0\n",
       "Length: 97, dtype: int64"
      ]
     },
     "execution_count": 311,
     "metadata": {},
     "output_type": "execute_result"
    }
   ],
   "source": [
    "Covid_Postive_Other_df.isna().sum()"
   ]
  },
  {
   "cell_type": "code",
   "execution_count": 312,
   "metadata": {},
   "outputs": [
    {
     "data": {
      "text/plain": [
       "Patient age quantile                                     0\n",
       "SARS-Cov-2 exam result                                   0\n",
       "Patient addmited to regular ward (1=yes, 0=no)           0\n",
       "Patient addmited to semi-intensive unit (1=yes, 0=no)    0\n",
       "Patient addmited to intensive care unit (1=yes, 0=no)    0\n",
       "Hematocrit                                               0\n",
       "Hemoglobin                                               0\n",
       "Platelets                                                0\n",
       "Mean platelet volume                                     0\n",
       "Red blood Cells                                          0\n",
       "Lymphocytes                                              0\n",
       "Mean corpuscular hemoglobin concentration (MCHC)         0\n",
       "Leukocytes                                               0\n",
       "Basophils                                                0\n",
       "Mean corpuscular hemoglobin (MCH)                        0\n",
       "Eosinophils                                              0\n",
       "Mean corpuscular volume (MCV)                            0\n",
       "Monocytes                                                0\n",
       "Red blood cell distribution width (RDW)                  0\n",
       "Serum Glucose                                            0\n",
       "Respiratory Syncytial Virus                              0\n",
       "Influenza A                                              0\n",
       "Influenza B                                              0\n",
       "Parainfluenza 1                                          0\n",
       "CoronavirusNL63                                          0\n",
       "Rhinovirus/Enterovirus                                   0\n",
       "Coronavirus HKU1                                         0\n",
       "Parainfluenza 3                                          0\n",
       "Chlamydophila pneumoniae                                 0\n",
       "Adenovirus                                               0\n",
       "                                                        ..\n",
       "Myelocytes                                               0\n",
       "Myeloblasts                                              0\n",
       "Urine - Esterase                                         0\n",
       "Urine - Aspect                                           0\n",
       "Urine - pH                                               0\n",
       "Urine - Hemoglobin                                       0\n",
       "Urine - Bile pigments                                    0\n",
       "Urine - Density                                          0\n",
       "Urine - Urobilinogen                                     0\n",
       "Urine - Protein                                          0\n",
       "Urine - Leukocytes                                       0\n",
       "Urine - Red blood cells                                  0\n",
       "Urine - Hyaline cylinders                                0\n",
       "Urine - Granular cylinders                               0\n",
       "Urine - Yeasts                                           0\n",
       "Urine - Color                                            0\n",
       "Relationship (Patient/Normal)                            0\n",
       "International normalized ratio (INR)                     0\n",
       "Lactic Dehydrogenase                                     0\n",
       "Creatine phosphokinase (CPK)                             0\n",
       "Arterial Lactic Acid                                     0\n",
       "Hb saturation (arterial blood gases)                     0\n",
       "pCO2 (arterial blood gas analysis)                       0\n",
       "Base excess (arterial blood gas analysis)                0\n",
       "pH (arterial blood gas analysis)                         0\n",
       "Total CO2 (arterial blood gas analysis)                  0\n",
       "HCO3 (arterial blood gas analysis)                       0\n",
       "pO2 (arterial blood gas analysis)                        0\n",
       "Arteiral Fio2                                            0\n",
       "ctO2 (arterial blood gas analysis)                       0\n",
       "Length: 97, dtype: int64"
      ]
     },
     "execution_count": 312,
     "metadata": {},
     "output_type": "execute_result"
    }
   ],
   "source": [
    "\n",
    "Covid_Postive_Regular_df = Covid_Postive_Regular_df.transform(groupMeanValue)\n",
    "Covid_Postive_Regular_df.isna().sum()"
   ]
  },
  {
   "cell_type": "code",
   "execution_count": 313,
   "metadata": {},
   "outputs": [
    {
     "data": {
      "text/plain": [
       "Patient age quantile                                     0\n",
       "SARS-Cov-2 exam result                                   0\n",
       "Patient addmited to regular ward (1=yes, 0=no)           0\n",
       "Patient addmited to semi-intensive unit (1=yes, 0=no)    0\n",
       "Patient addmited to intensive care unit (1=yes, 0=no)    0\n",
       "Hematocrit                                               0\n",
       "Hemoglobin                                               0\n",
       "Platelets                                                0\n",
       "Mean platelet volume                                     0\n",
       "Red blood Cells                                          0\n",
       "Lymphocytes                                              0\n",
       "Mean corpuscular hemoglobin concentration (MCHC)         0\n",
       "Leukocytes                                               0\n",
       "Basophils                                                0\n",
       "Mean corpuscular hemoglobin (MCH)                        0\n",
       "Eosinophils                                              0\n",
       "Mean corpuscular volume (MCV)                            0\n",
       "Monocytes                                                0\n",
       "Red blood cell distribution width (RDW)                  0\n",
       "Serum Glucose                                            0\n",
       "Respiratory Syncytial Virus                              0\n",
       "Influenza A                                              0\n",
       "Influenza B                                              0\n",
       "Parainfluenza 1                                          0\n",
       "CoronavirusNL63                                          0\n",
       "Rhinovirus/Enterovirus                                   0\n",
       "Coronavirus HKU1                                         0\n",
       "Parainfluenza 3                                          0\n",
       "Chlamydophila pneumoniae                                 0\n",
       "Adenovirus                                               0\n",
       "                                                        ..\n",
       "Myelocytes                                               0\n",
       "Myeloblasts                                              0\n",
       "Urine - Esterase                                         0\n",
       "Urine - Aspect                                           0\n",
       "Urine - pH                                               0\n",
       "Urine - Hemoglobin                                       0\n",
       "Urine - Bile pigments                                    0\n",
       "Urine - Density                                          0\n",
       "Urine - Urobilinogen                                     0\n",
       "Urine - Protein                                          0\n",
       "Urine - Leukocytes                                       0\n",
       "Urine - Red blood cells                                  0\n",
       "Urine - Hyaline cylinders                                0\n",
       "Urine - Granular cylinders                               0\n",
       "Urine - Yeasts                                           0\n",
       "Urine - Color                                            0\n",
       "Relationship (Patient/Normal)                            0\n",
       "International normalized ratio (INR)                     0\n",
       "Lactic Dehydrogenase                                     0\n",
       "Creatine phosphokinase (CPK)                             0\n",
       "Arterial Lactic Acid                                     0\n",
       "Hb saturation (arterial blood gases)                     0\n",
       "pCO2 (arterial blood gas analysis)                       0\n",
       "Base excess (arterial blood gas analysis)                0\n",
       "pH (arterial blood gas analysis)                         0\n",
       "Total CO2 (arterial blood gas analysis)                  0\n",
       "HCO3 (arterial blood gas analysis)                       0\n",
       "pO2 (arterial blood gas analysis)                        0\n",
       "Arteiral Fio2                                            0\n",
       "ctO2 (arterial blood gas analysis)                       0\n",
       "Length: 97, dtype: int64"
      ]
     },
     "execution_count": 313,
     "metadata": {},
     "output_type": "execute_result"
    }
   ],
   "source": [
    "Covid_Postive_semi_intensive_df = Covid_Postive_semi_intensive_df.transform(groupMeanValue)\n",
    "Covid_Postive_semi_intensive_df.isna().sum()"
   ]
  },
  {
   "cell_type": "code",
   "execution_count": 314,
   "metadata": {},
   "outputs": [
    {
     "data": {
      "text/plain": [
       "Patient age quantile                                     0\n",
       "SARS-Cov-2 exam result                                   0\n",
       "Patient addmited to regular ward (1=yes, 0=no)           0\n",
       "Patient addmited to semi-intensive unit (1=yes, 0=no)    0\n",
       "Patient addmited to intensive care unit (1=yes, 0=no)    0\n",
       "Hematocrit                                               0\n",
       "Hemoglobin                                               0\n",
       "Platelets                                                0\n",
       "Mean platelet volume                                     0\n",
       "Red blood Cells                                          0\n",
       "Lymphocytes                                              0\n",
       "Mean corpuscular hemoglobin concentration (MCHC)         0\n",
       "Leukocytes                                               0\n",
       "Basophils                                                0\n",
       "Mean corpuscular hemoglobin (MCH)                        0\n",
       "Eosinophils                                              0\n",
       "Mean corpuscular volume (MCV)                            0\n",
       "Monocytes                                                0\n",
       "Red blood cell distribution width (RDW)                  0\n",
       "Serum Glucose                                            0\n",
       "Respiratory Syncytial Virus                              0\n",
       "Influenza A                                              0\n",
       "Influenza B                                              0\n",
       "Parainfluenza 1                                          0\n",
       "CoronavirusNL63                                          0\n",
       "Rhinovirus/Enterovirus                                   0\n",
       "Coronavirus HKU1                                         0\n",
       "Parainfluenza 3                                          0\n",
       "Chlamydophila pneumoniae                                 0\n",
       "Adenovirus                                               0\n",
       "                                                        ..\n",
       "Myelocytes                                               0\n",
       "Myeloblasts                                              0\n",
       "Urine - Esterase                                         0\n",
       "Urine - Aspect                                           0\n",
       "Urine - pH                                               0\n",
       "Urine - Hemoglobin                                       0\n",
       "Urine - Bile pigments                                    0\n",
       "Urine - Density                                          0\n",
       "Urine - Urobilinogen                                     0\n",
       "Urine - Protein                                          0\n",
       "Urine - Leukocytes                                       0\n",
       "Urine - Red blood cells                                  0\n",
       "Urine - Hyaline cylinders                                0\n",
       "Urine - Granular cylinders                               0\n",
       "Urine - Yeasts                                           0\n",
       "Urine - Color                                            0\n",
       "Relationship (Patient/Normal)                            0\n",
       "International normalized ratio (INR)                     0\n",
       "Lactic Dehydrogenase                                     0\n",
       "Creatine phosphokinase (CPK)                             0\n",
       "Arterial Lactic Acid                                     0\n",
       "Hb saturation (arterial blood gases)                     0\n",
       "pCO2 (arterial blood gas analysis)                       0\n",
       "Base excess (arterial blood gas analysis)                0\n",
       "pH (arterial blood gas analysis)                         0\n",
       "Total CO2 (arterial blood gas analysis)                  0\n",
       "HCO3 (arterial blood gas analysis)                       0\n",
       "pO2 (arterial blood gas analysis)                        0\n",
       "Arteiral Fio2                                            0\n",
       "ctO2 (arterial blood gas analysis)                       0\n",
       "Length: 97, dtype: int64"
      ]
     },
     "execution_count": 314,
     "metadata": {},
     "output_type": "execute_result"
    }
   ],
   "source": [
    "Covid_Postive_intensive_df = Covid_Postive_intensive_df.transform(groupMeanValue)\n",
    "Covid_Postive_intensive_df.isna().sum()"
   ]
  },
  {
   "cell_type": "code",
   "execution_count": 315,
   "metadata": {},
   "outputs": [],
   "source": [
    "\n",
    "Covid_Postive_New_df = Covid_Postive_intensive_df.append([Covid_Postive_semi_intensive_df, Covid_Postive_Regular_df,Covid_Postive_Other_df])"
   ]
  },
  {
   "cell_type": "code",
   "execution_count": 316,
   "metadata": {},
   "outputs": [
    {
     "data": {
      "text/plain": [
       "(83, 97)"
      ]
     },
     "execution_count": 316,
     "metadata": {},
     "output_type": "execute_result"
    }
   ],
   "source": [
    "Covid_Postive_New_df.shape"
   ]
  },
  {
   "cell_type": "code",
   "execution_count": 317,
   "metadata": {},
   "outputs": [
    {
     "data": {
      "text/plain": [
       "Patient age quantile                                     0\n",
       "SARS-Cov-2 exam result                                   0\n",
       "Patient addmited to regular ward (1=yes, 0=no)           0\n",
       "Patient addmited to semi-intensive unit (1=yes, 0=no)    0\n",
       "Patient addmited to intensive care unit (1=yes, 0=no)    0\n",
       "Hematocrit                                               0\n",
       "Hemoglobin                                               0\n",
       "Platelets                                                0\n",
       "Mean platelet volume                                     0\n",
       "Red blood Cells                                          0\n",
       "Lymphocytes                                              0\n",
       "Mean corpuscular hemoglobin concentration (MCHC)         0\n",
       "Leukocytes                                               0\n",
       "Basophils                                                0\n",
       "Mean corpuscular hemoglobin (MCH)                        0\n",
       "Eosinophils                                              0\n",
       "Mean corpuscular volume (MCV)                            0\n",
       "Monocytes                                                0\n",
       "Red blood cell distribution width (RDW)                  0\n",
       "Serum Glucose                                            0\n",
       "Respiratory Syncytial Virus                              0\n",
       "Influenza A                                              0\n",
       "Influenza B                                              0\n",
       "Parainfluenza 1                                          0\n",
       "CoronavirusNL63                                          0\n",
       "Rhinovirus/Enterovirus                                   0\n",
       "Coronavirus HKU1                                         0\n",
       "Parainfluenza 3                                          0\n",
       "Chlamydophila pneumoniae                                 0\n",
       "Adenovirus                                               0\n",
       "                                                        ..\n",
       "Myelocytes                                               0\n",
       "Myeloblasts                                              0\n",
       "Urine - Esterase                                         0\n",
       "Urine - Aspect                                           0\n",
       "Urine - pH                                               0\n",
       "Urine - Hemoglobin                                       0\n",
       "Urine - Bile pigments                                    0\n",
       "Urine - Density                                          0\n",
       "Urine - Urobilinogen                                     0\n",
       "Urine - Protein                                          0\n",
       "Urine - Leukocytes                                       0\n",
       "Urine - Red blood cells                                  0\n",
       "Urine - Hyaline cylinders                                0\n",
       "Urine - Granular cylinders                               0\n",
       "Urine - Yeasts                                           0\n",
       "Urine - Color                                            0\n",
       "Relationship (Patient/Normal)                            0\n",
       "International normalized ratio (INR)                     0\n",
       "Lactic Dehydrogenase                                     0\n",
       "Creatine phosphokinase (CPK)                             0\n",
       "Arterial Lactic Acid                                     0\n",
       "Hb saturation (arterial blood gases)                     0\n",
       "pCO2 (arterial blood gas analysis)                       0\n",
       "Base excess (arterial blood gas analysis)                0\n",
       "pH (arterial blood gas analysis)                         0\n",
       "Total CO2 (arterial blood gas analysis)                  0\n",
       "HCO3 (arterial blood gas analysis)                       0\n",
       "pO2 (arterial blood gas analysis)                        0\n",
       "Arteiral Fio2                                            0\n",
       "ctO2 (arterial blood gas analysis)                       0\n",
       "Length: 97, dtype: int64"
      ]
     },
     "execution_count": 317,
     "metadata": {},
     "output_type": "execute_result"
    }
   ],
   "source": [
    "Covid_Postive_New_df.isna().sum()"
   ]
  },
  {
   "cell_type": "code",
   "execution_count": 318,
   "metadata": {},
   "outputs": [],
   "source": [
    "Covid_Negative_df=Covid_df_new[Covid_df_new['SARS-Cov-2 exam result'] == 0]"
   ]
  },
  {
   "cell_type": "code",
   "execution_count": 319,
   "metadata": {},
   "outputs": [
    {
     "data": {
      "text/plain": [
       "(520, 97)"
      ]
     },
     "execution_count": 319,
     "metadata": {},
     "output_type": "execute_result"
    }
   ],
   "source": [
    "Covid_Negative_df.shape"
   ]
  },
  {
   "cell_type": "code",
   "execution_count": 320,
   "metadata": {},
   "outputs": [
    {
     "data": {
      "text/plain": [
       "Patient age quantile                                       0\n",
       "SARS-Cov-2 exam result                                     0\n",
       "Patient addmited to regular ward (1=yes, 0=no)             0\n",
       "Patient addmited to semi-intensive unit (1=yes, 0=no)      0\n",
       "Patient addmited to intensive care unit (1=yes, 0=no)      0\n",
       "Hematocrit                                                 0\n",
       "Hemoglobin                                                 0\n",
       "Platelets                                                  1\n",
       "Mean platelet volume                                       2\n",
       "Red blood Cells                                            1\n",
       "Lymphocytes                                                1\n",
       "Mean corpuscular hemoglobin concentration (MCHC)           1\n",
       "Leukocytes                                                 1\n",
       "Basophils                                                  1\n",
       "Mean corpuscular hemoglobin (MCH)                          1\n",
       "Eosinophils                                                1\n",
       "Mean corpuscular volume (MCV)                              1\n",
       "Monocytes                                                  2\n",
       "Red blood cell distribution width (RDW)                    1\n",
       "Serum Glucose                                            345\n",
       "Respiratory Syncytial Virus                              206\n",
       "Influenza A                                              206\n",
       "Influenza B                                              206\n",
       "Parainfluenza 1                                          206\n",
       "CoronavirusNL63                                          206\n",
       "Rhinovirus/Enterovirus                                   206\n",
       "Coronavirus HKU1                                         206\n",
       "Parainfluenza 3                                          206\n",
       "Chlamydophila pneumoniae                                 206\n",
       "Adenovirus                                               206\n",
       "                                                        ... \n",
       "Myelocytes                                               432\n",
       "Myeloblasts                                              432\n",
       "Urine - Esterase                                         480\n",
       "Urine - Aspect                                           475\n",
       "Urine - pH                                               475\n",
       "Urine - Hemoglobin                                       475\n",
       "Urine - Bile pigments                                    475\n",
       "Urine - Density                                          475\n",
       "Urine - Urobilinogen                                     476\n",
       "Urine - Protein                                          481\n",
       "Urine - Leukocytes                                       475\n",
       "Urine - Red blood cells                                  475\n",
       "Urine - Hyaline cylinders                                476\n",
       "Urine - Granular cylinders                               476\n",
       "Urine - Yeasts                                           475\n",
       "Urine - Color                                            475\n",
       "Relationship (Patient/Normal)                            444\n",
       "International normalized ratio (INR)                     410\n",
       "Lactic Dehydrogenase                                     446\n",
       "Creatine phosphokinase (CPK)                             440\n",
       "Arterial Lactic Acid                                     506\n",
       "Hb saturation (arterial blood gases)                     506\n",
       "pCO2 (arterial blood gas analysis)                       506\n",
       "Base excess (arterial blood gas analysis)                506\n",
       "pH (arterial blood gas analysis)                         506\n",
       "Total CO2 (arterial blood gas analysis)                  506\n",
       "HCO3 (arterial blood gas analysis)                       506\n",
       "pO2 (arterial blood gas analysis)                        506\n",
       "Arteiral Fio2                                            509\n",
       "ctO2 (arterial blood gas analysis)                       506\n",
       "Length: 97, dtype: int64"
      ]
     },
     "execution_count": 320,
     "metadata": {},
     "output_type": "execute_result"
    }
   ],
   "source": [
    "Covid_Negative_df.isnull().sum()"
   ]
  },
  {
   "cell_type": "code",
   "execution_count": 321,
   "metadata": {},
   "outputs": [],
   "source": [
    "Covid_Negative_Regular_df=Covid_Negative_df[Covid_Negative_df['Patient addmited to regular ward (1=yes, 0=no)'] == 0]"
   ]
  },
  {
   "cell_type": "code",
   "execution_count": 322,
   "metadata": {},
   "outputs": [
    {
     "data": {
      "text/plain": [
       "Patient age quantile                                       0\n",
       "SARS-Cov-2 exam result                                     0\n",
       "Patient addmited to regular ward (1=yes, 0=no)             0\n",
       "Patient addmited to semi-intensive unit (1=yes, 0=no)      0\n",
       "Patient addmited to intensive care unit (1=yes, 0=no)      0\n",
       "Hematocrit                                                 0\n",
       "Hemoglobin                                                 0\n",
       "Platelets                                                  1\n",
       "Mean platelet volume                                       2\n",
       "Red blood Cells                                            1\n",
       "Lymphocytes                                                1\n",
       "Mean corpuscular hemoglobin concentration (MCHC)           1\n",
       "Leukocytes                                                 1\n",
       "Basophils                                                  1\n",
       "Mean corpuscular hemoglobin (MCH)                          1\n",
       "Eosinophils                                                1\n",
       "Mean corpuscular volume (MCV)                              1\n",
       "Monocytes                                                  2\n",
       "Red blood cell distribution width (RDW)                    1\n",
       "Serum Glucose                                            327\n",
       "Respiratory Syncytial Virus                              200\n",
       "Influenza A                                              200\n",
       "Influenza B                                              200\n",
       "Parainfluenza 1                                          200\n",
       "CoronavirusNL63                                          200\n",
       "Rhinovirus/Enterovirus                                   200\n",
       "Coronavirus HKU1                                         200\n",
       "Parainfluenza 3                                          200\n",
       "Chlamydophila pneumoniae                                 200\n",
       "Adenovirus                                               200\n",
       "                                                        ... \n",
       "Myelocytes                                               407\n",
       "Myeloblasts                                              407\n",
       "Urine - Esterase                                         454\n",
       "Urine - Aspect                                           450\n",
       "Urine - pH                                               450\n",
       "Urine - Hemoglobin                                       450\n",
       "Urine - Bile pigments                                    450\n",
       "Urine - Density                                          450\n",
       "Urine - Urobilinogen                                     451\n",
       "Urine - Protein                                          455\n",
       "Urine - Leukocytes                                       450\n",
       "Urine - Red blood cells                                  450\n",
       "Urine - Hyaline cylinders                                451\n",
       "Urine - Granular cylinders                               451\n",
       "Urine - Yeasts                                           450\n",
       "Urine - Color                                            450\n",
       "Relationship (Patient/Normal)                            418\n",
       "International normalized ratio (INR)                     386\n",
       "Lactic Dehydrogenase                                     425\n",
       "Creatine phosphokinase (CPK)                             414\n",
       "Arterial Lactic Acid                                     477\n",
       "Hb saturation (arterial blood gases)                     477\n",
       "pCO2 (arterial blood gas analysis)                       477\n",
       "Base excess (arterial blood gas analysis)                477\n",
       "pH (arterial blood gas analysis)                         477\n",
       "Total CO2 (arterial blood gas analysis)                  477\n",
       "HCO3 (arterial blood gas analysis)                       477\n",
       "pO2 (arterial blood gas analysis)                        477\n",
       "Arteiral Fio2                                            480\n",
       "ctO2 (arterial blood gas analysis)                       477\n",
       "Length: 97, dtype: int64"
      ]
     },
     "execution_count": 322,
     "metadata": {},
     "output_type": "execute_result"
    }
   ],
   "source": [
    "Covid_Negative_Regular_df.isnull().sum()"
   ]
  },
  {
   "cell_type": "code",
   "execution_count": 323,
   "metadata": {},
   "outputs": [],
   "source": [
    "Covid_Negative_semi_intensive_df=Covid_Negative_df[Covid_Negative_df['Patient addmited to semi-intensive unit (1=yes, 0=no)'] == 0]"
   ]
  },
  {
   "cell_type": "code",
   "execution_count": 324,
   "metadata": {},
   "outputs": [
    {
     "data": {
      "text/plain": [
       "Patient age quantile                                       0\n",
       "SARS-Cov-2 exam result                                     0\n",
       "Patient addmited to regular ward (1=yes, 0=no)             0\n",
       "Patient addmited to semi-intensive unit (1=yes, 0=no)      0\n",
       "Patient addmited to intensive care unit (1=yes, 0=no)      0\n",
       "Hematocrit                                                 0\n",
       "Hemoglobin                                                 0\n",
       "Platelets                                                  1\n",
       "Mean platelet volume                                       2\n",
       "Red blood Cells                                            1\n",
       "Lymphocytes                                                1\n",
       "Mean corpuscular hemoglobin concentration (MCHC)           1\n",
       "Leukocytes                                                 1\n",
       "Basophils                                                  1\n",
       "Mean corpuscular hemoglobin (MCH)                          1\n",
       "Eosinophils                                                1\n",
       "Mean corpuscular volume (MCV)                              1\n",
       "Monocytes                                                  2\n",
       "Red blood cell distribution width (RDW)                    1\n",
       "Serum Glucose                                            328\n",
       "Respiratory Syncytial Virus                              199\n",
       "Influenza A                                              199\n",
       "Influenza B                                              199\n",
       "Parainfluenza 1                                          199\n",
       "CoronavirusNL63                                          199\n",
       "Rhinovirus/Enterovirus                                   199\n",
       "Coronavirus HKU1                                         199\n",
       "Parainfluenza 3                                          199\n",
       "Chlamydophila pneumoniae                                 199\n",
       "Adenovirus                                               199\n",
       "                                                        ... \n",
       "Myelocytes                                               412\n",
       "Myeloblasts                                              412\n",
       "Urine - Esterase                                         448\n",
       "Urine - Aspect                                           444\n",
       "Urine - pH                                               444\n",
       "Urine - Hemoglobin                                       444\n",
       "Urine - Bile pigments                                    444\n",
       "Urine - Density                                          444\n",
       "Urine - Urobilinogen                                     445\n",
       "Urine - Protein                                          448\n",
       "Urine - Leukocytes                                       444\n",
       "Urine - Red blood cells                                  444\n",
       "Urine - Hyaline cylinders                                444\n",
       "Urine - Granular cylinders                               444\n",
       "Urine - Yeasts                                           444\n",
       "Urine - Color                                            444\n",
       "Relationship (Patient/Normal)                            425\n",
       "International normalized ratio (INR)                     399\n",
       "Lactic Dehydrogenase                                     422\n",
       "Creatine phosphokinase (CPK)                             415\n",
       "Arterial Lactic Acid                                     477\n",
       "Hb saturation (arterial blood gases)                     477\n",
       "pCO2 (arterial blood gas analysis)                       477\n",
       "Base excess (arterial blood gas analysis)                477\n",
       "pH (arterial blood gas analysis)                         477\n",
       "Total CO2 (arterial blood gas analysis)                  477\n",
       "HCO3 (arterial blood gas analysis)                       477\n",
       "pO2 (arterial blood gas analysis)                        477\n",
       "Arteiral Fio2                                            478\n",
       "ctO2 (arterial blood gas analysis)                       477\n",
       "Length: 97, dtype: int64"
      ]
     },
     "execution_count": 324,
     "metadata": {},
     "output_type": "execute_result"
    }
   ],
   "source": [
    "Covid_Negative_semi_intensive_df.isnull().sum()"
   ]
  },
  {
   "cell_type": "code",
   "execution_count": 325,
   "metadata": {},
   "outputs": [],
   "source": [
    "Covid_Negative_intensive_df=Covid_Negative_df[Covid_Negative_df['Patient addmited to intensive care unit (1=yes, 0=no)'] == 0]"
   ]
  },
  {
   "cell_type": "code",
   "execution_count": 326,
   "metadata": {},
   "outputs": [
    {
     "data": {
      "text/plain": [
       "Patient age quantile                                       0\n",
       "SARS-Cov-2 exam result                                     0\n",
       "Patient addmited to regular ward (1=yes, 0=no)             0\n",
       "Patient addmited to semi-intensive unit (1=yes, 0=no)      0\n",
       "Patient addmited to intensive care unit (1=yes, 0=no)      0\n",
       "Hematocrit                                                 0\n",
       "Hemoglobin                                                 0\n",
       "Platelets                                                  1\n",
       "Mean platelet volume                                       2\n",
       "Red blood Cells                                            1\n",
       "Lymphocytes                                                1\n",
       "Mean corpuscular hemoglobin concentration (MCHC)           1\n",
       "Leukocytes                                                 1\n",
       "Basophils                                                  1\n",
       "Mean corpuscular hemoglobin (MCH)                          1\n",
       "Eosinophils                                                1\n",
       "Mean corpuscular volume (MCV)                              1\n",
       "Monocytes                                                  2\n",
       "Red blood cell distribution width (RDW)                    1\n",
       "Serum Glucose                                            333\n",
       "Respiratory Syncytial Virus                              201\n",
       "Influenza A                                              201\n",
       "Influenza B                                              201\n",
       "Parainfluenza 1                                          201\n",
       "CoronavirusNL63                                          201\n",
       "Rhinovirus/Enterovirus                                   201\n",
       "Coronavirus HKU1                                         201\n",
       "Parainfluenza 3                                          201\n",
       "Chlamydophila pneumoniae                                 201\n",
       "Adenovirus                                               201\n",
       "                                                        ... \n",
       "Myelocytes                                               427\n",
       "Myeloblasts                                              427\n",
       "Urine - Esterase                                         462\n",
       "Urine - Aspect                                           457\n",
       "Urine - pH                                               457\n",
       "Urine - Hemoglobin                                       457\n",
       "Urine - Bile pigments                                    457\n",
       "Urine - Density                                          457\n",
       "Urine - Urobilinogen                                     458\n",
       "Urine - Protein                                          462\n",
       "Urine - Leukocytes                                       457\n",
       "Urine - Red blood cells                                  457\n",
       "Urine - Hyaline cylinders                                458\n",
       "Urine - Granular cylinders                               458\n",
       "Urine - Yeasts                                           457\n",
       "Urine - Color                                            457\n",
       "Relationship (Patient/Normal)                            430\n",
       "International normalized ratio (INR)                     400\n",
       "Lactic Dehydrogenase                                     430\n",
       "Creatine phosphokinase (CPK)                             424\n",
       "Arterial Lactic Acid                                     488\n",
       "Hb saturation (arterial blood gases)                     488\n",
       "pCO2 (arterial blood gas analysis)                       488\n",
       "Base excess (arterial blood gas analysis)                488\n",
       "pH (arterial blood gas analysis)                         488\n",
       "Total CO2 (arterial blood gas analysis)                  488\n",
       "HCO3 (arterial blood gas analysis)                       488\n",
       "pO2 (arterial blood gas analysis)                        488\n",
       "Arteiral Fio2                                            491\n",
       "ctO2 (arterial blood gas analysis)                       488\n",
       "Length: 97, dtype: int64"
      ]
     },
     "execution_count": 326,
     "metadata": {},
     "output_type": "execute_result"
    }
   ],
   "source": [
    "Covid_Negative_intensive_df.isnull().sum()"
   ]
  },
  {
   "cell_type": "code",
   "execution_count": 327,
   "metadata": {},
   "outputs": [],
   "source": [
    "Covid_Negative_Other_df=Covid_Negative_df[(Covid_Negative_df['Patient addmited to regular ward (1=yes, 0=no)'] == 0) &\n",
    "(Covid_Negative_df['Patient addmited to semi-intensive unit (1=yes, 0=no)'] == 0) &\n",
    "(Covid_Negative_df['Patient addmited to intensive care unit (1=yes, 0=no)'] == 0)\n",
    "]"
   ]
  },
  {
   "cell_type": "code",
   "execution_count": 328,
   "metadata": {},
   "outputs": [
    {
     "data": {
      "text/plain": [
       "Patient age quantile                                     0\n",
       "SARS-Cov-2 exam result                                   0\n",
       "Patient addmited to regular ward (1=yes, 0=no)           0\n",
       "Patient addmited to semi-intensive unit (1=yes, 0=no)    0\n",
       "Patient addmited to intensive care unit (1=yes, 0=no)    0\n",
       "Hematocrit                                               0\n",
       "Hemoglobin                                               0\n",
       "Platelets                                                0\n",
       "Mean platelet volume                                     0\n",
       "Red blood Cells                                          0\n",
       "Lymphocytes                                              0\n",
       "Mean corpuscular hemoglobin concentration (MCHC)         0\n",
       "Leukocytes                                               0\n",
       "Basophils                                                0\n",
       "Mean corpuscular hemoglobin (MCH)                        0\n",
       "Eosinophils                                              0\n",
       "Mean corpuscular volume (MCV)                            0\n",
       "Monocytes                                                0\n",
       "Red blood cell distribution width (RDW)                  0\n",
       "Serum Glucose                                            0\n",
       "Respiratory Syncytial Virus                              0\n",
       "Influenza A                                              0\n",
       "Influenza B                                              0\n",
       "Parainfluenza 1                                          0\n",
       "CoronavirusNL63                                          0\n",
       "Rhinovirus/Enterovirus                                   0\n",
       "Coronavirus HKU1                                         0\n",
       "Parainfluenza 3                                          0\n",
       "Chlamydophila pneumoniae                                 0\n",
       "Adenovirus                                               0\n",
       "                                                        ..\n",
       "Myelocytes                                               0\n",
       "Myeloblasts                                              0\n",
       "Urine - Esterase                                         0\n",
       "Urine - Aspect                                           0\n",
       "Urine - pH                                               0\n",
       "Urine - Hemoglobin                                       0\n",
       "Urine - Bile pigments                                    0\n",
       "Urine - Density                                          0\n",
       "Urine - Urobilinogen                                     0\n",
       "Urine - Protein                                          0\n",
       "Urine - Leukocytes                                       0\n",
       "Urine - Red blood cells                                  0\n",
       "Urine - Hyaline cylinders                                0\n",
       "Urine - Granular cylinders                               0\n",
       "Urine - Yeasts                                           0\n",
       "Urine - Color                                            0\n",
       "Relationship (Patient/Normal)                            0\n",
       "International normalized ratio (INR)                     0\n",
       "Lactic Dehydrogenase                                     0\n",
       "Creatine phosphokinase (CPK)                             0\n",
       "Arterial Lactic Acid                                     0\n",
       "Hb saturation (arterial blood gases)                     0\n",
       "pCO2 (arterial blood gas analysis)                       0\n",
       "Base excess (arterial blood gas analysis)                0\n",
       "pH (arterial blood gas analysis)                         0\n",
       "Total CO2 (arterial blood gas analysis)                  0\n",
       "HCO3 (arterial blood gas analysis)                       0\n",
       "pO2 (arterial blood gas analysis)                        0\n",
       "Arteiral Fio2                                            0\n",
       "ctO2 (arterial blood gas analysis)                       0\n",
       "Length: 97, dtype: int64"
      ]
     },
     "execution_count": 328,
     "metadata": {},
     "output_type": "execute_result"
    }
   ],
   "source": [
    "Covid_Negative_Other_df = Covid_Postive_Other_df.transform(groupMeanValue)\n",
    "Covid_Negative_Other_df.isna().sum()"
   ]
  },
  {
   "cell_type": "code",
   "execution_count": 329,
   "metadata": {},
   "outputs": [
    {
     "data": {
      "text/plain": [
       "Patient age quantile                                     0\n",
       "SARS-Cov-2 exam result                                   0\n",
       "Patient addmited to regular ward (1=yes, 0=no)           0\n",
       "Patient addmited to semi-intensive unit (1=yes, 0=no)    0\n",
       "Patient addmited to intensive care unit (1=yes, 0=no)    0\n",
       "Hematocrit                                               0\n",
       "Hemoglobin                                               0\n",
       "Platelets                                                0\n",
       "Mean platelet volume                                     0\n",
       "Red blood Cells                                          0\n",
       "Lymphocytes                                              0\n",
       "Mean corpuscular hemoglobin concentration (MCHC)         0\n",
       "Leukocytes                                               0\n",
       "Basophils                                                0\n",
       "Mean corpuscular hemoglobin (MCH)                        0\n",
       "Eosinophils                                              0\n",
       "Mean corpuscular volume (MCV)                            0\n",
       "Monocytes                                                0\n",
       "Red blood cell distribution width (RDW)                  0\n",
       "Serum Glucose                                            0\n",
       "Respiratory Syncytial Virus                              0\n",
       "Influenza A                                              0\n",
       "Influenza B                                              0\n",
       "Parainfluenza 1                                          0\n",
       "CoronavirusNL63                                          0\n",
       "Rhinovirus/Enterovirus                                   0\n",
       "Coronavirus HKU1                                         0\n",
       "Parainfluenza 3                                          0\n",
       "Chlamydophila pneumoniae                                 0\n",
       "Adenovirus                                               0\n",
       "                                                        ..\n",
       "Myelocytes                                               0\n",
       "Myeloblasts                                              0\n",
       "Urine - Esterase                                         0\n",
       "Urine - Aspect                                           0\n",
       "Urine - pH                                               0\n",
       "Urine - Hemoglobin                                       0\n",
       "Urine - Bile pigments                                    0\n",
       "Urine - Density                                          0\n",
       "Urine - Urobilinogen                                     0\n",
       "Urine - Protein                                          0\n",
       "Urine - Leukocytes                                       0\n",
       "Urine - Red blood cells                                  0\n",
       "Urine - Hyaline cylinders                                0\n",
       "Urine - Granular cylinders                               0\n",
       "Urine - Yeasts                                           0\n",
       "Urine - Color                                            0\n",
       "Relationship (Patient/Normal)                            0\n",
       "International normalized ratio (INR)                     0\n",
       "Lactic Dehydrogenase                                     0\n",
       "Creatine phosphokinase (CPK)                             0\n",
       "Arterial Lactic Acid                                     0\n",
       "Hb saturation (arterial blood gases)                     0\n",
       "pCO2 (arterial blood gas analysis)                       0\n",
       "Base excess (arterial blood gas analysis)                0\n",
       "pH (arterial blood gas analysis)                         0\n",
       "Total CO2 (arterial blood gas analysis)                  0\n",
       "HCO3 (arterial blood gas analysis)                       0\n",
       "pO2 (arterial blood gas analysis)                        0\n",
       "Arteiral Fio2                                            0\n",
       "ctO2 (arterial blood gas analysis)                       0\n",
       "Length: 97, dtype: int64"
      ]
     },
     "execution_count": 329,
     "metadata": {},
     "output_type": "execute_result"
    }
   ],
   "source": [
    "Covid_Negative_Regular_df = Covid_Postive_Regular_df.transform(groupMeanValue)\n",
    "Covid_Negative_Regular_df.isna().sum()"
   ]
  },
  {
   "cell_type": "code",
   "execution_count": 330,
   "metadata": {},
   "outputs": [
    {
     "data": {
      "text/plain": [
       "Patient age quantile                                     0\n",
       "SARS-Cov-2 exam result                                   0\n",
       "Patient addmited to regular ward (1=yes, 0=no)           0\n",
       "Patient addmited to semi-intensive unit (1=yes, 0=no)    0\n",
       "Patient addmited to intensive care unit (1=yes, 0=no)    0\n",
       "Hematocrit                                               0\n",
       "Hemoglobin                                               0\n",
       "Platelets                                                0\n",
       "Mean platelet volume                                     0\n",
       "Red blood Cells                                          0\n",
       "Lymphocytes                                              0\n",
       "Mean corpuscular hemoglobin concentration (MCHC)         0\n",
       "Leukocytes                                               0\n",
       "Basophils                                                0\n",
       "Mean corpuscular hemoglobin (MCH)                        0\n",
       "Eosinophils                                              0\n",
       "Mean corpuscular volume (MCV)                            0\n",
       "Monocytes                                                0\n",
       "Red blood cell distribution width (RDW)                  0\n",
       "Serum Glucose                                            0\n",
       "Respiratory Syncytial Virus                              0\n",
       "Influenza A                                              0\n",
       "Influenza B                                              0\n",
       "Parainfluenza 1                                          0\n",
       "CoronavirusNL63                                          0\n",
       "Rhinovirus/Enterovirus                                   0\n",
       "Coronavirus HKU1                                         0\n",
       "Parainfluenza 3                                          0\n",
       "Chlamydophila pneumoniae                                 0\n",
       "Adenovirus                                               0\n",
       "                                                        ..\n",
       "Myelocytes                                               0\n",
       "Myeloblasts                                              0\n",
       "Urine - Esterase                                         0\n",
       "Urine - Aspect                                           0\n",
       "Urine - pH                                               0\n",
       "Urine - Hemoglobin                                       0\n",
       "Urine - Bile pigments                                    0\n",
       "Urine - Density                                          0\n",
       "Urine - Urobilinogen                                     0\n",
       "Urine - Protein                                          0\n",
       "Urine - Leukocytes                                       0\n",
       "Urine - Red blood cells                                  0\n",
       "Urine - Hyaline cylinders                                0\n",
       "Urine - Granular cylinders                               0\n",
       "Urine - Yeasts                                           0\n",
       "Urine - Color                                            0\n",
       "Relationship (Patient/Normal)                            0\n",
       "International normalized ratio (INR)                     0\n",
       "Lactic Dehydrogenase                                     0\n",
       "Creatine phosphokinase (CPK)                             0\n",
       "Arterial Lactic Acid                                     0\n",
       "Hb saturation (arterial blood gases)                     0\n",
       "pCO2 (arterial blood gas analysis)                       0\n",
       "Base excess (arterial blood gas analysis)                0\n",
       "pH (arterial blood gas analysis)                         0\n",
       "Total CO2 (arterial blood gas analysis)                  0\n",
       "HCO3 (arterial blood gas analysis)                       0\n",
       "pO2 (arterial blood gas analysis)                        0\n",
       "Arteiral Fio2                                            0\n",
       "ctO2 (arterial blood gas analysis)                       0\n",
       "Length: 97, dtype: int64"
      ]
     },
     "execution_count": 330,
     "metadata": {},
     "output_type": "execute_result"
    }
   ],
   "source": [
    "Covid_Negative_intensive_df = Covid_Negative_intensive_df.transform(groupMeanValue)\n",
    "Covid_Negative_intensive_df.isna().sum()"
   ]
  },
  {
   "cell_type": "code",
   "execution_count": 331,
   "metadata": {},
   "outputs": [
    {
     "data": {
      "text/plain": [
       "Patient age quantile                                     0\n",
       "SARS-Cov-2 exam result                                   0\n",
       "Patient addmited to regular ward (1=yes, 0=no)           0\n",
       "Patient addmited to semi-intensive unit (1=yes, 0=no)    0\n",
       "Patient addmited to intensive care unit (1=yes, 0=no)    0\n",
       "Hematocrit                                               0\n",
       "Hemoglobin                                               0\n",
       "Platelets                                                0\n",
       "Mean platelet volume                                     0\n",
       "Red blood Cells                                          0\n",
       "Lymphocytes                                              0\n",
       "Mean corpuscular hemoglobin concentration (MCHC)         0\n",
       "Leukocytes                                               0\n",
       "Basophils                                                0\n",
       "Mean corpuscular hemoglobin (MCH)                        0\n",
       "Eosinophils                                              0\n",
       "Mean corpuscular volume (MCV)                            0\n",
       "Monocytes                                                0\n",
       "Red blood cell distribution width (RDW)                  0\n",
       "Serum Glucose                                            0\n",
       "Respiratory Syncytial Virus                              0\n",
       "Influenza A                                              0\n",
       "Influenza B                                              0\n",
       "Parainfluenza 1                                          0\n",
       "CoronavirusNL63                                          0\n",
       "Rhinovirus/Enterovirus                                   0\n",
       "Coronavirus HKU1                                         0\n",
       "Parainfluenza 3                                          0\n",
       "Chlamydophila pneumoniae                                 0\n",
       "Adenovirus                                               0\n",
       "                                                        ..\n",
       "Myelocytes                                               0\n",
       "Myeloblasts                                              0\n",
       "Urine - Esterase                                         0\n",
       "Urine - Aspect                                           0\n",
       "Urine - pH                                               0\n",
       "Urine - Hemoglobin                                       0\n",
       "Urine - Bile pigments                                    0\n",
       "Urine - Density                                          0\n",
       "Urine - Urobilinogen                                     0\n",
       "Urine - Protein                                          0\n",
       "Urine - Leukocytes                                       0\n",
       "Urine - Red blood cells                                  0\n",
       "Urine - Hyaline cylinders                                0\n",
       "Urine - Granular cylinders                               0\n",
       "Urine - Yeasts                                           0\n",
       "Urine - Color                                            0\n",
       "Relationship (Patient/Normal)                            0\n",
       "International normalized ratio (INR)                     0\n",
       "Lactic Dehydrogenase                                     0\n",
       "Creatine phosphokinase (CPK)                             0\n",
       "Arterial Lactic Acid                                     0\n",
       "Hb saturation (arterial blood gases)                     0\n",
       "pCO2 (arterial blood gas analysis)                       0\n",
       "Base excess (arterial blood gas analysis)                0\n",
       "pH (arterial blood gas analysis)                         0\n",
       "Total CO2 (arterial blood gas analysis)                  0\n",
       "HCO3 (arterial blood gas analysis)                       0\n",
       "pO2 (arterial blood gas analysis)                        0\n",
       "Arteiral Fio2                                            0\n",
       "ctO2 (arterial blood gas analysis)                       0\n",
       "Length: 97, dtype: int64"
      ]
     },
     "execution_count": 331,
     "metadata": {},
     "output_type": "execute_result"
    }
   ],
   "source": [
    "Covid_Negative_semi_intensive_df = Covid_Negative_semi_intensive_df.transform(groupMeanValue)\n",
    "Covid_Negative_semi_intensive_df.isna().sum()"
   ]
  },
  {
   "cell_type": "code",
   "execution_count": 332,
   "metadata": {},
   "outputs": [],
   "source": [
    "Covid_Negative_New_df = Covid_Negative_intensive_df.append([Covid_Negative_semi_intensive_df, Covid_Negative_Regular_df,Covid_Negative_Other_df])"
   ]
  },
  {
   "cell_type": "code",
   "execution_count": 333,
   "metadata": {},
   "outputs": [
    {
     "data": {
      "text/plain": [
       "(1052, 97)"
      ]
     },
     "execution_count": 333,
     "metadata": {},
     "output_type": "execute_result"
    }
   ],
   "source": [
    "Covid_Negative_New_df.shape"
   ]
  },
  {
   "cell_type": "code",
   "execution_count": 335,
   "metadata": {},
   "outputs": [],
   "source": [
    "# combining both positive and negative valida datset\n",
    "\n",
    "Covid_Input_df = Covid_Negative_New_df.append([Covid_Postive_New_df])\n",
    "\n",
    "\n"
   ]
  },
  {
   "cell_type": "code",
   "execution_count": 336,
   "metadata": {},
   "outputs": [
    {
     "data": {
      "text/plain": [
       "(1135, 97)"
      ]
     },
     "execution_count": 336,
     "metadata": {},
     "output_type": "execute_result"
    }
   ],
   "source": [
    "Covid_Input_df.shape"
   ]
  },
  {
   "cell_type": "code",
   "execution_count": 337,
   "metadata": {},
   "outputs": [
    {
     "data": {
      "text/plain": [
       "Patient age quantile                                     0\n",
       "SARS-Cov-2 exam result                                   0\n",
       "Patient addmited to regular ward (1=yes, 0=no)           0\n",
       "Patient addmited to semi-intensive unit (1=yes, 0=no)    0\n",
       "Patient addmited to intensive care unit (1=yes, 0=no)    0\n",
       "Hematocrit                                               0\n",
       "Hemoglobin                                               0\n",
       "Platelets                                                0\n",
       "Mean platelet volume                                     0\n",
       "Red blood Cells                                          0\n",
       "Lymphocytes                                              0\n",
       "Mean corpuscular hemoglobin concentration (MCHC)         0\n",
       "Leukocytes                                               0\n",
       "Basophils                                                0\n",
       "Mean corpuscular hemoglobin (MCH)                        0\n",
       "Eosinophils                                              0\n",
       "Mean corpuscular volume (MCV)                            0\n",
       "Monocytes                                                0\n",
       "Red blood cell distribution width (RDW)                  0\n",
       "Serum Glucose                                            0\n",
       "Respiratory Syncytial Virus                              0\n",
       "Influenza A                                              0\n",
       "Influenza B                                              0\n",
       "Parainfluenza 1                                          0\n",
       "CoronavirusNL63                                          0\n",
       "Rhinovirus/Enterovirus                                   0\n",
       "Coronavirus HKU1                                         0\n",
       "Parainfluenza 3                                          0\n",
       "Chlamydophila pneumoniae                                 0\n",
       "Adenovirus                                               0\n",
       "                                                        ..\n",
       "Myelocytes                                               0\n",
       "Myeloblasts                                              0\n",
       "Urine - Esterase                                         0\n",
       "Urine - Aspect                                           0\n",
       "Urine - pH                                               0\n",
       "Urine - Hemoglobin                                       0\n",
       "Urine - Bile pigments                                    0\n",
       "Urine - Density                                          0\n",
       "Urine - Urobilinogen                                     0\n",
       "Urine - Protein                                          0\n",
       "Urine - Leukocytes                                       0\n",
       "Urine - Red blood cells                                  0\n",
       "Urine - Hyaline cylinders                                0\n",
       "Urine - Granular cylinders                               0\n",
       "Urine - Yeasts                                           0\n",
       "Urine - Color                                            0\n",
       "Relationship (Patient/Normal)                            0\n",
       "International normalized ratio (INR)                     0\n",
       "Lactic Dehydrogenase                                     0\n",
       "Creatine phosphokinase (CPK)                             0\n",
       "Arterial Lactic Acid                                     0\n",
       "Hb saturation (arterial blood gases)                     0\n",
       "pCO2 (arterial blood gas analysis)                       0\n",
       "Base excess (arterial blood gas analysis)                0\n",
       "pH (arterial blood gas analysis)                         0\n",
       "Total CO2 (arterial blood gas analysis)                  0\n",
       "HCO3 (arterial blood gas analysis)                       0\n",
       "pO2 (arterial blood gas analysis)                        0\n",
       "Arteiral Fio2                                            0\n",
       "ctO2 (arterial blood gas analysis)                       0\n",
       "Length: 97, dtype: int64"
      ]
     },
     "execution_count": 337,
     "metadata": {},
     "output_type": "execute_result"
    }
   ],
   "source": [
    "Covid_Input_df.isna().sum()"
   ]
  },
  {
   "cell_type": "code",
   "execution_count": 338,
   "metadata": {},
   "outputs": [
    {
     "ename": "KeyError",
     "evalue": "'status'",
     "output_type": "error",
     "traceback": [
      "\u001b[1;31m---------------------------------------------------------------------------\u001b[0m",
      "\u001b[1;31mKeyError\u001b[0m                                  Traceback (most recent call last)",
      "\u001b[1;32m~\\Anaconda3\\lib\\site-packages\\pandas\\core\\indexes\\base.py\u001b[0m in \u001b[0;36mget_loc\u001b[1;34m(self, key, method, tolerance)\u001b[0m\n\u001b[0;32m   2656\u001b[0m             \u001b[1;32mtry\u001b[0m\u001b[1;33m:\u001b[0m\u001b[1;33m\u001b[0m\u001b[1;33m\u001b[0m\u001b[0m\n\u001b[1;32m-> 2657\u001b[1;33m                 \u001b[1;32mreturn\u001b[0m \u001b[0mself\u001b[0m\u001b[1;33m.\u001b[0m\u001b[0m_engine\u001b[0m\u001b[1;33m.\u001b[0m\u001b[0mget_loc\u001b[0m\u001b[1;33m(\u001b[0m\u001b[0mkey\u001b[0m\u001b[1;33m)\u001b[0m\u001b[1;33m\u001b[0m\u001b[1;33m\u001b[0m\u001b[0m\n\u001b[0m\u001b[0;32m   2658\u001b[0m             \u001b[1;32mexcept\u001b[0m \u001b[0mKeyError\u001b[0m\u001b[1;33m:\u001b[0m\u001b[1;33m\u001b[0m\u001b[1;33m\u001b[0m\u001b[0m\n",
      "\u001b[1;32mpandas/_libs/index.pyx\u001b[0m in \u001b[0;36mpandas._libs.index.IndexEngine.get_loc\u001b[1;34m()\u001b[0m\n",
      "\u001b[1;32mpandas/_libs/index.pyx\u001b[0m in \u001b[0;36mpandas._libs.index.IndexEngine.get_loc\u001b[1;34m()\u001b[0m\n",
      "\u001b[1;32mpandas/_libs/hashtable_class_helper.pxi\u001b[0m in \u001b[0;36mpandas._libs.hashtable.PyObjectHashTable.get_item\u001b[1;34m()\u001b[0m\n",
      "\u001b[1;32mpandas/_libs/hashtable_class_helper.pxi\u001b[0m in \u001b[0;36mpandas._libs.hashtable.PyObjectHashTable.get_item\u001b[1;34m()\u001b[0m\n",
      "\u001b[1;31mKeyError\u001b[0m: 'status'",
      "\nDuring handling of the above exception, another exception occurred:\n",
      "\u001b[1;31mKeyError\u001b[0m                                  Traceback (most recent call last)",
      "\u001b[1;32m<ipython-input-338-03da5b5c5d03>\u001b[0m in \u001b[0;36m<module>\u001b[1;34m\u001b[0m\n\u001b[1;32m----> 1\u001b[1;33m \u001b[0msns\u001b[0m\u001b[1;33m.\u001b[0m\u001b[0mpairplot\u001b[0m\u001b[1;33m(\u001b[0m\u001b[0mCovid_Input_df\u001b[0m\u001b[1;33m,\u001b[0m \u001b[0mdiag_kind\u001b[0m\u001b[1;33m=\u001b[0m\u001b[1;34m'kde'\u001b[0m\u001b[1;33m,\u001b[0m\u001b[0mhue\u001b[0m \u001b[1;33m=\u001b[0m \u001b[1;34m'status'\u001b[0m\u001b[1;33m)\u001b[0m \u001b[1;31m# plotting pairplot to understand bi / multilinearlity if any.\u001b[0m\u001b[1;33m\u001b[0m\u001b[1;33m\u001b[0m\u001b[0m\n\u001b[0m",
      "\u001b[1;32m~\\Anaconda3\\lib\\site-packages\\seaborn\\axisgrid.py\u001b[0m in \u001b[0;36mpairplot\u001b[1;34m(data, hue, hue_order, palette, vars, x_vars, y_vars, kind, diag_kind, markers, height, aspect, dropna, plot_kws, diag_kws, grid_kws, size)\u001b[0m\n\u001b[0;32m   2082\u001b[0m                     \u001b[0mhue_order\u001b[0m\u001b[1;33m=\u001b[0m\u001b[0mhue_order\u001b[0m\u001b[1;33m,\u001b[0m \u001b[0mpalette\u001b[0m\u001b[1;33m=\u001b[0m\u001b[0mpalette\u001b[0m\u001b[1;33m,\u001b[0m\u001b[1;33m\u001b[0m\u001b[1;33m\u001b[0m\u001b[0m\n\u001b[0;32m   2083\u001b[0m                     \u001b[0mdiag_sharey\u001b[0m\u001b[1;33m=\u001b[0m\u001b[0mdiag_sharey\u001b[0m\u001b[1;33m,\u001b[0m\u001b[1;33m\u001b[0m\u001b[1;33m\u001b[0m\u001b[0m\n\u001b[1;32m-> 2084\u001b[1;33m                     height=height, aspect=aspect, dropna=dropna, **grid_kws)\n\u001b[0m\u001b[0;32m   2085\u001b[0m \u001b[1;33m\u001b[0m\u001b[0m\n\u001b[0;32m   2086\u001b[0m     \u001b[1;31m# Add the markers here as PairGrid has figured out how many levels of the\u001b[0m\u001b[1;33m\u001b[0m\u001b[1;33m\u001b[0m\u001b[1;33m\u001b[0m\u001b[0m\n",
      "\u001b[1;32m~\\Anaconda3\\lib\\site-packages\\seaborn\\axisgrid.py\u001b[0m in \u001b[0;36m__init__\u001b[1;34m(self, data, hue, hue_order, palette, hue_kws, vars, x_vars, y_vars, diag_sharey, height, aspect, despine, dropna, size)\u001b[0m\n\u001b[0;32m   1288\u001b[0m                                       index=data.index)\n\u001b[0;32m   1289\u001b[0m         \u001b[1;32melse\u001b[0m\u001b[1;33m:\u001b[0m\u001b[1;33m\u001b[0m\u001b[1;33m\u001b[0m\u001b[0m\n\u001b[1;32m-> 1290\u001b[1;33m             \u001b[0mhue_names\u001b[0m \u001b[1;33m=\u001b[0m \u001b[0mutils\u001b[0m\u001b[1;33m.\u001b[0m\u001b[0mcategorical_order\u001b[0m\u001b[1;33m(\u001b[0m\u001b[0mdata\u001b[0m\u001b[1;33m[\u001b[0m\u001b[0mhue\u001b[0m\u001b[1;33m]\u001b[0m\u001b[1;33m,\u001b[0m \u001b[0mhue_order\u001b[0m\u001b[1;33m)\u001b[0m\u001b[1;33m\u001b[0m\u001b[1;33m\u001b[0m\u001b[0m\n\u001b[0m\u001b[0;32m   1291\u001b[0m             \u001b[1;32mif\u001b[0m \u001b[0mdropna\u001b[0m\u001b[1;33m:\u001b[0m\u001b[1;33m\u001b[0m\u001b[1;33m\u001b[0m\u001b[0m\n\u001b[0;32m   1292\u001b[0m                 \u001b[1;31m# Filter NA from the list of unique hue names\u001b[0m\u001b[1;33m\u001b[0m\u001b[1;33m\u001b[0m\u001b[1;33m\u001b[0m\u001b[0m\n",
      "\u001b[1;32m~\\Anaconda3\\lib\\site-packages\\pandas\\core\\frame.py\u001b[0m in \u001b[0;36m__getitem__\u001b[1;34m(self, key)\u001b[0m\n\u001b[0;32m   2925\u001b[0m             \u001b[1;32mif\u001b[0m \u001b[0mself\u001b[0m\u001b[1;33m.\u001b[0m\u001b[0mcolumns\u001b[0m\u001b[1;33m.\u001b[0m\u001b[0mnlevels\u001b[0m \u001b[1;33m>\u001b[0m \u001b[1;36m1\u001b[0m\u001b[1;33m:\u001b[0m\u001b[1;33m\u001b[0m\u001b[1;33m\u001b[0m\u001b[0m\n\u001b[0;32m   2926\u001b[0m                 \u001b[1;32mreturn\u001b[0m \u001b[0mself\u001b[0m\u001b[1;33m.\u001b[0m\u001b[0m_getitem_multilevel\u001b[0m\u001b[1;33m(\u001b[0m\u001b[0mkey\u001b[0m\u001b[1;33m)\u001b[0m\u001b[1;33m\u001b[0m\u001b[1;33m\u001b[0m\u001b[0m\n\u001b[1;32m-> 2927\u001b[1;33m             \u001b[0mindexer\u001b[0m \u001b[1;33m=\u001b[0m \u001b[0mself\u001b[0m\u001b[1;33m.\u001b[0m\u001b[0mcolumns\u001b[0m\u001b[1;33m.\u001b[0m\u001b[0mget_loc\u001b[0m\u001b[1;33m(\u001b[0m\u001b[0mkey\u001b[0m\u001b[1;33m)\u001b[0m\u001b[1;33m\u001b[0m\u001b[1;33m\u001b[0m\u001b[0m\n\u001b[0m\u001b[0;32m   2928\u001b[0m             \u001b[1;32mif\u001b[0m \u001b[0mis_integer\u001b[0m\u001b[1;33m(\u001b[0m\u001b[0mindexer\u001b[0m\u001b[1;33m)\u001b[0m\u001b[1;33m:\u001b[0m\u001b[1;33m\u001b[0m\u001b[1;33m\u001b[0m\u001b[0m\n\u001b[0;32m   2929\u001b[0m                 \u001b[0mindexer\u001b[0m \u001b[1;33m=\u001b[0m \u001b[1;33m[\u001b[0m\u001b[0mindexer\u001b[0m\u001b[1;33m]\u001b[0m\u001b[1;33m\u001b[0m\u001b[1;33m\u001b[0m\u001b[0m\n",
      "\u001b[1;32m~\\Anaconda3\\lib\\site-packages\\pandas\\core\\indexes\\base.py\u001b[0m in \u001b[0;36mget_loc\u001b[1;34m(self, key, method, tolerance)\u001b[0m\n\u001b[0;32m   2657\u001b[0m                 \u001b[1;32mreturn\u001b[0m \u001b[0mself\u001b[0m\u001b[1;33m.\u001b[0m\u001b[0m_engine\u001b[0m\u001b[1;33m.\u001b[0m\u001b[0mget_loc\u001b[0m\u001b[1;33m(\u001b[0m\u001b[0mkey\u001b[0m\u001b[1;33m)\u001b[0m\u001b[1;33m\u001b[0m\u001b[1;33m\u001b[0m\u001b[0m\n\u001b[0;32m   2658\u001b[0m             \u001b[1;32mexcept\u001b[0m \u001b[0mKeyError\u001b[0m\u001b[1;33m:\u001b[0m\u001b[1;33m\u001b[0m\u001b[1;33m\u001b[0m\u001b[0m\n\u001b[1;32m-> 2659\u001b[1;33m                 \u001b[1;32mreturn\u001b[0m \u001b[0mself\u001b[0m\u001b[1;33m.\u001b[0m\u001b[0m_engine\u001b[0m\u001b[1;33m.\u001b[0m\u001b[0mget_loc\u001b[0m\u001b[1;33m(\u001b[0m\u001b[0mself\u001b[0m\u001b[1;33m.\u001b[0m\u001b[0m_maybe_cast_indexer\u001b[0m\u001b[1;33m(\u001b[0m\u001b[0mkey\u001b[0m\u001b[1;33m)\u001b[0m\u001b[1;33m)\u001b[0m\u001b[1;33m\u001b[0m\u001b[1;33m\u001b[0m\u001b[0m\n\u001b[0m\u001b[0;32m   2660\u001b[0m         \u001b[0mindexer\u001b[0m \u001b[1;33m=\u001b[0m \u001b[0mself\u001b[0m\u001b[1;33m.\u001b[0m\u001b[0mget_indexer\u001b[0m\u001b[1;33m(\u001b[0m\u001b[1;33m[\u001b[0m\u001b[0mkey\u001b[0m\u001b[1;33m]\u001b[0m\u001b[1;33m,\u001b[0m \u001b[0mmethod\u001b[0m\u001b[1;33m=\u001b[0m\u001b[0mmethod\u001b[0m\u001b[1;33m,\u001b[0m \u001b[0mtolerance\u001b[0m\u001b[1;33m=\u001b[0m\u001b[0mtolerance\u001b[0m\u001b[1;33m)\u001b[0m\u001b[1;33m\u001b[0m\u001b[1;33m\u001b[0m\u001b[0m\n\u001b[0;32m   2661\u001b[0m         \u001b[1;32mif\u001b[0m \u001b[0mindexer\u001b[0m\u001b[1;33m.\u001b[0m\u001b[0mndim\u001b[0m \u001b[1;33m>\u001b[0m \u001b[1;36m1\u001b[0m \u001b[1;32mor\u001b[0m \u001b[0mindexer\u001b[0m\u001b[1;33m.\u001b[0m\u001b[0msize\u001b[0m \u001b[1;33m>\u001b[0m \u001b[1;36m1\u001b[0m\u001b[1;33m:\u001b[0m\u001b[1;33m\u001b[0m\u001b[1;33m\u001b[0m\u001b[0m\n",
      "\u001b[1;32mpandas/_libs/index.pyx\u001b[0m in \u001b[0;36mpandas._libs.index.IndexEngine.get_loc\u001b[1;34m()\u001b[0m\n",
      "\u001b[1;32mpandas/_libs/index.pyx\u001b[0m in \u001b[0;36mpandas._libs.index.IndexEngine.get_loc\u001b[1;34m()\u001b[0m\n",
      "\u001b[1;32mpandas/_libs/hashtable_class_helper.pxi\u001b[0m in \u001b[0;36mpandas._libs.hashtable.PyObjectHashTable.get_item\u001b[1;34m()\u001b[0m\n",
      "\u001b[1;32mpandas/_libs/hashtable_class_helper.pxi\u001b[0m in \u001b[0;36mpandas._libs.hashtable.PyObjectHashTable.get_item\u001b[1;34m()\u001b[0m\n",
      "\u001b[1;31mKeyError\u001b[0m: 'status'"
     ]
    },
    {
     "name": "stdout",
     "output_type": "stream",
     "text": [
      "Error in callback <function install_repl_displayhook.<locals>.post_execute at 0x000001CF3D0E6AE8> (for post_execute):\n"
     ]
    },
    {
     "ename": "KeyboardInterrupt",
     "evalue": "",
     "output_type": "error",
     "traceback": [
      "\u001b[1;31m---------------------------------------------------------------------------\u001b[0m",
      "\u001b[1;31mKeyboardInterrupt\u001b[0m                         Traceback (most recent call last)",
      "\u001b[1;32m~\\Anaconda3\\lib\\site-packages\\matplotlib\\pyplot.py\u001b[0m in \u001b[0;36mpost_execute\u001b[1;34m()\u001b[0m\n\u001b[0;32m    107\u001b[0m             \u001b[1;32mdef\u001b[0m \u001b[0mpost_execute\u001b[0m\u001b[1;33m(\u001b[0m\u001b[1;33m)\u001b[0m\u001b[1;33m:\u001b[0m\u001b[1;33m\u001b[0m\u001b[1;33m\u001b[0m\u001b[0m\n\u001b[0;32m    108\u001b[0m                 \u001b[1;32mif\u001b[0m \u001b[0mmatplotlib\u001b[0m\u001b[1;33m.\u001b[0m\u001b[0mis_interactive\u001b[0m\u001b[1;33m(\u001b[0m\u001b[1;33m)\u001b[0m\u001b[1;33m:\u001b[0m\u001b[1;33m\u001b[0m\u001b[1;33m\u001b[0m\u001b[0m\n\u001b[1;32m--> 109\u001b[1;33m                     \u001b[0mdraw_all\u001b[0m\u001b[1;33m(\u001b[0m\u001b[1;33m)\u001b[0m\u001b[1;33m\u001b[0m\u001b[1;33m\u001b[0m\u001b[0m\n\u001b[0m\u001b[0;32m    110\u001b[0m \u001b[1;33m\u001b[0m\u001b[0m\n\u001b[0;32m    111\u001b[0m             \u001b[1;31m# IPython >= 2\u001b[0m\u001b[1;33m\u001b[0m\u001b[1;33m\u001b[0m\u001b[1;33m\u001b[0m\u001b[0m\n",
      "\u001b[1;32m~\\Anaconda3\\lib\\site-packages\\matplotlib\\_pylab_helpers.py\u001b[0m in \u001b[0;36mdraw_all\u001b[1;34m(cls, force)\u001b[0m\n\u001b[0;32m    126\u001b[0m         \u001b[1;32mfor\u001b[0m \u001b[0mf_mgr\u001b[0m \u001b[1;32min\u001b[0m \u001b[0mcls\u001b[0m\u001b[1;33m.\u001b[0m\u001b[0mget_all_fig_managers\u001b[0m\u001b[1;33m(\u001b[0m\u001b[1;33m)\u001b[0m\u001b[1;33m:\u001b[0m\u001b[1;33m\u001b[0m\u001b[1;33m\u001b[0m\u001b[0m\n\u001b[0;32m    127\u001b[0m             \u001b[1;32mif\u001b[0m \u001b[0mforce\u001b[0m \u001b[1;32mor\u001b[0m \u001b[0mf_mgr\u001b[0m\u001b[1;33m.\u001b[0m\u001b[0mcanvas\u001b[0m\u001b[1;33m.\u001b[0m\u001b[0mfigure\u001b[0m\u001b[1;33m.\u001b[0m\u001b[0mstale\u001b[0m\u001b[1;33m:\u001b[0m\u001b[1;33m\u001b[0m\u001b[1;33m\u001b[0m\u001b[0m\n\u001b[1;32m--> 128\u001b[1;33m                 \u001b[0mf_mgr\u001b[0m\u001b[1;33m.\u001b[0m\u001b[0mcanvas\u001b[0m\u001b[1;33m.\u001b[0m\u001b[0mdraw_idle\u001b[0m\u001b[1;33m(\u001b[0m\u001b[1;33m)\u001b[0m\u001b[1;33m\u001b[0m\u001b[1;33m\u001b[0m\u001b[0m\n\u001b[0m\u001b[0;32m    129\u001b[0m \u001b[1;33m\u001b[0m\u001b[0m\n\u001b[0;32m    130\u001b[0m \u001b[0matexit\u001b[0m\u001b[1;33m.\u001b[0m\u001b[0mregister\u001b[0m\u001b[1;33m(\u001b[0m\u001b[0mGcf\u001b[0m\u001b[1;33m.\u001b[0m\u001b[0mdestroy_all\u001b[0m\u001b[1;33m)\u001b[0m\u001b[1;33m\u001b[0m\u001b[1;33m\u001b[0m\u001b[0m\n",
      "\u001b[1;32m~\\Anaconda3\\lib\\site-packages\\matplotlib\\backend_bases.py\u001b[0m in \u001b[0;36mdraw_idle\u001b[1;34m(self, *args, **kwargs)\u001b[0m\n\u001b[0;32m   1905\u001b[0m         \u001b[1;32mif\u001b[0m \u001b[1;32mnot\u001b[0m \u001b[0mself\u001b[0m\u001b[1;33m.\u001b[0m\u001b[0m_is_idle_drawing\u001b[0m\u001b[1;33m:\u001b[0m\u001b[1;33m\u001b[0m\u001b[1;33m\u001b[0m\u001b[0m\n\u001b[0;32m   1906\u001b[0m             \u001b[1;32mwith\u001b[0m \u001b[0mself\u001b[0m\u001b[1;33m.\u001b[0m\u001b[0m_idle_draw_cntx\u001b[0m\u001b[1;33m(\u001b[0m\u001b[1;33m)\u001b[0m\u001b[1;33m:\u001b[0m\u001b[1;33m\u001b[0m\u001b[1;33m\u001b[0m\u001b[0m\n\u001b[1;32m-> 1907\u001b[1;33m                 \u001b[0mself\u001b[0m\u001b[1;33m.\u001b[0m\u001b[0mdraw\u001b[0m\u001b[1;33m(\u001b[0m\u001b[1;33m*\u001b[0m\u001b[0margs\u001b[0m\u001b[1;33m,\u001b[0m \u001b[1;33m**\u001b[0m\u001b[0mkwargs\u001b[0m\u001b[1;33m)\u001b[0m\u001b[1;33m\u001b[0m\u001b[1;33m\u001b[0m\u001b[0m\n\u001b[0m\u001b[0;32m   1908\u001b[0m \u001b[1;33m\u001b[0m\u001b[0m\n\u001b[0;32m   1909\u001b[0m     \u001b[1;32mdef\u001b[0m \u001b[0mdraw_cursor\u001b[0m\u001b[1;33m(\u001b[0m\u001b[0mself\u001b[0m\u001b[1;33m,\u001b[0m \u001b[0mevent\u001b[0m\u001b[1;33m)\u001b[0m\u001b[1;33m:\u001b[0m\u001b[1;33m\u001b[0m\u001b[1;33m\u001b[0m\u001b[0m\n",
      "\u001b[1;32m~\\Anaconda3\\lib\\site-packages\\matplotlib\\backends\\backend_agg.py\u001b[0m in \u001b[0;36mdraw\u001b[1;34m(self)\u001b[0m\n\u001b[0;32m    386\u001b[0m         \u001b[0mself\u001b[0m\u001b[1;33m.\u001b[0m\u001b[0mrenderer\u001b[0m \u001b[1;33m=\u001b[0m \u001b[0mself\u001b[0m\u001b[1;33m.\u001b[0m\u001b[0mget_renderer\u001b[0m\u001b[1;33m(\u001b[0m\u001b[0mcleared\u001b[0m\u001b[1;33m=\u001b[0m\u001b[1;32mTrue\u001b[0m\u001b[1;33m)\u001b[0m\u001b[1;33m\u001b[0m\u001b[1;33m\u001b[0m\u001b[0m\n\u001b[0;32m    387\u001b[0m         \u001b[1;32mwith\u001b[0m \u001b[0mRendererAgg\u001b[0m\u001b[1;33m.\u001b[0m\u001b[0mlock\u001b[0m\u001b[1;33m:\u001b[0m\u001b[1;33m\u001b[0m\u001b[1;33m\u001b[0m\u001b[0m\n\u001b[1;32m--> 388\u001b[1;33m             \u001b[0mself\u001b[0m\u001b[1;33m.\u001b[0m\u001b[0mfigure\u001b[0m\u001b[1;33m.\u001b[0m\u001b[0mdraw\u001b[0m\u001b[1;33m(\u001b[0m\u001b[0mself\u001b[0m\u001b[1;33m.\u001b[0m\u001b[0mrenderer\u001b[0m\u001b[1;33m)\u001b[0m\u001b[1;33m\u001b[0m\u001b[1;33m\u001b[0m\u001b[0m\n\u001b[0m\u001b[0;32m    389\u001b[0m             \u001b[1;31m# A GUI class may be need to update a window using this draw, so\u001b[0m\u001b[1;33m\u001b[0m\u001b[1;33m\u001b[0m\u001b[1;33m\u001b[0m\u001b[0m\n\u001b[0;32m    390\u001b[0m             \u001b[1;31m# don't forget to call the superclass.\u001b[0m\u001b[1;33m\u001b[0m\u001b[1;33m\u001b[0m\u001b[1;33m\u001b[0m\u001b[0m\n",
      "\u001b[1;32m~\\Anaconda3\\lib\\site-packages\\matplotlib\\artist.py\u001b[0m in \u001b[0;36mdraw_wrapper\u001b[1;34m(artist, renderer, *args, **kwargs)\u001b[0m\n\u001b[0;32m     36\u001b[0m                 \u001b[0mrenderer\u001b[0m\u001b[1;33m.\u001b[0m\u001b[0mstart_filter\u001b[0m\u001b[1;33m(\u001b[0m\u001b[1;33m)\u001b[0m\u001b[1;33m\u001b[0m\u001b[1;33m\u001b[0m\u001b[0m\n\u001b[0;32m     37\u001b[0m \u001b[1;33m\u001b[0m\u001b[0m\n\u001b[1;32m---> 38\u001b[1;33m             \u001b[1;32mreturn\u001b[0m \u001b[0mdraw\u001b[0m\u001b[1;33m(\u001b[0m\u001b[0martist\u001b[0m\u001b[1;33m,\u001b[0m \u001b[0mrenderer\u001b[0m\u001b[1;33m,\u001b[0m \u001b[1;33m*\u001b[0m\u001b[0margs\u001b[0m\u001b[1;33m,\u001b[0m \u001b[1;33m**\u001b[0m\u001b[0mkwargs\u001b[0m\u001b[1;33m)\u001b[0m\u001b[1;33m\u001b[0m\u001b[1;33m\u001b[0m\u001b[0m\n\u001b[0m\u001b[0;32m     39\u001b[0m         \u001b[1;32mfinally\u001b[0m\u001b[1;33m:\u001b[0m\u001b[1;33m\u001b[0m\u001b[1;33m\u001b[0m\u001b[0m\n\u001b[0;32m     40\u001b[0m             \u001b[1;32mif\u001b[0m \u001b[0martist\u001b[0m\u001b[1;33m.\u001b[0m\u001b[0mget_agg_filter\u001b[0m\u001b[1;33m(\u001b[0m\u001b[1;33m)\u001b[0m \u001b[1;32mis\u001b[0m \u001b[1;32mnot\u001b[0m \u001b[1;32mNone\u001b[0m\u001b[1;33m:\u001b[0m\u001b[1;33m\u001b[0m\u001b[1;33m\u001b[0m\u001b[0m\n",
      "\u001b[1;32m~\\Anaconda3\\lib\\site-packages\\matplotlib\\figure.py\u001b[0m in \u001b[0;36mdraw\u001b[1;34m(self, renderer)\u001b[0m\n\u001b[0;32m   1707\u001b[0m             \u001b[0mself\u001b[0m\u001b[1;33m.\u001b[0m\u001b[0mpatch\u001b[0m\u001b[1;33m.\u001b[0m\u001b[0mdraw\u001b[0m\u001b[1;33m(\u001b[0m\u001b[0mrenderer\u001b[0m\u001b[1;33m)\u001b[0m\u001b[1;33m\u001b[0m\u001b[1;33m\u001b[0m\u001b[0m\n\u001b[0;32m   1708\u001b[0m             mimage._draw_list_compositing_images(\n\u001b[1;32m-> 1709\u001b[1;33m                 renderer, self, artists, self.suppressComposite)\n\u001b[0m\u001b[0;32m   1710\u001b[0m \u001b[1;33m\u001b[0m\u001b[0m\n\u001b[0;32m   1711\u001b[0m             \u001b[0mrenderer\u001b[0m\u001b[1;33m.\u001b[0m\u001b[0mclose_group\u001b[0m\u001b[1;33m(\u001b[0m\u001b[1;34m'figure'\u001b[0m\u001b[1;33m)\u001b[0m\u001b[1;33m\u001b[0m\u001b[1;33m\u001b[0m\u001b[0m\n",
      "\u001b[1;32m~\\Anaconda3\\lib\\site-packages\\matplotlib\\image.py\u001b[0m in \u001b[0;36m_draw_list_compositing_images\u001b[1;34m(renderer, parent, artists, suppress_composite)\u001b[0m\n\u001b[0;32m    133\u001b[0m     \u001b[1;32mif\u001b[0m \u001b[0mnot_composite\u001b[0m \u001b[1;32mor\u001b[0m \u001b[1;32mnot\u001b[0m \u001b[0mhas_images\u001b[0m\u001b[1;33m:\u001b[0m\u001b[1;33m\u001b[0m\u001b[1;33m\u001b[0m\u001b[0m\n\u001b[0;32m    134\u001b[0m         \u001b[1;32mfor\u001b[0m \u001b[0ma\u001b[0m \u001b[1;32min\u001b[0m \u001b[0martists\u001b[0m\u001b[1;33m:\u001b[0m\u001b[1;33m\u001b[0m\u001b[1;33m\u001b[0m\u001b[0m\n\u001b[1;32m--> 135\u001b[1;33m             \u001b[0ma\u001b[0m\u001b[1;33m.\u001b[0m\u001b[0mdraw\u001b[0m\u001b[1;33m(\u001b[0m\u001b[0mrenderer\u001b[0m\u001b[1;33m)\u001b[0m\u001b[1;33m\u001b[0m\u001b[1;33m\u001b[0m\u001b[0m\n\u001b[0m\u001b[0;32m    136\u001b[0m     \u001b[1;32melse\u001b[0m\u001b[1;33m:\u001b[0m\u001b[1;33m\u001b[0m\u001b[1;33m\u001b[0m\u001b[0m\n\u001b[0;32m    137\u001b[0m         \u001b[1;31m# Composite any adjacent images together\u001b[0m\u001b[1;33m\u001b[0m\u001b[1;33m\u001b[0m\u001b[1;33m\u001b[0m\u001b[0m\n",
      "\u001b[1;32m~\\Anaconda3\\lib\\site-packages\\matplotlib\\artist.py\u001b[0m in \u001b[0;36mdraw_wrapper\u001b[1;34m(artist, renderer, *args, **kwargs)\u001b[0m\n\u001b[0;32m     36\u001b[0m                 \u001b[0mrenderer\u001b[0m\u001b[1;33m.\u001b[0m\u001b[0mstart_filter\u001b[0m\u001b[1;33m(\u001b[0m\u001b[1;33m)\u001b[0m\u001b[1;33m\u001b[0m\u001b[1;33m\u001b[0m\u001b[0m\n\u001b[0;32m     37\u001b[0m \u001b[1;33m\u001b[0m\u001b[0m\n\u001b[1;32m---> 38\u001b[1;33m             \u001b[1;32mreturn\u001b[0m \u001b[0mdraw\u001b[0m\u001b[1;33m(\u001b[0m\u001b[0martist\u001b[0m\u001b[1;33m,\u001b[0m \u001b[0mrenderer\u001b[0m\u001b[1;33m,\u001b[0m \u001b[1;33m*\u001b[0m\u001b[0margs\u001b[0m\u001b[1;33m,\u001b[0m \u001b[1;33m**\u001b[0m\u001b[0mkwargs\u001b[0m\u001b[1;33m)\u001b[0m\u001b[1;33m\u001b[0m\u001b[1;33m\u001b[0m\u001b[0m\n\u001b[0m\u001b[0;32m     39\u001b[0m         \u001b[1;32mfinally\u001b[0m\u001b[1;33m:\u001b[0m\u001b[1;33m\u001b[0m\u001b[1;33m\u001b[0m\u001b[0m\n\u001b[0;32m     40\u001b[0m             \u001b[1;32mif\u001b[0m \u001b[0martist\u001b[0m\u001b[1;33m.\u001b[0m\u001b[0mget_agg_filter\u001b[0m\u001b[1;33m(\u001b[0m\u001b[1;33m)\u001b[0m \u001b[1;32mis\u001b[0m \u001b[1;32mnot\u001b[0m \u001b[1;32mNone\u001b[0m\u001b[1;33m:\u001b[0m\u001b[1;33m\u001b[0m\u001b[1;33m\u001b[0m\u001b[0m\n",
      "\u001b[1;32m~\\Anaconda3\\lib\\site-packages\\matplotlib\\axes\\_base.py\u001b[0m in \u001b[0;36mdraw\u001b[1;34m(self, renderer, inframe)\u001b[0m\n\u001b[0;32m   2643\u001b[0m             \u001b[0mrenderer\u001b[0m\u001b[1;33m.\u001b[0m\u001b[0mstop_rasterizing\u001b[0m\u001b[1;33m(\u001b[0m\u001b[1;33m)\u001b[0m\u001b[1;33m\u001b[0m\u001b[1;33m\u001b[0m\u001b[0m\n\u001b[0;32m   2644\u001b[0m \u001b[1;33m\u001b[0m\u001b[0m\n\u001b[1;32m-> 2645\u001b[1;33m         \u001b[0mmimage\u001b[0m\u001b[1;33m.\u001b[0m\u001b[0m_draw_list_compositing_images\u001b[0m\u001b[1;33m(\u001b[0m\u001b[0mrenderer\u001b[0m\u001b[1;33m,\u001b[0m \u001b[0mself\u001b[0m\u001b[1;33m,\u001b[0m \u001b[0martists\u001b[0m\u001b[1;33m)\u001b[0m\u001b[1;33m\u001b[0m\u001b[1;33m\u001b[0m\u001b[0m\n\u001b[0m\u001b[0;32m   2646\u001b[0m \u001b[1;33m\u001b[0m\u001b[0m\n\u001b[0;32m   2647\u001b[0m         \u001b[0mrenderer\u001b[0m\u001b[1;33m.\u001b[0m\u001b[0mclose_group\u001b[0m\u001b[1;33m(\u001b[0m\u001b[1;34m'axes'\u001b[0m\u001b[1;33m)\u001b[0m\u001b[1;33m\u001b[0m\u001b[1;33m\u001b[0m\u001b[0m\n",
      "\u001b[1;32m~\\Anaconda3\\lib\\site-packages\\matplotlib\\image.py\u001b[0m in \u001b[0;36m_draw_list_compositing_images\u001b[1;34m(renderer, parent, artists, suppress_composite)\u001b[0m\n\u001b[0;32m    133\u001b[0m     \u001b[1;32mif\u001b[0m \u001b[0mnot_composite\u001b[0m \u001b[1;32mor\u001b[0m \u001b[1;32mnot\u001b[0m \u001b[0mhas_images\u001b[0m\u001b[1;33m:\u001b[0m\u001b[1;33m\u001b[0m\u001b[1;33m\u001b[0m\u001b[0m\n\u001b[0;32m    134\u001b[0m         \u001b[1;32mfor\u001b[0m \u001b[0ma\u001b[0m \u001b[1;32min\u001b[0m \u001b[0martists\u001b[0m\u001b[1;33m:\u001b[0m\u001b[1;33m\u001b[0m\u001b[1;33m\u001b[0m\u001b[0m\n\u001b[1;32m--> 135\u001b[1;33m             \u001b[0ma\u001b[0m\u001b[1;33m.\u001b[0m\u001b[0mdraw\u001b[0m\u001b[1;33m(\u001b[0m\u001b[0mrenderer\u001b[0m\u001b[1;33m)\u001b[0m\u001b[1;33m\u001b[0m\u001b[1;33m\u001b[0m\u001b[0m\n\u001b[0m\u001b[0;32m    136\u001b[0m     \u001b[1;32melse\u001b[0m\u001b[1;33m:\u001b[0m\u001b[1;33m\u001b[0m\u001b[1;33m\u001b[0m\u001b[0m\n\u001b[0;32m    137\u001b[0m         \u001b[1;31m# Composite any adjacent images together\u001b[0m\u001b[1;33m\u001b[0m\u001b[1;33m\u001b[0m\u001b[1;33m\u001b[0m\u001b[0m\n",
      "\u001b[1;32m~\\Anaconda3\\lib\\site-packages\\matplotlib\\artist.py\u001b[0m in \u001b[0;36mdraw_wrapper\u001b[1;34m(artist, renderer, *args, **kwargs)\u001b[0m\n\u001b[0;32m     36\u001b[0m                 \u001b[0mrenderer\u001b[0m\u001b[1;33m.\u001b[0m\u001b[0mstart_filter\u001b[0m\u001b[1;33m(\u001b[0m\u001b[1;33m)\u001b[0m\u001b[1;33m\u001b[0m\u001b[1;33m\u001b[0m\u001b[0m\n\u001b[0;32m     37\u001b[0m \u001b[1;33m\u001b[0m\u001b[0m\n\u001b[1;32m---> 38\u001b[1;33m             \u001b[1;32mreturn\u001b[0m \u001b[0mdraw\u001b[0m\u001b[1;33m(\u001b[0m\u001b[0martist\u001b[0m\u001b[1;33m,\u001b[0m \u001b[0mrenderer\u001b[0m\u001b[1;33m,\u001b[0m \u001b[1;33m*\u001b[0m\u001b[0margs\u001b[0m\u001b[1;33m,\u001b[0m \u001b[1;33m**\u001b[0m\u001b[0mkwargs\u001b[0m\u001b[1;33m)\u001b[0m\u001b[1;33m\u001b[0m\u001b[1;33m\u001b[0m\u001b[0m\n\u001b[0m\u001b[0;32m     39\u001b[0m         \u001b[1;32mfinally\u001b[0m\u001b[1;33m:\u001b[0m\u001b[1;33m\u001b[0m\u001b[1;33m\u001b[0m\u001b[0m\n\u001b[0;32m     40\u001b[0m             \u001b[1;32mif\u001b[0m \u001b[0martist\u001b[0m\u001b[1;33m.\u001b[0m\u001b[0mget_agg_filter\u001b[0m\u001b[1;33m(\u001b[0m\u001b[1;33m)\u001b[0m \u001b[1;32mis\u001b[0m \u001b[1;32mnot\u001b[0m \u001b[1;32mNone\u001b[0m\u001b[1;33m:\u001b[0m\u001b[1;33m\u001b[0m\u001b[1;33m\u001b[0m\u001b[0m\n",
      "\u001b[1;32m~\\Anaconda3\\lib\\site-packages\\matplotlib\\axis.py\u001b[0m in \u001b[0;36mdraw\u001b[1;34m(self, renderer, *args, **kwargs)\u001b[0m\n\u001b[0;32m   1202\u001b[0m         \u001b[0mrenderer\u001b[0m\u001b[1;33m.\u001b[0m\u001b[0mopen_group\u001b[0m\u001b[1;33m(\u001b[0m\u001b[0m__name__\u001b[0m\u001b[1;33m)\u001b[0m\u001b[1;33m\u001b[0m\u001b[1;33m\u001b[0m\u001b[0m\n\u001b[0;32m   1203\u001b[0m \u001b[1;33m\u001b[0m\u001b[0m\n\u001b[1;32m-> 1204\u001b[1;33m         \u001b[0mticks_to_draw\u001b[0m \u001b[1;33m=\u001b[0m \u001b[0mself\u001b[0m\u001b[1;33m.\u001b[0m\u001b[0m_update_ticks\u001b[0m\u001b[1;33m(\u001b[0m\u001b[1;33m)\u001b[0m\u001b[1;33m\u001b[0m\u001b[1;33m\u001b[0m\u001b[0m\n\u001b[0m\u001b[0;32m   1205\u001b[0m         ticklabelBoxes, ticklabelBoxes2 = self._get_tick_bboxes(ticks_to_draw,\n\u001b[0;32m   1206\u001b[0m                                                                 renderer)\n",
      "\u001b[1;32m~\\Anaconda3\\lib\\site-packages\\matplotlib\\axis.py\u001b[0m in \u001b[0;36m_update_ticks\u001b[1;34m(self)\u001b[0m\n\u001b[0;32m   1086\u001b[0m             \u001b[0mtick\u001b[0m\u001b[1;33m.\u001b[0m\u001b[0mset_label1\u001b[0m\u001b[1;33m(\u001b[0m\u001b[0mlabel\u001b[0m\u001b[1;33m)\u001b[0m\u001b[1;33m\u001b[0m\u001b[1;33m\u001b[0m\u001b[0m\n\u001b[0;32m   1087\u001b[0m             \u001b[0mtick\u001b[0m\u001b[1;33m.\u001b[0m\u001b[0mset_label2\u001b[0m\u001b[1;33m(\u001b[0m\u001b[0mlabel\u001b[0m\u001b[1;33m)\u001b[0m\u001b[1;33m\u001b[0m\u001b[1;33m\u001b[0m\u001b[0m\n\u001b[1;32m-> 1088\u001b[1;33m         \u001b[0mminor_locs\u001b[0m \u001b[1;33m=\u001b[0m \u001b[0mself\u001b[0m\u001b[1;33m.\u001b[0m\u001b[0mget_minorticklocs\u001b[0m\u001b[1;33m(\u001b[0m\u001b[1;33m)\u001b[0m\u001b[1;33m\u001b[0m\u001b[1;33m\u001b[0m\u001b[0m\n\u001b[0m\u001b[0;32m   1089\u001b[0m         \u001b[0mminor_labels\u001b[0m \u001b[1;33m=\u001b[0m \u001b[0mself\u001b[0m\u001b[1;33m.\u001b[0m\u001b[0mminor\u001b[0m\u001b[1;33m.\u001b[0m\u001b[0mformatter\u001b[0m\u001b[1;33m.\u001b[0m\u001b[0mformat_ticks\u001b[0m\u001b[1;33m(\u001b[0m\u001b[0mminor_locs\u001b[0m\u001b[1;33m)\u001b[0m\u001b[1;33m\u001b[0m\u001b[1;33m\u001b[0m\u001b[0m\n\u001b[0;32m   1090\u001b[0m         \u001b[0mminor_ticks\u001b[0m \u001b[1;33m=\u001b[0m \u001b[0mself\u001b[0m\u001b[1;33m.\u001b[0m\u001b[0mget_minor_ticks\u001b[0m\u001b[1;33m(\u001b[0m\u001b[0mlen\u001b[0m\u001b[1;33m(\u001b[0m\u001b[0mminor_locs\u001b[0m\u001b[1;33m)\u001b[0m\u001b[1;33m)\u001b[0m\u001b[1;33m\u001b[0m\u001b[1;33m\u001b[0m\u001b[0m\n",
      "\u001b[1;32m~\\Anaconda3\\lib\\site-packages\\matplotlib\\axis.py\u001b[0m in \u001b[0;36mget_minorticklocs\u001b[1;34m(self)\u001b[0m\n\u001b[0;32m   1328\u001b[0m         \u001b[1;34m\"\"\"Get the array of minor tick locations in data coordinates.\"\"\"\u001b[0m\u001b[1;33m\u001b[0m\u001b[1;33m\u001b[0m\u001b[0m\n\u001b[0;32m   1329\u001b[0m         \u001b[1;31m# Remove minor ticks duplicating major ticks.\u001b[0m\u001b[1;33m\u001b[0m\u001b[1;33m\u001b[0m\u001b[1;33m\u001b[0m\u001b[0m\n\u001b[1;32m-> 1330\u001b[1;33m         \u001b[0mmajor_locs\u001b[0m \u001b[1;33m=\u001b[0m \u001b[0mself\u001b[0m\u001b[1;33m.\u001b[0m\u001b[0mmajor\u001b[0m\u001b[1;33m.\u001b[0m\u001b[0mlocator\u001b[0m\u001b[1;33m(\u001b[0m\u001b[1;33m)\u001b[0m\u001b[1;33m\u001b[0m\u001b[1;33m\u001b[0m\u001b[0m\n\u001b[0m\u001b[0;32m   1331\u001b[0m         \u001b[0mminor_locs\u001b[0m \u001b[1;33m=\u001b[0m \u001b[0mself\u001b[0m\u001b[1;33m.\u001b[0m\u001b[0mminor\u001b[0m\u001b[1;33m.\u001b[0m\u001b[0mlocator\u001b[0m\u001b[1;33m(\u001b[0m\u001b[1;33m)\u001b[0m\u001b[1;33m\u001b[0m\u001b[1;33m\u001b[0m\u001b[0m\n\u001b[0;32m   1332\u001b[0m         \u001b[0mtransform\u001b[0m \u001b[1;33m=\u001b[0m \u001b[0mself\u001b[0m\u001b[1;33m.\u001b[0m\u001b[0m_scale\u001b[0m\u001b[1;33m.\u001b[0m\u001b[0mget_transform\u001b[0m\u001b[1;33m(\u001b[0m\u001b[1;33m)\u001b[0m\u001b[1;33m\u001b[0m\u001b[1;33m\u001b[0m\u001b[0m\n",
      "\u001b[1;32m~\\Anaconda3\\lib\\site-packages\\matplotlib\\ticker.py\u001b[0m in \u001b[0;36m__call__\u001b[1;34m(self)\u001b[0m\n\u001b[0;32m   2076\u001b[0m     \u001b[1;32mdef\u001b[0m \u001b[0m__call__\u001b[0m\u001b[1;33m(\u001b[0m\u001b[0mself\u001b[0m\u001b[1;33m)\u001b[0m\u001b[1;33m:\u001b[0m\u001b[1;33m\u001b[0m\u001b[1;33m\u001b[0m\u001b[0m\n\u001b[0;32m   2077\u001b[0m         \u001b[0mvmin\u001b[0m\u001b[1;33m,\u001b[0m \u001b[0mvmax\u001b[0m \u001b[1;33m=\u001b[0m \u001b[0mself\u001b[0m\u001b[1;33m.\u001b[0m\u001b[0maxis\u001b[0m\u001b[1;33m.\u001b[0m\u001b[0mget_view_interval\u001b[0m\u001b[1;33m(\u001b[0m\u001b[1;33m)\u001b[0m\u001b[1;33m\u001b[0m\u001b[1;33m\u001b[0m\u001b[0m\n\u001b[1;32m-> 2078\u001b[1;33m         \u001b[1;32mreturn\u001b[0m \u001b[0mself\u001b[0m\u001b[1;33m.\u001b[0m\u001b[0mtick_values\u001b[0m\u001b[1;33m(\u001b[0m\u001b[0mvmin\u001b[0m\u001b[1;33m,\u001b[0m \u001b[0mvmax\u001b[0m\u001b[1;33m)\u001b[0m\u001b[1;33m\u001b[0m\u001b[1;33m\u001b[0m\u001b[0m\n\u001b[0m\u001b[0;32m   2079\u001b[0m \u001b[1;33m\u001b[0m\u001b[0m\n\u001b[0;32m   2080\u001b[0m     \u001b[1;32mdef\u001b[0m \u001b[0mtick_values\u001b[0m\u001b[1;33m(\u001b[0m\u001b[0mself\u001b[0m\u001b[1;33m,\u001b[0m \u001b[0mvmin\u001b[0m\u001b[1;33m,\u001b[0m \u001b[0mvmax\u001b[0m\u001b[1;33m)\u001b[0m\u001b[1;33m:\u001b[0m\u001b[1;33m\u001b[0m\u001b[1;33m\u001b[0m\u001b[0m\n",
      "\u001b[1;32m~\\Anaconda3\\lib\\site-packages\\matplotlib\\ticker.py\u001b[0m in \u001b[0;36mtick_values\u001b[1;34m(self, vmin, vmax)\u001b[0m\n\u001b[0;32m   2084\u001b[0m         vmin, vmax = mtransforms.nonsingular(\n\u001b[0;32m   2085\u001b[0m             vmin, vmax, expander=1e-13, tiny=1e-14)\n\u001b[1;32m-> 2086\u001b[1;33m         \u001b[0mlocs\u001b[0m \u001b[1;33m=\u001b[0m \u001b[0mself\u001b[0m\u001b[1;33m.\u001b[0m\u001b[0m_raw_ticks\u001b[0m\u001b[1;33m(\u001b[0m\u001b[0mvmin\u001b[0m\u001b[1;33m,\u001b[0m \u001b[0mvmax\u001b[0m\u001b[1;33m)\u001b[0m\u001b[1;33m\u001b[0m\u001b[1;33m\u001b[0m\u001b[0m\n\u001b[0m\u001b[0;32m   2087\u001b[0m \u001b[1;33m\u001b[0m\u001b[0m\n\u001b[0;32m   2088\u001b[0m         \u001b[0mprune\u001b[0m \u001b[1;33m=\u001b[0m \u001b[0mself\u001b[0m\u001b[1;33m.\u001b[0m\u001b[0m_prune\u001b[0m\u001b[1;33m\u001b[0m\u001b[1;33m\u001b[0m\u001b[0m\n",
      "\u001b[1;32m~\\Anaconda3\\lib\\site-packages\\matplotlib\\ticker.py\u001b[0m in \u001b[0;36m_raw_ticks\u001b[1;34m(self, vmin, vmax)\u001b[0m\n\u001b[0;32m   2023\u001b[0m         \u001b[1;32mif\u001b[0m \u001b[0mself\u001b[0m\u001b[1;33m.\u001b[0m\u001b[0m_nbins\u001b[0m \u001b[1;33m==\u001b[0m \u001b[1;34m'auto'\u001b[0m\u001b[1;33m:\u001b[0m\u001b[1;33m\u001b[0m\u001b[1;33m\u001b[0m\u001b[0m\n\u001b[0;32m   2024\u001b[0m             \u001b[1;32mif\u001b[0m \u001b[0mself\u001b[0m\u001b[1;33m.\u001b[0m\u001b[0maxis\u001b[0m \u001b[1;32mis\u001b[0m \u001b[1;32mnot\u001b[0m \u001b[1;32mNone\u001b[0m\u001b[1;33m:\u001b[0m\u001b[1;33m\u001b[0m\u001b[1;33m\u001b[0m\u001b[0m\n\u001b[1;32m-> 2025\u001b[1;33m                 nbins = np.clip(self.axis.get_tick_space(),\n\u001b[0m\u001b[0;32m   2026\u001b[0m                                 max(1, self._min_n_ticks - 1), 9)\n\u001b[0;32m   2027\u001b[0m             \u001b[1;32melse\u001b[0m\u001b[1;33m:\u001b[0m\u001b[1;33m\u001b[0m\u001b[1;33m\u001b[0m\u001b[0m\n",
      "\u001b[1;32m~\\Anaconda3\\lib\\site-packages\\matplotlib\\axis.py\u001b[0m in \u001b[0;36mget_tick_space\u001b[1;34m(self)\u001b[0m\n\u001b[0;32m   2173\u001b[0m         \u001b[0mends\u001b[0m \u001b[1;33m=\u001b[0m \u001b[0mself\u001b[0m\u001b[1;33m.\u001b[0m\u001b[0maxes\u001b[0m\u001b[1;33m.\u001b[0m\u001b[0mtransAxes\u001b[0m\u001b[1;33m.\u001b[0m\u001b[0mtransform\u001b[0m\u001b[1;33m(\u001b[0m\u001b[1;33m[\u001b[0m\u001b[1;33m[\u001b[0m\u001b[1;36m0\u001b[0m\u001b[1;33m,\u001b[0m \u001b[1;36m0\u001b[0m\u001b[1;33m]\u001b[0m\u001b[1;33m,\u001b[0m \u001b[1;33m[\u001b[0m\u001b[1;36m1\u001b[0m\u001b[1;33m,\u001b[0m \u001b[1;36m0\u001b[0m\u001b[1;33m]\u001b[0m\u001b[1;33m]\u001b[0m\u001b[1;33m)\u001b[0m\u001b[1;33m\u001b[0m\u001b[1;33m\u001b[0m\u001b[0m\n\u001b[0;32m   2174\u001b[0m         \u001b[0mlength\u001b[0m \u001b[1;33m=\u001b[0m \u001b[1;33m(\u001b[0m\u001b[1;33m(\u001b[0m\u001b[0mends\u001b[0m\u001b[1;33m[\u001b[0m\u001b[1;36m1\u001b[0m\u001b[1;33m]\u001b[0m\u001b[1;33m[\u001b[0m\u001b[1;36m0\u001b[0m\u001b[1;33m]\u001b[0m \u001b[1;33m-\u001b[0m \u001b[0mends\u001b[0m\u001b[1;33m[\u001b[0m\u001b[1;36m0\u001b[0m\u001b[1;33m]\u001b[0m\u001b[1;33m[\u001b[0m\u001b[1;36m0\u001b[0m\u001b[1;33m]\u001b[0m\u001b[1;33m)\u001b[0m \u001b[1;33m/\u001b[0m \u001b[0mself\u001b[0m\u001b[1;33m.\u001b[0m\u001b[0maxes\u001b[0m\u001b[1;33m.\u001b[0m\u001b[0mfigure\u001b[0m\u001b[1;33m.\u001b[0m\u001b[0mdpi\u001b[0m\u001b[1;33m)\u001b[0m \u001b[1;33m*\u001b[0m \u001b[1;36m72\u001b[0m\u001b[1;33m\u001b[0m\u001b[1;33m\u001b[0m\u001b[0m\n\u001b[1;32m-> 2175\u001b[1;33m         \u001b[0mtick\u001b[0m \u001b[1;33m=\u001b[0m \u001b[0mself\u001b[0m\u001b[1;33m.\u001b[0m\u001b[0m_get_tick\u001b[0m\u001b[1;33m(\u001b[0m\u001b[1;32mTrue\u001b[0m\u001b[1;33m)\u001b[0m\u001b[1;33m\u001b[0m\u001b[1;33m\u001b[0m\u001b[0m\n\u001b[0m\u001b[0;32m   2176\u001b[0m         \u001b[1;31m# There is a heuristic here that the aspect ratio of tick text\u001b[0m\u001b[1;33m\u001b[0m\u001b[1;33m\u001b[0m\u001b[1;33m\u001b[0m\u001b[0m\n\u001b[0;32m   2177\u001b[0m         \u001b[1;31m# is no more than 3:1\u001b[0m\u001b[1;33m\u001b[0m\u001b[1;33m\u001b[0m\u001b[1;33m\u001b[0m\u001b[0m\n",
      "\u001b[1;32m~\\Anaconda3\\lib\\site-packages\\matplotlib\\axis.py\u001b[0m in \u001b[0;36m_get_tick\u001b[1;34m(self, major)\u001b[0m\n\u001b[0;32m   1904\u001b[0m         \u001b[1;32melse\u001b[0m\u001b[1;33m:\u001b[0m\u001b[1;33m\u001b[0m\u001b[1;33m\u001b[0m\u001b[0m\n\u001b[0;32m   1905\u001b[0m             \u001b[0mtick_kw\u001b[0m \u001b[1;33m=\u001b[0m \u001b[0mself\u001b[0m\u001b[1;33m.\u001b[0m\u001b[0m_minor_tick_kw\u001b[0m\u001b[1;33m\u001b[0m\u001b[1;33m\u001b[0m\u001b[0m\n\u001b[1;32m-> 1906\u001b[1;33m         \u001b[1;32mreturn\u001b[0m \u001b[0mXTick\u001b[0m\u001b[1;33m(\u001b[0m\u001b[0mself\u001b[0m\u001b[1;33m.\u001b[0m\u001b[0maxes\u001b[0m\u001b[1;33m,\u001b[0m \u001b[1;36m0\u001b[0m\u001b[1;33m,\u001b[0m \u001b[1;34m''\u001b[0m\u001b[1;33m,\u001b[0m \u001b[0mmajor\u001b[0m\u001b[1;33m=\u001b[0m\u001b[0mmajor\u001b[0m\u001b[1;33m,\u001b[0m \u001b[1;33m**\u001b[0m\u001b[0mtick_kw\u001b[0m\u001b[1;33m)\u001b[0m\u001b[1;33m\u001b[0m\u001b[1;33m\u001b[0m\u001b[0m\n\u001b[0m\u001b[0;32m   1907\u001b[0m \u001b[1;33m\u001b[0m\u001b[0m\n\u001b[0;32m   1908\u001b[0m     \u001b[1;32mdef\u001b[0m \u001b[0m_get_label\u001b[0m\u001b[1;33m(\u001b[0m\u001b[0mself\u001b[0m\u001b[1;33m)\u001b[0m\u001b[1;33m:\u001b[0m\u001b[1;33m\u001b[0m\u001b[1;33m\u001b[0m\u001b[0m\n",
      "\u001b[1;32m~\\Anaconda3\\lib\\site-packages\\matplotlib\\axis.py\u001b[0m in \u001b[0;36m__init__\u001b[1;34m(self, axes, loc, label, size, width, color, tickdir, pad, labelsize, labelcolor, zorder, gridOn, tick1On, tick2On, label1On, label2On, major, labelrotation, grid_color, grid_linestyle, grid_linewidth, grid_alpha, **kw)\u001b[0m\n\u001b[0;32m    157\u001b[0m \u001b[1;33m\u001b[0m\u001b[0m\n\u001b[0;32m    158\u001b[0m         \u001b[0mself\u001b[0m\u001b[1;33m.\u001b[0m\u001b[0mtick1line\u001b[0m \u001b[1;33m=\u001b[0m \u001b[0mself\u001b[0m\u001b[1;33m.\u001b[0m\u001b[0m_get_tick1line\u001b[0m\u001b[1;33m(\u001b[0m\u001b[1;33m)\u001b[0m\u001b[1;33m\u001b[0m\u001b[1;33m\u001b[0m\u001b[0m\n\u001b[1;32m--> 159\u001b[1;33m         \u001b[0mself\u001b[0m\u001b[1;33m.\u001b[0m\u001b[0mtick2line\u001b[0m \u001b[1;33m=\u001b[0m \u001b[0mself\u001b[0m\u001b[1;33m.\u001b[0m\u001b[0m_get_tick2line\u001b[0m\u001b[1;33m(\u001b[0m\u001b[1;33m)\u001b[0m\u001b[1;33m\u001b[0m\u001b[1;33m\u001b[0m\u001b[0m\n\u001b[0m\u001b[0;32m    160\u001b[0m         \u001b[0mself\u001b[0m\u001b[1;33m.\u001b[0m\u001b[0mgridline\u001b[0m \u001b[1;33m=\u001b[0m \u001b[0mself\u001b[0m\u001b[1;33m.\u001b[0m\u001b[0m_get_gridline\u001b[0m\u001b[1;33m(\u001b[0m\u001b[1;33m)\u001b[0m\u001b[1;33m\u001b[0m\u001b[1;33m\u001b[0m\u001b[0m\n\u001b[0;32m    161\u001b[0m         \u001b[0mself\u001b[0m\u001b[1;33m.\u001b[0m\u001b[0mlabel1\u001b[0m \u001b[1;33m=\u001b[0m \u001b[0mself\u001b[0m\u001b[1;33m.\u001b[0m\u001b[0m_get_text1\u001b[0m\u001b[1;33m(\u001b[0m\u001b[1;33m)\u001b[0m\u001b[1;33m\u001b[0m\u001b[1;33m\u001b[0m\u001b[0m\n",
      "\u001b[1;32m~\\Anaconda3\\lib\\site-packages\\matplotlib\\axis.py\u001b[0m in \u001b[0;36m_get_tick2line\u001b[1;34m(self)\u001b[0m\n\u001b[0;32m    476\u001b[0m                           \u001b[0mmarkersize\u001b[0m\u001b[1;33m=\u001b[0m\u001b[0mself\u001b[0m\u001b[1;33m.\u001b[0m\u001b[0m_size\u001b[0m\u001b[1;33m,\u001b[0m\u001b[1;33m\u001b[0m\u001b[1;33m\u001b[0m\u001b[0m\n\u001b[0;32m    477\u001b[0m                           \u001b[0mmarkeredgewidth\u001b[0m\u001b[1;33m=\u001b[0m\u001b[0mself\u001b[0m\u001b[1;33m.\u001b[0m\u001b[0m_width\u001b[0m\u001b[1;33m,\u001b[0m\u001b[1;33m\u001b[0m\u001b[1;33m\u001b[0m\u001b[0m\n\u001b[1;32m--> 478\u001b[1;33m                           zorder=self._zorder)\n\u001b[0m\u001b[0;32m    479\u001b[0m \u001b[1;33m\u001b[0m\u001b[0m\n\u001b[0;32m    480\u001b[0m         \u001b[0ml\u001b[0m\u001b[1;33m.\u001b[0m\u001b[0mset_transform\u001b[0m\u001b[1;33m(\u001b[0m\u001b[0mself\u001b[0m\u001b[1;33m.\u001b[0m\u001b[0maxes\u001b[0m\u001b[1;33m.\u001b[0m\u001b[0mget_xaxis_transform\u001b[0m\u001b[1;33m(\u001b[0m\u001b[0mwhich\u001b[0m\u001b[1;33m=\u001b[0m\u001b[1;34m'tick2'\u001b[0m\u001b[1;33m)\u001b[0m\u001b[1;33m)\u001b[0m\u001b[1;33m\u001b[0m\u001b[1;33m\u001b[0m\u001b[0m\n",
      "\u001b[1;32m~\\Anaconda3\\lib\\site-packages\\matplotlib\\lines.py\u001b[0m in \u001b[0;36m__init__\u001b[1;34m(self, xdata, ydata, linewidth, linestyle, color, marker, markersize, markeredgewidth, markeredgecolor, markerfacecolor, markerfacecoloralt, fillstyle, antialiased, dash_capstyle, solid_capstyle, dash_joinstyle, solid_joinstyle, pickradius, drawstyle, markevery, **kwargs)\u001b[0m\n\u001b[0;32m    380\u001b[0m         \u001b[0mself\u001b[0m\u001b[1;33m.\u001b[0m\u001b[0m_color\u001b[0m \u001b[1;33m=\u001b[0m \u001b[1;32mNone\u001b[0m\u001b[1;33m\u001b[0m\u001b[1;33m\u001b[0m\u001b[0m\n\u001b[0;32m    381\u001b[0m         \u001b[0mself\u001b[0m\u001b[1;33m.\u001b[0m\u001b[0mset_color\u001b[0m\u001b[1;33m(\u001b[0m\u001b[0mcolor\u001b[0m\u001b[1;33m)\u001b[0m\u001b[1;33m\u001b[0m\u001b[1;33m\u001b[0m\u001b[0m\n\u001b[1;32m--> 382\u001b[1;33m         \u001b[0mself\u001b[0m\u001b[1;33m.\u001b[0m\u001b[0m_marker\u001b[0m \u001b[1;33m=\u001b[0m \u001b[0mMarkerStyle\u001b[0m\u001b[1;33m(\u001b[0m\u001b[0mmarker\u001b[0m\u001b[1;33m,\u001b[0m \u001b[0mfillstyle\u001b[0m\u001b[1;33m)\u001b[0m\u001b[1;33m\u001b[0m\u001b[1;33m\u001b[0m\u001b[0m\n\u001b[0m\u001b[0;32m    383\u001b[0m \u001b[1;33m\u001b[0m\u001b[0m\n\u001b[0;32m    384\u001b[0m         \u001b[0mself\u001b[0m\u001b[1;33m.\u001b[0m\u001b[0m_markevery\u001b[0m \u001b[1;33m=\u001b[0m \u001b[1;32mNone\u001b[0m\u001b[1;33m\u001b[0m\u001b[1;33m\u001b[0m\u001b[0m\n",
      "\u001b[1;32m~\\Anaconda3\\lib\\site-packages\\matplotlib\\markers.py\u001b[0m in \u001b[0;36m__init__\u001b[1;34m(self, marker, fillstyle)\u001b[0m\n\u001b[0;32m    241\u001b[0m         \u001b[0mself\u001b[0m\u001b[1;33m.\u001b[0m\u001b[0m_marker_function\u001b[0m \u001b[1;33m=\u001b[0m \u001b[1;32mNone\u001b[0m\u001b[1;33m\u001b[0m\u001b[1;33m\u001b[0m\u001b[0m\n\u001b[0;32m    242\u001b[0m         \u001b[0mself\u001b[0m\u001b[1;33m.\u001b[0m\u001b[0mset_fillstyle\u001b[0m\u001b[1;33m(\u001b[0m\u001b[0mfillstyle\u001b[0m\u001b[1;33m)\u001b[0m\u001b[1;33m\u001b[0m\u001b[1;33m\u001b[0m\u001b[0m\n\u001b[1;32m--> 243\u001b[1;33m         \u001b[0mself\u001b[0m\u001b[1;33m.\u001b[0m\u001b[0mset_marker\u001b[0m\u001b[1;33m(\u001b[0m\u001b[0mmarker\u001b[0m\u001b[1;33m)\u001b[0m\u001b[1;33m\u001b[0m\u001b[1;33m\u001b[0m\u001b[0m\n\u001b[0m\u001b[0;32m    244\u001b[0m \u001b[1;33m\u001b[0m\u001b[0m\n\u001b[0;32m    245\u001b[0m     \u001b[1;32mdef\u001b[0m \u001b[0m_recache\u001b[0m\u001b[1;33m(\u001b[0m\u001b[0mself\u001b[0m\u001b[1;33m)\u001b[0m\u001b[1;33m:\u001b[0m\u001b[1;33m\u001b[0m\u001b[1;33m\u001b[0m\u001b[0m\n",
      "\u001b[1;32m~\\Anaconda3\\lib\\site-packages\\matplotlib\\markers.py\u001b[0m in \u001b[0;36mset_marker\u001b[1;34m(self, marker)\u001b[0m\n\u001b[0;32m    314\u001b[0m \u001b[1;33m\u001b[0m\u001b[0m\n\u001b[0;32m    315\u001b[0m         \u001b[0mself\u001b[0m\u001b[1;33m.\u001b[0m\u001b[0m_marker\u001b[0m \u001b[1;33m=\u001b[0m \u001b[0mmarker\u001b[0m\u001b[1;33m\u001b[0m\u001b[1;33m\u001b[0m\u001b[0m\n\u001b[1;32m--> 316\u001b[1;33m         \u001b[0mself\u001b[0m\u001b[1;33m.\u001b[0m\u001b[0m_recache\u001b[0m\u001b[1;33m(\u001b[0m\u001b[1;33m)\u001b[0m\u001b[1;33m\u001b[0m\u001b[1;33m\u001b[0m\u001b[0m\n\u001b[0m\u001b[0;32m    317\u001b[0m \u001b[1;33m\u001b[0m\u001b[0m\n\u001b[0;32m    318\u001b[0m     \u001b[1;32mdef\u001b[0m \u001b[0mget_path\u001b[0m\u001b[1;33m(\u001b[0m\u001b[0mself\u001b[0m\u001b[1;33m)\u001b[0m\u001b[1;33m:\u001b[0m\u001b[1;33m\u001b[0m\u001b[1;33m\u001b[0m\u001b[0m\n",
      "\u001b[1;32m~\\Anaconda3\\lib\\site-packages\\matplotlib\\markers.py\u001b[0m in \u001b[0;36m_recache\u001b[1;34m(self)\u001b[0m\n\u001b[0;32m    254\u001b[0m         \u001b[0mself\u001b[0m\u001b[1;33m.\u001b[0m\u001b[0m_capstyle\u001b[0m \u001b[1;33m=\u001b[0m \u001b[1;34m'butt'\u001b[0m\u001b[1;33m\u001b[0m\u001b[1;33m\u001b[0m\u001b[0m\n\u001b[0;32m    255\u001b[0m         \u001b[0mself\u001b[0m\u001b[1;33m.\u001b[0m\u001b[0m_filled\u001b[0m \u001b[1;33m=\u001b[0m \u001b[1;32mTrue\u001b[0m\u001b[1;33m\u001b[0m\u001b[1;33m\u001b[0m\u001b[0m\n\u001b[1;32m--> 256\u001b[1;33m         \u001b[0mself\u001b[0m\u001b[1;33m.\u001b[0m\u001b[0m_marker_function\u001b[0m\u001b[1;33m(\u001b[0m\u001b[1;33m)\u001b[0m\u001b[1;33m\u001b[0m\u001b[1;33m\u001b[0m\u001b[0m\n\u001b[0m\u001b[0;32m    257\u001b[0m \u001b[1;33m\u001b[0m\u001b[0m\n\u001b[0;32m    258\u001b[0m     \u001b[1;32mdef\u001b[0m \u001b[0m__bool__\u001b[0m\u001b[1;33m(\u001b[0m\u001b[0mself\u001b[0m\u001b[1;33m)\u001b[0m\u001b[1;33m:\u001b[0m\u001b[1;33m\u001b[0m\u001b[1;33m\u001b[0m\u001b[0m\n",
      "\u001b[1;32m~\\Anaconda3\\lib\\site-packages\\matplotlib\\markers.py\u001b[0m in \u001b[0;36m_set_tickup\u001b[1;34m(self)\u001b[0m\n\u001b[0;32m    761\u001b[0m \u001b[1;33m\u001b[0m\u001b[0m\n\u001b[0;32m    762\u001b[0m     \u001b[1;32mdef\u001b[0m \u001b[0m_set_tickup\u001b[0m\u001b[1;33m(\u001b[0m\u001b[0mself\u001b[0m\u001b[1;33m)\u001b[0m\u001b[1;33m:\u001b[0m\u001b[1;33m\u001b[0m\u001b[1;33m\u001b[0m\u001b[0m\n\u001b[1;32m--> 763\u001b[1;33m         \u001b[0mself\u001b[0m\u001b[1;33m.\u001b[0m\u001b[0m_transform\u001b[0m \u001b[1;33m=\u001b[0m \u001b[0mAffine2D\u001b[0m\u001b[1;33m(\u001b[0m\u001b[1;33m)\u001b[0m\u001b[1;33m.\u001b[0m\u001b[0mscale\u001b[0m\u001b[1;33m(\u001b[0m\u001b[1;36m1.0\u001b[0m\u001b[1;33m,\u001b[0m \u001b[1;36m1.0\u001b[0m\u001b[1;33m)\u001b[0m\u001b[1;33m\u001b[0m\u001b[1;33m\u001b[0m\u001b[0m\n\u001b[0m\u001b[0;32m    764\u001b[0m         \u001b[0mself\u001b[0m\u001b[1;33m.\u001b[0m\u001b[0m_snap_threshold\u001b[0m \u001b[1;33m=\u001b[0m \u001b[1;36m1.0\u001b[0m\u001b[1;33m\u001b[0m\u001b[1;33m\u001b[0m\u001b[0m\n\u001b[0;32m    765\u001b[0m         \u001b[0mself\u001b[0m\u001b[1;33m.\u001b[0m\u001b[0m_filled\u001b[0m \u001b[1;33m=\u001b[0m \u001b[1;32mFalse\u001b[0m\u001b[1;33m\u001b[0m\u001b[1;33m\u001b[0m\u001b[0m\n",
      "\u001b[1;32m~\\Anaconda3\\lib\\site-packages\\matplotlib\\transforms.py\u001b[0m in \u001b[0;36mscale\u001b[1;34m(self, sx, sy)\u001b[0m\n\u001b[0;32m   1989\u001b[0m         scale_mtx = np.array(\n\u001b[0;32m   1990\u001b[0m             [[sx, 0.0, 0.0], [0.0, sy, 0.0], [0.0, 0.0, 1.0]], float)\n\u001b[1;32m-> 1991\u001b[1;33m         \u001b[0mself\u001b[0m\u001b[1;33m.\u001b[0m\u001b[0m_mtx\u001b[0m \u001b[1;33m=\u001b[0m \u001b[0mnp\u001b[0m\u001b[1;33m.\u001b[0m\u001b[0mdot\u001b[0m\u001b[1;33m(\u001b[0m\u001b[0mscale_mtx\u001b[0m\u001b[1;33m,\u001b[0m \u001b[0mself\u001b[0m\u001b[1;33m.\u001b[0m\u001b[0m_mtx\u001b[0m\u001b[1;33m)\u001b[0m\u001b[1;33m\u001b[0m\u001b[1;33m\u001b[0m\u001b[0m\n\u001b[0m\u001b[0;32m   1992\u001b[0m         \u001b[0mself\u001b[0m\u001b[1;33m.\u001b[0m\u001b[0minvalidate\u001b[0m\u001b[1;33m(\u001b[0m\u001b[1;33m)\u001b[0m\u001b[1;33m\u001b[0m\u001b[1;33m\u001b[0m\u001b[0m\n\u001b[0;32m   1993\u001b[0m         \u001b[1;32mreturn\u001b[0m \u001b[0mself\u001b[0m\u001b[1;33m\u001b[0m\u001b[1;33m\u001b[0m\u001b[0m\n",
      "\u001b[1;31mKeyboardInterrupt\u001b[0m: "
     ]
    },
    {
     "name": "stdout",
     "output_type": "stream",
     "text": [
      "Error in callback <function flush_figures at 0x000001CF3D174950> (for post_execute):\n"
     ]
    },
    {
     "ename": "KeyboardInterrupt",
     "evalue": "",
     "output_type": "error",
     "traceback": [
      "\u001b[1;31m---------------------------------------------------------------------------\u001b[0m",
      "\u001b[1;31mKeyboardInterrupt\u001b[0m                         Traceback (most recent call last)",
      "\u001b[1;32m~\\Anaconda3\\lib\\site-packages\\ipykernel\\pylab\\backend_inline.py\u001b[0m in \u001b[0;36mflush_figures\u001b[1;34m()\u001b[0m\n\u001b[0;32m    115\u001b[0m         \u001b[1;31m# ignore the tracking, just draw and close all figures\u001b[0m\u001b[1;33m\u001b[0m\u001b[1;33m\u001b[0m\u001b[1;33m\u001b[0m\u001b[0m\n\u001b[0;32m    116\u001b[0m         \u001b[1;32mtry\u001b[0m\u001b[1;33m:\u001b[0m\u001b[1;33m\u001b[0m\u001b[1;33m\u001b[0m\u001b[0m\n\u001b[1;32m--> 117\u001b[1;33m             \u001b[1;32mreturn\u001b[0m \u001b[0mshow\u001b[0m\u001b[1;33m(\u001b[0m\u001b[1;32mTrue\u001b[0m\u001b[1;33m)\u001b[0m\u001b[1;33m\u001b[0m\u001b[1;33m\u001b[0m\u001b[0m\n\u001b[0m\u001b[0;32m    118\u001b[0m         \u001b[1;32mexcept\u001b[0m \u001b[0mException\u001b[0m \u001b[1;32mas\u001b[0m \u001b[0me\u001b[0m\u001b[1;33m:\u001b[0m\u001b[1;33m\u001b[0m\u001b[1;33m\u001b[0m\u001b[0m\n\u001b[0;32m    119\u001b[0m             \u001b[1;31m# safely show traceback if in IPython, else raise\u001b[0m\u001b[1;33m\u001b[0m\u001b[1;33m\u001b[0m\u001b[1;33m\u001b[0m\u001b[0m\n",
      "\u001b[1;32m~\\Anaconda3\\lib\\site-packages\\ipykernel\\pylab\\backend_inline.py\u001b[0m in \u001b[0;36mshow\u001b[1;34m(close, block)\u001b[0m\n\u001b[0;32m     37\u001b[0m             display(\n\u001b[0;32m     38\u001b[0m                 \u001b[0mfigure_manager\u001b[0m\u001b[1;33m.\u001b[0m\u001b[0mcanvas\u001b[0m\u001b[1;33m.\u001b[0m\u001b[0mfigure\u001b[0m\u001b[1;33m,\u001b[0m\u001b[1;33m\u001b[0m\u001b[1;33m\u001b[0m\u001b[0m\n\u001b[1;32m---> 39\u001b[1;33m                 \u001b[0mmetadata\u001b[0m\u001b[1;33m=\u001b[0m\u001b[0m_fetch_figure_metadata\u001b[0m\u001b[1;33m(\u001b[0m\u001b[0mfigure_manager\u001b[0m\u001b[1;33m.\u001b[0m\u001b[0mcanvas\u001b[0m\u001b[1;33m.\u001b[0m\u001b[0mfigure\u001b[0m\u001b[1;33m)\u001b[0m\u001b[1;33m\u001b[0m\u001b[1;33m\u001b[0m\u001b[0m\n\u001b[0m\u001b[0;32m     40\u001b[0m             )\n\u001b[0;32m     41\u001b[0m     \u001b[1;32mfinally\u001b[0m\u001b[1;33m:\u001b[0m\u001b[1;33m\u001b[0m\u001b[1;33m\u001b[0m\u001b[0m\n",
      "\u001b[1;32m~\\Anaconda3\\lib\\site-packages\\IPython\\core\\display.py\u001b[0m in \u001b[0;36mdisplay\u001b[1;34m(include, exclude, metadata, transient, display_id, *objs, **kwargs)\u001b[0m\n\u001b[0;32m    304\u001b[0m             \u001b[0mpublish_display_data\u001b[0m\u001b[1;33m(\u001b[0m\u001b[0mdata\u001b[0m\u001b[1;33m=\u001b[0m\u001b[0mobj\u001b[0m\u001b[1;33m,\u001b[0m \u001b[0mmetadata\u001b[0m\u001b[1;33m=\u001b[0m\u001b[0mmetadata\u001b[0m\u001b[1;33m,\u001b[0m \u001b[1;33m**\u001b[0m\u001b[0mkwargs\u001b[0m\u001b[1;33m)\u001b[0m\u001b[1;33m\u001b[0m\u001b[1;33m\u001b[0m\u001b[0m\n\u001b[0;32m    305\u001b[0m         \u001b[1;32melse\u001b[0m\u001b[1;33m:\u001b[0m\u001b[1;33m\u001b[0m\u001b[1;33m\u001b[0m\u001b[0m\n\u001b[1;32m--> 306\u001b[1;33m             \u001b[0mformat_dict\u001b[0m\u001b[1;33m,\u001b[0m \u001b[0mmd_dict\u001b[0m \u001b[1;33m=\u001b[0m \u001b[0mformat\u001b[0m\u001b[1;33m(\u001b[0m\u001b[0mobj\u001b[0m\u001b[1;33m,\u001b[0m \u001b[0minclude\u001b[0m\u001b[1;33m=\u001b[0m\u001b[0minclude\u001b[0m\u001b[1;33m,\u001b[0m \u001b[0mexclude\u001b[0m\u001b[1;33m=\u001b[0m\u001b[0mexclude\u001b[0m\u001b[1;33m)\u001b[0m\u001b[1;33m\u001b[0m\u001b[1;33m\u001b[0m\u001b[0m\n\u001b[0m\u001b[0;32m    307\u001b[0m             \u001b[1;32mif\u001b[0m \u001b[1;32mnot\u001b[0m \u001b[0mformat_dict\u001b[0m\u001b[1;33m:\u001b[0m\u001b[1;33m\u001b[0m\u001b[1;33m\u001b[0m\u001b[0m\n\u001b[0;32m    308\u001b[0m                 \u001b[1;31m# nothing to display (e.g. _ipython_display_ took over)\u001b[0m\u001b[1;33m\u001b[0m\u001b[1;33m\u001b[0m\u001b[1;33m\u001b[0m\u001b[0m\n",
      "\u001b[1;32m~\\Anaconda3\\lib\\site-packages\\IPython\\core\\formatters.py\u001b[0m in \u001b[0;36mformat\u001b[1;34m(self, obj, include, exclude)\u001b[0m\n\u001b[0;32m    178\u001b[0m             \u001b[0mmd\u001b[0m \u001b[1;33m=\u001b[0m \u001b[1;32mNone\u001b[0m\u001b[1;33m\u001b[0m\u001b[1;33m\u001b[0m\u001b[0m\n\u001b[0;32m    179\u001b[0m             \u001b[1;32mtry\u001b[0m\u001b[1;33m:\u001b[0m\u001b[1;33m\u001b[0m\u001b[1;33m\u001b[0m\u001b[0m\n\u001b[1;32m--> 180\u001b[1;33m                 \u001b[0mdata\u001b[0m \u001b[1;33m=\u001b[0m \u001b[0mformatter\u001b[0m\u001b[1;33m(\u001b[0m\u001b[0mobj\u001b[0m\u001b[1;33m)\u001b[0m\u001b[1;33m\u001b[0m\u001b[1;33m\u001b[0m\u001b[0m\n\u001b[0m\u001b[0;32m    181\u001b[0m             \u001b[1;32mexcept\u001b[0m\u001b[1;33m:\u001b[0m\u001b[1;33m\u001b[0m\u001b[1;33m\u001b[0m\u001b[0m\n\u001b[0;32m    182\u001b[0m                 \u001b[1;31m# FIXME: log the exception\u001b[0m\u001b[1;33m\u001b[0m\u001b[1;33m\u001b[0m\u001b[1;33m\u001b[0m\u001b[0m\n",
      "\u001b[1;32m<C:\\Users\\Mjoev\\Anaconda3\\lib\\site-packages\\decorator.py:decorator-gen-9>\u001b[0m in \u001b[0;36m__call__\u001b[1;34m(self, obj)\u001b[0m\n",
      "\u001b[1;32m~\\Anaconda3\\lib\\site-packages\\IPython\\core\\formatters.py\u001b[0m in \u001b[0;36mcatch_format_error\u001b[1;34m(method, self, *args, **kwargs)\u001b[0m\n\u001b[0;32m    222\u001b[0m     \u001b[1;34m\"\"\"show traceback on failed format call\"\"\"\u001b[0m\u001b[1;33m\u001b[0m\u001b[1;33m\u001b[0m\u001b[0m\n\u001b[0;32m    223\u001b[0m     \u001b[1;32mtry\u001b[0m\u001b[1;33m:\u001b[0m\u001b[1;33m\u001b[0m\u001b[1;33m\u001b[0m\u001b[0m\n\u001b[1;32m--> 224\u001b[1;33m         \u001b[0mr\u001b[0m \u001b[1;33m=\u001b[0m \u001b[0mmethod\u001b[0m\u001b[1;33m(\u001b[0m\u001b[0mself\u001b[0m\u001b[1;33m,\u001b[0m \u001b[1;33m*\u001b[0m\u001b[0margs\u001b[0m\u001b[1;33m,\u001b[0m \u001b[1;33m**\u001b[0m\u001b[0mkwargs\u001b[0m\u001b[1;33m)\u001b[0m\u001b[1;33m\u001b[0m\u001b[1;33m\u001b[0m\u001b[0m\n\u001b[0m\u001b[0;32m    225\u001b[0m     \u001b[1;32mexcept\u001b[0m \u001b[0mNotImplementedError\u001b[0m\u001b[1;33m:\u001b[0m\u001b[1;33m\u001b[0m\u001b[1;33m\u001b[0m\u001b[0m\n\u001b[0;32m    226\u001b[0m         \u001b[1;31m# don't warn on NotImplementedErrors\u001b[0m\u001b[1;33m\u001b[0m\u001b[1;33m\u001b[0m\u001b[1;33m\u001b[0m\u001b[0m\n",
      "\u001b[1;32m~\\Anaconda3\\lib\\site-packages\\IPython\\core\\formatters.py\u001b[0m in \u001b[0;36m__call__\u001b[1;34m(self, obj)\u001b[0m\n\u001b[0;32m    339\u001b[0m                 \u001b[1;32mpass\u001b[0m\u001b[1;33m\u001b[0m\u001b[1;33m\u001b[0m\u001b[0m\n\u001b[0;32m    340\u001b[0m             \u001b[1;32melse\u001b[0m\u001b[1;33m:\u001b[0m\u001b[1;33m\u001b[0m\u001b[1;33m\u001b[0m\u001b[0m\n\u001b[1;32m--> 341\u001b[1;33m                 \u001b[1;32mreturn\u001b[0m \u001b[0mprinter\u001b[0m\u001b[1;33m(\u001b[0m\u001b[0mobj\u001b[0m\u001b[1;33m)\u001b[0m\u001b[1;33m\u001b[0m\u001b[1;33m\u001b[0m\u001b[0m\n\u001b[0m\u001b[0;32m    342\u001b[0m             \u001b[1;31m# Finally look for special method names\u001b[0m\u001b[1;33m\u001b[0m\u001b[1;33m\u001b[0m\u001b[1;33m\u001b[0m\u001b[0m\n\u001b[0;32m    343\u001b[0m             \u001b[0mmethod\u001b[0m \u001b[1;33m=\u001b[0m \u001b[0mget_real_method\u001b[0m\u001b[1;33m(\u001b[0m\u001b[0mobj\u001b[0m\u001b[1;33m,\u001b[0m \u001b[0mself\u001b[0m\u001b[1;33m.\u001b[0m\u001b[0mprint_method\u001b[0m\u001b[1;33m)\u001b[0m\u001b[1;33m\u001b[0m\u001b[1;33m\u001b[0m\u001b[0m\n",
      "\u001b[1;32m~\\Anaconda3\\lib\\site-packages\\IPython\\core\\pylabtools.py\u001b[0m in \u001b[0;36m<lambda>\u001b[1;34m(fig)\u001b[0m\n\u001b[0;32m    242\u001b[0m \u001b[1;33m\u001b[0m\u001b[0m\n\u001b[0;32m    243\u001b[0m     \u001b[1;32mif\u001b[0m \u001b[1;34m'png'\u001b[0m \u001b[1;32min\u001b[0m \u001b[0mformats\u001b[0m\u001b[1;33m:\u001b[0m\u001b[1;33m\u001b[0m\u001b[1;33m\u001b[0m\u001b[0m\n\u001b[1;32m--> 244\u001b[1;33m         \u001b[0mpng_formatter\u001b[0m\u001b[1;33m.\u001b[0m\u001b[0mfor_type\u001b[0m\u001b[1;33m(\u001b[0m\u001b[0mFigure\u001b[0m\u001b[1;33m,\u001b[0m \u001b[1;32mlambda\u001b[0m \u001b[0mfig\u001b[0m\u001b[1;33m:\u001b[0m \u001b[0mprint_figure\u001b[0m\u001b[1;33m(\u001b[0m\u001b[0mfig\u001b[0m\u001b[1;33m,\u001b[0m \u001b[1;34m'png'\u001b[0m\u001b[1;33m,\u001b[0m \u001b[1;33m**\u001b[0m\u001b[0mkwargs\u001b[0m\u001b[1;33m)\u001b[0m\u001b[1;33m)\u001b[0m\u001b[1;33m\u001b[0m\u001b[1;33m\u001b[0m\u001b[0m\n\u001b[0m\u001b[0;32m    245\u001b[0m     \u001b[1;32mif\u001b[0m \u001b[1;34m'retina'\u001b[0m \u001b[1;32min\u001b[0m \u001b[0mformats\u001b[0m \u001b[1;32mor\u001b[0m \u001b[1;34m'png2x'\u001b[0m \u001b[1;32min\u001b[0m \u001b[0mformats\u001b[0m\u001b[1;33m:\u001b[0m\u001b[1;33m\u001b[0m\u001b[1;33m\u001b[0m\u001b[0m\n\u001b[0;32m    246\u001b[0m         \u001b[0mpng_formatter\u001b[0m\u001b[1;33m.\u001b[0m\u001b[0mfor_type\u001b[0m\u001b[1;33m(\u001b[0m\u001b[0mFigure\u001b[0m\u001b[1;33m,\u001b[0m \u001b[1;32mlambda\u001b[0m \u001b[0mfig\u001b[0m\u001b[1;33m:\u001b[0m \u001b[0mretina_figure\u001b[0m\u001b[1;33m(\u001b[0m\u001b[0mfig\u001b[0m\u001b[1;33m,\u001b[0m \u001b[1;33m**\u001b[0m\u001b[0mkwargs\u001b[0m\u001b[1;33m)\u001b[0m\u001b[1;33m)\u001b[0m\u001b[1;33m\u001b[0m\u001b[1;33m\u001b[0m\u001b[0m\n",
      "\u001b[1;32m~\\Anaconda3\\lib\\site-packages\\IPython\\core\\pylabtools.py\u001b[0m in \u001b[0;36mprint_figure\u001b[1;34m(fig, fmt, bbox_inches, **kwargs)\u001b[0m\n\u001b[0;32m    126\u001b[0m \u001b[1;33m\u001b[0m\u001b[0m\n\u001b[0;32m    127\u001b[0m     \u001b[0mbytes_io\u001b[0m \u001b[1;33m=\u001b[0m \u001b[0mBytesIO\u001b[0m\u001b[1;33m(\u001b[0m\u001b[1;33m)\u001b[0m\u001b[1;33m\u001b[0m\u001b[1;33m\u001b[0m\u001b[0m\n\u001b[1;32m--> 128\u001b[1;33m     \u001b[0mfig\u001b[0m\u001b[1;33m.\u001b[0m\u001b[0mcanvas\u001b[0m\u001b[1;33m.\u001b[0m\u001b[0mprint_figure\u001b[0m\u001b[1;33m(\u001b[0m\u001b[0mbytes_io\u001b[0m\u001b[1;33m,\u001b[0m \u001b[1;33m**\u001b[0m\u001b[0mkw\u001b[0m\u001b[1;33m)\u001b[0m\u001b[1;33m\u001b[0m\u001b[1;33m\u001b[0m\u001b[0m\n\u001b[0m\u001b[0;32m    129\u001b[0m     \u001b[0mdata\u001b[0m \u001b[1;33m=\u001b[0m \u001b[0mbytes_io\u001b[0m\u001b[1;33m.\u001b[0m\u001b[0mgetvalue\u001b[0m\u001b[1;33m(\u001b[0m\u001b[1;33m)\u001b[0m\u001b[1;33m\u001b[0m\u001b[1;33m\u001b[0m\u001b[0m\n\u001b[0;32m    130\u001b[0m     \u001b[1;32mif\u001b[0m \u001b[0mfmt\u001b[0m \u001b[1;33m==\u001b[0m \u001b[1;34m'svg'\u001b[0m\u001b[1;33m:\u001b[0m\u001b[1;33m\u001b[0m\u001b[1;33m\u001b[0m\u001b[0m\n",
      "\u001b[1;32m~\\Anaconda3\\lib\\site-packages\\matplotlib\\backend_bases.py\u001b[0m in \u001b[0;36mprint_figure\u001b[1;34m(self, filename, dpi, facecolor, edgecolor, orientation, format, bbox_inches, **kwargs)\u001b[0m\n\u001b[0;32m   2058\u001b[0m                     \u001b[0mbbox_artists\u001b[0m \u001b[1;33m=\u001b[0m \u001b[0mkwargs\u001b[0m\u001b[1;33m.\u001b[0m\u001b[0mpop\u001b[0m\u001b[1;33m(\u001b[0m\u001b[1;34m\"bbox_extra_artists\"\u001b[0m\u001b[1;33m,\u001b[0m \u001b[1;32mNone\u001b[0m\u001b[1;33m)\u001b[0m\u001b[1;33m\u001b[0m\u001b[1;33m\u001b[0m\u001b[0m\n\u001b[0;32m   2059\u001b[0m                     bbox_inches = self.figure.get_tightbbox(renderer,\n\u001b[1;32m-> 2060\u001b[1;33m                             bbox_extra_artists=bbox_artists)\n\u001b[0m\u001b[0;32m   2061\u001b[0m                     \u001b[0mpad\u001b[0m \u001b[1;33m=\u001b[0m \u001b[0mkwargs\u001b[0m\u001b[1;33m.\u001b[0m\u001b[0mpop\u001b[0m\u001b[1;33m(\u001b[0m\u001b[1;34m\"pad_inches\"\u001b[0m\u001b[1;33m,\u001b[0m \u001b[1;32mNone\u001b[0m\u001b[1;33m)\u001b[0m\u001b[1;33m\u001b[0m\u001b[1;33m\u001b[0m\u001b[0m\n\u001b[0;32m   2062\u001b[0m                     \u001b[1;32mif\u001b[0m \u001b[0mpad\u001b[0m \u001b[1;32mis\u001b[0m \u001b[1;32mNone\u001b[0m\u001b[1;33m:\u001b[0m\u001b[1;33m\u001b[0m\u001b[1;33m\u001b[0m\u001b[0m\n",
      "\u001b[1;32m~\\Anaconda3\\lib\\site-packages\\matplotlib\\figure.py\u001b[0m in \u001b[0;36mget_tightbbox\u001b[1;34m(self, renderer, bbox_extra_artists)\u001b[0m\n\u001b[0;32m   2374\u001b[0m                 \u001b[1;32mtry\u001b[0m\u001b[1;33m:\u001b[0m\u001b[1;33m\u001b[0m\u001b[1;33m\u001b[0m\u001b[0m\n\u001b[0;32m   2375\u001b[0m                     bbox = ax.get_tightbbox(renderer,\n\u001b[1;32m-> 2376\u001b[1;33m                             bbox_extra_artists=bbox_extra_artists)\n\u001b[0m\u001b[0;32m   2377\u001b[0m                 \u001b[1;32mexcept\u001b[0m \u001b[0mTypeError\u001b[0m\u001b[1;33m:\u001b[0m\u001b[1;33m\u001b[0m\u001b[1;33m\u001b[0m\u001b[0m\n\u001b[0;32m   2378\u001b[0m                     \u001b[0mbbox\u001b[0m \u001b[1;33m=\u001b[0m \u001b[0max\u001b[0m\u001b[1;33m.\u001b[0m\u001b[0mget_tightbbox\u001b[0m\u001b[1;33m(\u001b[0m\u001b[0mrenderer\u001b[0m\u001b[1;33m)\u001b[0m\u001b[1;33m\u001b[0m\u001b[1;33m\u001b[0m\u001b[0m\n",
      "\u001b[1;32m~\\Anaconda3\\lib\\site-packages\\matplotlib\\axes\\_base.py\u001b[0m in \u001b[0;36mget_tightbbox\u001b[1;34m(self, renderer, call_axes_locator, bbox_extra_artists)\u001b[0m\n\u001b[0;32m   4357\u001b[0m         \u001b[0mbb\u001b[0m\u001b[1;33m.\u001b[0m\u001b[0mappend\u001b[0m\u001b[1;33m(\u001b[0m\u001b[0mself\u001b[0m\u001b[1;33m.\u001b[0m\u001b[0mget_window_extent\u001b[0m\u001b[1;33m(\u001b[0m\u001b[0mrenderer\u001b[0m\u001b[1;33m)\u001b[0m\u001b[1;33m)\u001b[0m\u001b[1;33m\u001b[0m\u001b[1;33m\u001b[0m\u001b[0m\n\u001b[0;32m   4358\u001b[0m \u001b[1;33m\u001b[0m\u001b[0m\n\u001b[1;32m-> 4359\u001b[1;33m         \u001b[0mself\u001b[0m\u001b[1;33m.\u001b[0m\u001b[0m_update_title_position\u001b[0m\u001b[1;33m(\u001b[0m\u001b[0mrenderer\u001b[0m\u001b[1;33m)\u001b[0m\u001b[1;33m\u001b[0m\u001b[1;33m\u001b[0m\u001b[0m\n\u001b[0m\u001b[0;32m   4360\u001b[0m         \u001b[1;32mif\u001b[0m \u001b[0mself\u001b[0m\u001b[1;33m.\u001b[0m\u001b[0mtitle\u001b[0m\u001b[1;33m.\u001b[0m\u001b[0mget_visible\u001b[0m\u001b[1;33m(\u001b[0m\u001b[1;33m)\u001b[0m\u001b[1;33m:\u001b[0m\u001b[1;33m\u001b[0m\u001b[1;33m\u001b[0m\u001b[0m\n\u001b[0;32m   4361\u001b[0m             \u001b[0mbb\u001b[0m\u001b[1;33m.\u001b[0m\u001b[0mappend\u001b[0m\u001b[1;33m(\u001b[0m\u001b[0mself\u001b[0m\u001b[1;33m.\u001b[0m\u001b[0mtitle\u001b[0m\u001b[1;33m.\u001b[0m\u001b[0mget_window_extent\u001b[0m\u001b[1;33m(\u001b[0m\u001b[0mrenderer\u001b[0m\u001b[1;33m)\u001b[0m\u001b[1;33m)\u001b[0m\u001b[1;33m\u001b[0m\u001b[1;33m\u001b[0m\u001b[0m\n",
      "\u001b[1;32m~\\Anaconda3\\lib\\site-packages\\matplotlib\\axes\\_base.py\u001b[0m in \u001b[0;36m_update_title_position\u001b[1;34m(self, renderer)\u001b[0m\n\u001b[0;32m   2545\u001b[0m                     if (ax.xaxis.get_label_position() == 'top' or\n\u001b[0;32m   2546\u001b[0m                             ax.xaxis.get_ticks_position() in choices):\n\u001b[1;32m-> 2547\u001b[1;33m                         \u001b[0mbb\u001b[0m \u001b[1;33m=\u001b[0m \u001b[0max\u001b[0m\u001b[1;33m.\u001b[0m\u001b[0mxaxis\u001b[0m\u001b[1;33m.\u001b[0m\u001b[0mget_tightbbox\u001b[0m\u001b[1;33m(\u001b[0m\u001b[0mrenderer\u001b[0m\u001b[1;33m)\u001b[0m\u001b[1;33m\u001b[0m\u001b[1;33m\u001b[0m\u001b[0m\n\u001b[0m\u001b[0;32m   2548\u001b[0m                     \u001b[1;32melse\u001b[0m\u001b[1;33m:\u001b[0m\u001b[1;33m\u001b[0m\u001b[1;33m\u001b[0m\u001b[0m\n\u001b[0;32m   2549\u001b[0m                         \u001b[0mbb\u001b[0m \u001b[1;33m=\u001b[0m \u001b[0max\u001b[0m\u001b[1;33m.\u001b[0m\u001b[0mget_window_extent\u001b[0m\u001b[1;33m(\u001b[0m\u001b[0mrenderer\u001b[0m\u001b[1;33m)\u001b[0m\u001b[1;33m\u001b[0m\u001b[1;33m\u001b[0m\u001b[0m\n",
      "\u001b[1;32m~\\Anaconda3\\lib\\site-packages\\matplotlib\\axis.py\u001b[0m in \u001b[0;36mget_tightbbox\u001b[1;34m(self, renderer)\u001b[0m\n\u001b[0;32m   1163\u001b[0m         \u001b[0mticks_to_draw\u001b[0m \u001b[1;33m=\u001b[0m \u001b[0mself\u001b[0m\u001b[1;33m.\u001b[0m\u001b[0m_update_ticks\u001b[0m\u001b[1;33m(\u001b[0m\u001b[1;33m)\u001b[0m\u001b[1;33m\u001b[0m\u001b[1;33m\u001b[0m\u001b[0m\n\u001b[0;32m   1164\u001b[0m \u001b[1;33m\u001b[0m\u001b[0m\n\u001b[1;32m-> 1165\u001b[1;33m         \u001b[0mself\u001b[0m\u001b[1;33m.\u001b[0m\u001b[0m_update_label_position\u001b[0m\u001b[1;33m(\u001b[0m\u001b[0mrenderer\u001b[0m\u001b[1;33m)\u001b[0m\u001b[1;33m\u001b[0m\u001b[1;33m\u001b[0m\u001b[0m\n\u001b[0m\u001b[0;32m   1166\u001b[0m \u001b[1;33m\u001b[0m\u001b[0m\n\u001b[0;32m   1167\u001b[0m         \u001b[1;31m# go back to just this axis's tick labels\u001b[0m\u001b[1;33m\u001b[0m\u001b[1;33m\u001b[0m\u001b[1;33m\u001b[0m\u001b[0m\n",
      "\u001b[1;32m~\\Anaconda3\\lib\\site-packages\\matplotlib\\axis.py\u001b[0m in \u001b[0;36m_update_label_position\u001b[1;34m(self, renderer)\u001b[0m\n\u001b[0;32m   1992\u001b[0m                 \u001b[0mspine\u001b[0m \u001b[1;33m=\u001b[0m \u001b[0mself\u001b[0m\u001b[1;33m.\u001b[0m\u001b[0maxes\u001b[0m\u001b[1;33m.\u001b[0m\u001b[0mspines\u001b[0m\u001b[1;33m[\u001b[0m\u001b[1;34m'bottom'\u001b[0m\u001b[1;33m]\u001b[0m\u001b[1;33m\u001b[0m\u001b[1;33m\u001b[0m\u001b[0m\n\u001b[0;32m   1993\u001b[0m                 spinebbox = spine.get_transform().transform_path(\n\u001b[1;32m-> 1994\u001b[1;33m                     spine.get_path()).get_extents()\n\u001b[0m\u001b[0;32m   1995\u001b[0m             \u001b[1;32mexcept\u001b[0m \u001b[0mKeyError\u001b[0m\u001b[1;33m:\u001b[0m\u001b[1;33m\u001b[0m\u001b[1;33m\u001b[0m\u001b[0m\n\u001b[0;32m   1996\u001b[0m                 \u001b[1;31m# use axes if spine doesn't exist\u001b[0m\u001b[1;33m\u001b[0m\u001b[1;33m\u001b[0m\u001b[1;33m\u001b[0m\u001b[0m\n",
      "\u001b[1;32m~\\Anaconda3\\lib\\site-packages\\matplotlib\\path.py\u001b[0m in \u001b[0;36mget_extents\u001b[1;34m(self, transform)\u001b[0m\n\u001b[0;32m    511\u001b[0m                 \u001b[0mpath\u001b[0m \u001b[1;33m=\u001b[0m \u001b[0mself\u001b[0m\u001b[1;33m.\u001b[0m\u001b[0mtransformed\u001b[0m\u001b[1;33m(\u001b[0m\u001b[0mtransform\u001b[0m\u001b[1;33m)\u001b[0m\u001b[1;33m\u001b[0m\u001b[1;33m\u001b[0m\u001b[0m\n\u001b[0;32m    512\u001b[0m                 \u001b[0mtransform\u001b[0m \u001b[1;33m=\u001b[0m \u001b[1;32mNone\u001b[0m\u001b[1;33m\u001b[0m\u001b[1;33m\u001b[0m\u001b[0m\n\u001b[1;32m--> 513\u001b[1;33m         \u001b[1;32mreturn\u001b[0m \u001b[0mBbox\u001b[0m\u001b[1;33m(\u001b[0m\u001b[0m_path\u001b[0m\u001b[1;33m.\u001b[0m\u001b[0mget_path_extents\u001b[0m\u001b[1;33m(\u001b[0m\u001b[0mpath\u001b[0m\u001b[1;33m,\u001b[0m \u001b[0mtransform\u001b[0m\u001b[1;33m)\u001b[0m\u001b[1;33m)\u001b[0m\u001b[1;33m\u001b[0m\u001b[1;33m\u001b[0m\u001b[0m\n\u001b[0m\u001b[0;32m    514\u001b[0m \u001b[1;33m\u001b[0m\u001b[0m\n\u001b[0;32m    515\u001b[0m     \u001b[1;32mdef\u001b[0m \u001b[0mintersects_path\u001b[0m\u001b[1;33m(\u001b[0m\u001b[0mself\u001b[0m\u001b[1;33m,\u001b[0m \u001b[0mother\u001b[0m\u001b[1;33m,\u001b[0m \u001b[0mfilled\u001b[0m\u001b[1;33m=\u001b[0m\u001b[1;32mTrue\u001b[0m\u001b[1;33m)\u001b[0m\u001b[1;33m:\u001b[0m\u001b[1;33m\u001b[0m\u001b[1;33m\u001b[0m\u001b[0m\n",
      "\u001b[1;32m~\\Anaconda3\\lib\\site-packages\\matplotlib\\transforms.py\u001b[0m in \u001b[0;36m__init__\u001b[1;34m(self, points, **kwargs)\u001b[0m\n\u001b[0;32m    748\u001b[0m         \u001b[1;31m# default or has been mutated; we store the orig points to\u001b[0m\u001b[1;33m\u001b[0m\u001b[1;33m\u001b[0m\u001b[1;33m\u001b[0m\u001b[0m\n\u001b[0;32m    749\u001b[0m         \u001b[1;31m# support the mutated methods\u001b[0m\u001b[1;33m\u001b[0m\u001b[1;33m\u001b[0m\u001b[1;33m\u001b[0m\u001b[0m\n\u001b[1;32m--> 750\u001b[1;33m         \u001b[0mself\u001b[0m\u001b[1;33m.\u001b[0m\u001b[0m_points_orig\u001b[0m \u001b[1;33m=\u001b[0m \u001b[0mself\u001b[0m\u001b[1;33m.\u001b[0m\u001b[0m_points\u001b[0m\u001b[1;33m.\u001b[0m\u001b[0mcopy\u001b[0m\u001b[1;33m(\u001b[0m\u001b[1;33m)\u001b[0m\u001b[1;33m\u001b[0m\u001b[1;33m\u001b[0m\u001b[0m\n\u001b[0m\u001b[0;32m    751\u001b[0m     \u001b[1;32mif\u001b[0m \u001b[0mDEBUG\u001b[0m\u001b[1;33m:\u001b[0m\u001b[1;33m\u001b[0m\u001b[1;33m\u001b[0m\u001b[0m\n\u001b[0;32m    752\u001b[0m         \u001b[0m___init__\u001b[0m \u001b[1;33m=\u001b[0m \u001b[0m__init__\u001b[0m\u001b[1;33m\u001b[0m\u001b[1;33m\u001b[0m\u001b[0m\n",
      "\u001b[1;31mKeyboardInterrupt\u001b[0m: "
     ]
    }
   ],
   "source": [
    "sns.pairplot(Covid_Input_df, diag_kind='kde',hue = 'status') # plotting pairplot to understand bi / multilinearlity if any."
   ]
  },
  {
   "cell_type": "code",
   "execution_count": null,
   "metadata": {},
   "outputs": [],
   "source": [
    "#Plotting the correlation\n",
    "Covid_Input_df.corr()"
   ]
  },
  {
   "cell_type": "code",
   "execution_count": null,
   "metadata": {},
   "outputs": [],
   "source": [
    "import seaborn as sns\n",
    "%matplotlib inline\n",
    "from matplotlib import rcParams\n",
    "\n",
    "from matplotlib import pyplot as plt\n",
    "plt.figure(figsize=(25, 25))\n",
    "ax = sns.heatmap(Covid_Input_df.corr(), vmax=.8, square=True, fmt='.2f', annot=True, linecolor='white', linewidths=0.01)\n",
    "plt.title('Correlation')\n",
    "plt.show()"
   ]
  },
  {
   "cell_type": "code",
   "execution_count": null,
   "metadata": {},
   "outputs": [],
   "source": []
  },
  {
   "cell_type": "code",
   "execution_count": null,
   "metadata": {},
   "outputs": [],
   "source": []
  },
  {
   "cell_type": "code",
   "execution_count": null,
   "metadata": {},
   "outputs": [],
   "source": []
  },
  {
   "cell_type": "code",
   "execution_count": null,
   "metadata": {},
   "outputs": [],
   "source": []
  },
  {
   "cell_type": "code",
   "execution_count": null,
   "metadata": {},
   "outputs": [],
   "source": [
    "X = Covid_df_new.drop([\"SARS-Cov-2 exam result\",\"Patient ID\"],axis = 1)\n",
    "Y = Covid_df_new[\"SARS-Cov-2 exam result\"]"
   ]
  },
  {
   "cell_type": "markdown",
   "metadata": {},
   "source": [
    "Feature selection to improve accuracy"
   ]
  },
  {
   "cell_type": "code",
   "execution_count": null,
   "metadata": {},
   "outputs": [],
   "source": [
    "from sklearn.ensemble import ExtraTreesClassifier\n",
    "import matplotlib.pyplot as plt\n",
    "model = ExtraTreesClassifier()\n",
    "model.fit(X,Y)"
   ]
  },
  {
   "cell_type": "code",
   "execution_count": null,
   "metadata": {},
   "outputs": [],
   "source": [
    "#plot graph of feature importances for better visualization\n",
    "feat_importances = pd.Series(model.feature_importances_, index=X.columns)\n",
    "feat_importances.\n",
    "plt.show()"
   ]
  },
  {
   "cell_type": "markdown",
   "metadata": {},
   "source": [
    "# Inference\n",
    "\n",
    "There are Total of 558 Postive case and 5086 negative case . we have many miisng values and to handle it let create datset for positive and negative seperatly and handle it "
   ]
  },
  {
   "cell_type": "code",
   "execution_count": null,
   "metadata": {},
   "outputs": [],
   "source": [
    "Covid_Postive_df=Covid_df[Covid_df['SARS-Cov-2 exam result'] == 1]"
   ]
  },
  {
   "cell_type": "code",
   "execution_count": null,
   "metadata": {},
   "outputs": [],
   "source": [
    "Covid_Postive_df.shape"
   ]
  },
  {
   "cell_type": "code",
   "execution_count": null,
   "metadata": {},
   "outputs": [],
   "source": [
    "Covid_Postive_df.isnull().sum()"
   ]
  },
  {
   "cell_type": "code",
   "execution_count": null,
   "metadata": {},
   "outputs": [],
   "source": [
    "Covid_Postive_df.shape"
   ]
  },
  {
   "cell_type": "code",
   "execution_count": null,
   "metadata": {},
   "outputs": [],
   "source": [
    "Covid_Neative_df=Covid_df[Covid_df['SARS-Cov-2 exam result'] == 0]"
   ]
  },
  {
   "cell_type": "code",
   "execution_count": null,
   "metadata": {},
   "outputs": [],
   "source": [
    "Covid_Neative_df.shape"
   ]
  },
  {
   "cell_type": "code",
   "execution_count": null,
   "metadata": {},
   "outputs": [],
   "source": []
  }
 ],
 "metadata": {
  "kernelspec": {
   "display_name": "Python 3",
   "language": "python",
   "name": "python3"
  },
  "language_info": {
   "codemirror_mode": {
    "name": "ipython",
    "version": 3
   },
   "file_extension": ".py",
   "mimetype": "text/x-python",
   "name": "python",
   "nbconvert_exporter": "python",
   "pygments_lexer": "ipython3",
   "version": "3.7.3"
  }
 },
 "nbformat": 4,
 "nbformat_minor": 2
}
